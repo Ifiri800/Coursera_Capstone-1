{
 "cells": [
  {
   "cell_type": "markdown",
   "metadata": {},
   "source": [
    "# Clustering and Segmenting Toronto Neighborhoods"
   ]
  },
  {
   "cell_type": "code",
   "execution_count": 22,
   "metadata": {},
   "outputs": [],
   "source": [
    "import pandas as pd\n",
    "import requests\n",
    "from bs4 import BeautifulSoup\n",
    "\n",
    "website_url = requests.get('https://en.wikipedia.org/wiki/List_of_postal_codes_of_Canada:_M').text\n",
    "soup = BeautifulSoup(website_url,'lxml')"
   ]
  },
  {
   "cell_type": "markdown",
   "metadata": {},
   "source": [
    "## Scrape wikipedia page for table Data"
   ]
  },
  {
   "cell_type": "code",
   "execution_count": 2,
   "metadata": {},
   "outputs": [],
   "source": [
    "my_table = soup.find('table',{'class':'wikitable sortable'})"
   ]
  },
  {
   "cell_type": "code",
   "execution_count": 3,
   "metadata": {},
   "outputs": [],
   "source": [
    "table_rows = my_table.findAll('tr')"
   ]
  },
  {
   "cell_type": "code",
   "execution_count": 4,
   "metadata": {},
   "outputs": [
    {
     "data": {
      "text/plain": [
       "['PostalCode', 'Borough', 'Neighborhood']"
      ]
     },
     "execution_count": 4,
     "metadata": {},
     "output_type": "execute_result"
    }
   ],
   "source": [
    "header = ['PostalCode', 'Borough', 'Neighborhood']\n",
    "header"
   ]
  },
  {
   "cell_type": "code",
   "execution_count": 5,
   "metadata": {},
   "outputs": [],
   "source": [
    "l = []\n",
    "for tr in table_rows:\n",
    "    td = tr.find_all('td')\n",
    "    row = [tr.text for tr in td]\n",
    "    l.append(row)\n",
    "neighborhoods = pd.DataFrame(l, columns=header)"
   ]
  },
  {
   "cell_type": "code",
   "execution_count": 6,
   "metadata": {},
   "outputs": [
    {
     "data": {
      "text/html": [
       "<div>\n",
       "<style scoped>\n",
       "    .dataframe tbody tr th:only-of-type {\n",
       "        vertical-align: middle;\n",
       "    }\n",
       "\n",
       "    .dataframe tbody tr th {\n",
       "        vertical-align: top;\n",
       "    }\n",
       "\n",
       "    .dataframe thead th {\n",
       "        text-align: right;\n",
       "    }\n",
       "</style>\n",
       "<table border=\"1\" class=\"dataframe\">\n",
       "  <thead>\n",
       "    <tr style=\"text-align: right;\">\n",
       "      <th></th>\n",
       "      <th>PostalCode</th>\n",
       "      <th>Borough</th>\n",
       "      <th>Neighborhood</th>\n",
       "    </tr>\n",
       "  </thead>\n",
       "  <tbody>\n",
       "    <tr>\n",
       "      <th>0</th>\n",
       "      <td>None</td>\n",
       "      <td>None</td>\n",
       "      <td>None</td>\n",
       "    </tr>\n",
       "    <tr>\n",
       "      <th>1</th>\n",
       "      <td>M1A\\n</td>\n",
       "      <td>Not assigned\\n</td>\n",
       "      <td>Not assigned\\n</td>\n",
       "    </tr>\n",
       "    <tr>\n",
       "      <th>2</th>\n",
       "      <td>M2A\\n</td>\n",
       "      <td>Not assigned\\n</td>\n",
       "      <td>Not assigned\\n</td>\n",
       "    </tr>\n",
       "    <tr>\n",
       "      <th>3</th>\n",
       "      <td>M3A\\n</td>\n",
       "      <td>North York\\n</td>\n",
       "      <td>Parkwoods\\n</td>\n",
       "    </tr>\n",
       "    <tr>\n",
       "      <th>4</th>\n",
       "      <td>M4A\\n</td>\n",
       "      <td>North York\\n</td>\n",
       "      <td>Victoria Village\\n</td>\n",
       "    </tr>\n",
       "  </tbody>\n",
       "</table>\n",
       "</div>"
      ],
      "text/plain": [
       "  PostalCode         Borough        Neighborhood\n",
       "0       None            None                None\n",
       "1      M1A\\n  Not assigned\\n      Not assigned\\n\n",
       "2      M2A\\n  Not assigned\\n      Not assigned\\n\n",
       "3      M3A\\n    North York\\n         Parkwoods\\n\n",
       "4      M4A\\n    North York\\n  Victoria Village\\n"
      ]
     },
     "execution_count": 6,
     "metadata": {},
     "output_type": "execute_result"
    }
   ],
   "source": [
    "neighborhoods.head()"
   ]
  },
  {
   "cell_type": "markdown",
   "metadata": {},
   "source": [
    "## Clean up data"
   ]
  },
  {
   "cell_type": "code",
   "execution_count": 7,
   "metadata": {},
   "outputs": [
    {
     "data": {
      "text/html": [
       "<div>\n",
       "<style scoped>\n",
       "    .dataframe tbody tr th:only-of-type {\n",
       "        vertical-align: middle;\n",
       "    }\n",
       "\n",
       "    .dataframe tbody tr th {\n",
       "        vertical-align: top;\n",
       "    }\n",
       "\n",
       "    .dataframe thead th {\n",
       "        text-align: right;\n",
       "    }\n",
       "</style>\n",
       "<table border=\"1\" class=\"dataframe\">\n",
       "  <thead>\n",
       "    <tr style=\"text-align: right;\">\n",
       "      <th></th>\n",
       "      <th>PostalCode</th>\n",
       "      <th>Borough</th>\n",
       "      <th>Neighborhood</th>\n",
       "    </tr>\n",
       "  </thead>\n",
       "  <tbody>\n",
       "    <tr>\n",
       "      <th>0</th>\n",
       "      <td>None</td>\n",
       "      <td>None</td>\n",
       "      <td>None</td>\n",
       "    </tr>\n",
       "    <tr>\n",
       "      <th>1</th>\n",
       "      <td>M1A\\n</td>\n",
       "      <td>Not assigned\\n</td>\n",
       "      <td>Not assigned</td>\n",
       "    </tr>\n",
       "    <tr>\n",
       "      <th>2</th>\n",
       "      <td>M2A\\n</td>\n",
       "      <td>Not assigned\\n</td>\n",
       "      <td>Not assigned</td>\n",
       "    </tr>\n",
       "    <tr>\n",
       "      <th>3</th>\n",
       "      <td>M3A\\n</td>\n",
       "      <td>North York\\n</td>\n",
       "      <td>Parkwoods</td>\n",
       "    </tr>\n",
       "    <tr>\n",
       "      <th>4</th>\n",
       "      <td>M4A\\n</td>\n",
       "      <td>North York\\n</td>\n",
       "      <td>Victoria Village</td>\n",
       "    </tr>\n",
       "  </tbody>\n",
       "</table>\n",
       "</div>"
      ],
      "text/plain": [
       "  PostalCode         Borough      Neighborhood\n",
       "0       None            None              None\n",
       "1      M1A\\n  Not assigned\\n      Not assigned\n",
       "2      M2A\\n  Not assigned\\n      Not assigned\n",
       "3      M3A\\n    North York\\n         Parkwoods\n",
       "4      M4A\\n    North York\\n  Victoria Village"
      ]
     },
     "execution_count": 7,
     "metadata": {},
     "output_type": "execute_result"
    }
   ],
   "source": [
    "# Remove newlines in Neighborhood column\n",
    "neighborhoods['Neighborhood'] = neighborhoods['Neighborhood'].str.replace('\\n', '')\n",
    "neighborhoods.head(5)"
   ]
  },
  {
   "cell_type": "code",
   "execution_count": 8,
   "metadata": {},
   "outputs": [
    {
     "data": {
      "text/html": [
       "<div>\n",
       "<style scoped>\n",
       "    .dataframe tbody tr th:only-of-type {\n",
       "        vertical-align: middle;\n",
       "    }\n",
       "\n",
       "    .dataframe tbody tr th {\n",
       "        vertical-align: top;\n",
       "    }\n",
       "\n",
       "    .dataframe thead th {\n",
       "        text-align: right;\n",
       "    }\n",
       "</style>\n",
       "<table border=\"1\" class=\"dataframe\">\n",
       "  <thead>\n",
       "    <tr style=\"text-align: right;\">\n",
       "      <th></th>\n",
       "      <th>PostalCode</th>\n",
       "      <th>Borough</th>\n",
       "      <th>Neighborhood</th>\n",
       "    </tr>\n",
       "  </thead>\n",
       "  <tbody>\n",
       "    <tr>\n",
       "      <th>0</th>\n",
       "      <td>None</td>\n",
       "      <td>None</td>\n",
       "      <td>None</td>\n",
       "    </tr>\n",
       "    <tr>\n",
       "      <th>1</th>\n",
       "      <td>M1A\\n</td>\n",
       "      <td>Not assigned\\n</td>\n",
       "      <td>None</td>\n",
       "    </tr>\n",
       "    <tr>\n",
       "      <th>2</th>\n",
       "      <td>M2A\\n</td>\n",
       "      <td>Not assigned\\n</td>\n",
       "      <td>None</td>\n",
       "    </tr>\n",
       "    <tr>\n",
       "      <th>3</th>\n",
       "      <td>M3A\\n</td>\n",
       "      <td>North York\\n</td>\n",
       "      <td>Parkwoods</td>\n",
       "    </tr>\n",
       "    <tr>\n",
       "      <th>4</th>\n",
       "      <td>M4A\\n</td>\n",
       "      <td>North York\\n</td>\n",
       "      <td>Victoria Village</td>\n",
       "    </tr>\n",
       "  </tbody>\n",
       "</table>\n",
       "</div>"
      ],
      "text/plain": [
       "  PostalCode         Borough      Neighborhood\n",
       "0       None            None              None\n",
       "1      M1A\\n  Not assigned\\n              None\n",
       "2      M2A\\n  Not assigned\\n              None\n",
       "3      M3A\\n    North York\\n         Parkwoods\n",
       "4      M4A\\n    North York\\n  Victoria Village"
      ]
     },
     "execution_count": 8,
     "metadata": {},
     "output_type": "execute_result"
    }
   ],
   "source": [
    "# Change all the unknowns to a common value\n",
    "neighborhoods = neighborhoods.replace('Not assigned', None)\n",
    "neighborhoods.head()"
   ]
  },
  {
   "cell_type": "code",
   "execution_count": 9,
   "metadata": {},
   "outputs": [
    {
     "data": {
      "text/html": [
       "<div>\n",
       "<style scoped>\n",
       "    .dataframe tbody tr th:only-of-type {\n",
       "        vertical-align: middle;\n",
       "    }\n",
       "\n",
       "    .dataframe tbody tr th {\n",
       "        vertical-align: top;\n",
       "    }\n",
       "\n",
       "    .dataframe thead th {\n",
       "        text-align: right;\n",
       "    }\n",
       "</style>\n",
       "<table border=\"1\" class=\"dataframe\">\n",
       "  <thead>\n",
       "    <tr style=\"text-align: right;\">\n",
       "      <th></th>\n",
       "      <th>PostalCode</th>\n",
       "      <th>Borough</th>\n",
       "      <th>Neighborhood</th>\n",
       "    </tr>\n",
       "  </thead>\n",
       "  <tbody>\n",
       "    <tr>\n",
       "      <th>0</th>\n",
       "      <td>None</td>\n",
       "      <td>None</td>\n",
       "      <td>None</td>\n",
       "    </tr>\n",
       "    <tr>\n",
       "      <th>1</th>\n",
       "      <td>M1A\\n</td>\n",
       "      <td>Not assigned\\n</td>\n",
       "      <td>Not assigned\\n</td>\n",
       "    </tr>\n",
       "    <tr>\n",
       "      <th>2</th>\n",
       "      <td>M2A\\n</td>\n",
       "      <td>Not assigned\\n</td>\n",
       "      <td>Not assigned\\n</td>\n",
       "    </tr>\n",
       "    <tr>\n",
       "      <th>3</th>\n",
       "      <td>M3A\\n</td>\n",
       "      <td>North York\\n</td>\n",
       "      <td>Parkwoods</td>\n",
       "    </tr>\n",
       "    <tr>\n",
       "      <th>4</th>\n",
       "      <td>M4A\\n</td>\n",
       "      <td>North York\\n</td>\n",
       "      <td>Victoria Village</td>\n",
       "    </tr>\n",
       "  </tbody>\n",
       "</table>\n",
       "</div>"
      ],
      "text/plain": [
       "  PostalCode         Borough      Neighborhood\n",
       "0       None            None              None\n",
       "1      M1A\\n  Not assigned\\n    Not assigned\\n\n",
       "2      M2A\\n  Not assigned\\n    Not assigned\\n\n",
       "3      M3A\\n    North York\\n         Parkwoods\n",
       "4      M4A\\n    North York\\n  Victoria Village"
      ]
     },
     "execution_count": 9,
     "metadata": {},
     "output_type": "execute_result"
    }
   ],
   "source": [
    "# Assign all unknown Neighborhood's with the Borough Value\n",
    "neighborhoods['Neighborhood'].fillna(neighborhoods['Borough'], inplace=True)\n",
    "neighborhoods.head()"
   ]
  },
  {
   "cell_type": "code",
   "execution_count": 10,
   "metadata": {},
   "outputs": [
    {
     "data": {
      "text/html": [
       "<div>\n",
       "<style scoped>\n",
       "    .dataframe tbody tr th:only-of-type {\n",
       "        vertical-align: middle;\n",
       "    }\n",
       "\n",
       "    .dataframe tbody tr th {\n",
       "        vertical-align: top;\n",
       "    }\n",
       "\n",
       "    .dataframe thead th {\n",
       "        text-align: right;\n",
       "    }\n",
       "</style>\n",
       "<table border=\"1\" class=\"dataframe\">\n",
       "  <thead>\n",
       "    <tr style=\"text-align: right;\">\n",
       "      <th></th>\n",
       "      <th>PostalCode</th>\n",
       "      <th>Borough</th>\n",
       "      <th>Neighborhood</th>\n",
       "    </tr>\n",
       "  </thead>\n",
       "  <tbody>\n",
       "    <tr>\n",
       "      <th>1</th>\n",
       "      <td>M1A\\n</td>\n",
       "      <td>Not assigned\\n</td>\n",
       "      <td>Not assigned\\n</td>\n",
       "    </tr>\n",
       "    <tr>\n",
       "      <th>2</th>\n",
       "      <td>M2A\\n</td>\n",
       "      <td>Not assigned\\n</td>\n",
       "      <td>Not assigned\\n</td>\n",
       "    </tr>\n",
       "    <tr>\n",
       "      <th>3</th>\n",
       "      <td>M3A\\n</td>\n",
       "      <td>North York\\n</td>\n",
       "      <td>Parkwoods</td>\n",
       "    </tr>\n",
       "    <tr>\n",
       "      <th>4</th>\n",
       "      <td>M4A\\n</td>\n",
       "      <td>North York\\n</td>\n",
       "      <td>Victoria Village</td>\n",
       "    </tr>\n",
       "    <tr>\n",
       "      <th>5</th>\n",
       "      <td>M5A\\n</td>\n",
       "      <td>Downtown Toronto\\n</td>\n",
       "      <td>Regent Park, Harbourfront</td>\n",
       "    </tr>\n",
       "  </tbody>\n",
       "</table>\n",
       "</div>"
      ],
      "text/plain": [
       "  PostalCode             Borough               Neighborhood\n",
       "1      M1A\\n      Not assigned\\n             Not assigned\\n\n",
       "2      M2A\\n      Not assigned\\n             Not assigned\\n\n",
       "3      M3A\\n        North York\\n                  Parkwoods\n",
       "4      M4A\\n        North York\\n           Victoria Village\n",
       "5      M5A\\n  Downtown Toronto\\n  Regent Park, Harbourfront"
      ]
     },
     "execution_count": 10,
     "metadata": {},
     "output_type": "execute_result"
    }
   ],
   "source": [
    "# Drop all rows with unassigned Borough\n",
    "neighborhoods.dropna(how='any', axis='index', inplace=True)\n",
    "neighborhoods.head(5)"
   ]
  },
  {
   "cell_type": "code",
   "execution_count": 11,
   "metadata": {},
   "outputs": [
    {
     "data": {
      "text/html": [
       "<div>\n",
       "<style scoped>\n",
       "    .dataframe tbody tr th:only-of-type {\n",
       "        vertical-align: middle;\n",
       "    }\n",
       "\n",
       "    .dataframe tbody tr th {\n",
       "        vertical-align: top;\n",
       "    }\n",
       "\n",
       "    .dataframe thead th {\n",
       "        text-align: right;\n",
       "    }\n",
       "</style>\n",
       "<table border=\"1\" class=\"dataframe\">\n",
       "  <thead>\n",
       "    <tr style=\"text-align: right;\">\n",
       "      <th></th>\n",
       "      <th>PostalCode</th>\n",
       "      <th>Borough</th>\n",
       "      <th>Neighborhood</th>\n",
       "    </tr>\n",
       "  </thead>\n",
       "  <tbody>\n",
       "    <tr>\n",
       "      <th>0</th>\n",
       "      <td>M1A\\n</td>\n",
       "      <td>Not assigned\\n</td>\n",
       "      <td>Not assigned\\n</td>\n",
       "    </tr>\n",
       "    <tr>\n",
       "      <th>1</th>\n",
       "      <td>M1B\\n</td>\n",
       "      <td>Scarborough\\n</td>\n",
       "      <td>Malvern, Rouge</td>\n",
       "    </tr>\n",
       "    <tr>\n",
       "      <th>2</th>\n",
       "      <td>M1C\\n</td>\n",
       "      <td>Scarborough\\n</td>\n",
       "      <td>Rouge Hill, Port Union, Highland Creek</td>\n",
       "    </tr>\n",
       "    <tr>\n",
       "      <th>3</th>\n",
       "      <td>M1E\\n</td>\n",
       "      <td>Scarborough\\n</td>\n",
       "      <td>Guildwood, Morningside, West Hill</td>\n",
       "    </tr>\n",
       "    <tr>\n",
       "      <th>4</th>\n",
       "      <td>M1G\\n</td>\n",
       "      <td>Scarborough\\n</td>\n",
       "      <td>Woburn</td>\n",
       "    </tr>\n",
       "  </tbody>\n",
       "</table>\n",
       "</div>"
      ],
      "text/plain": [
       "  PostalCode         Borough                            Neighborhood\n",
       "0      M1A\\n  Not assigned\\n                          Not assigned\\n\n",
       "1      M1B\\n   Scarborough\\n                          Malvern, Rouge\n",
       "2      M1C\\n   Scarborough\\n  Rouge Hill, Port Union, Highland Creek\n",
       "3      M1E\\n   Scarborough\\n       Guildwood, Morningside, West Hill\n",
       "4      M1G\\n   Scarborough\\n                                  Woburn"
      ]
     },
     "execution_count": 11,
     "metadata": {},
     "output_type": "execute_result"
    }
   ],
   "source": [
    "# Group by Postal Code\n",
    "neighborhoods = neighborhoods.groupby(['PostalCode', 'Borough'])['Neighborhood'].apply(lambda x: ','.join(x.astype(str))).reset_index()\n",
    "neighborhoods.head()"
   ]
  },
  {
   "cell_type": "markdown",
   "metadata": {},
   "source": [
    "## Output Shape & Rows"
   ]
  },
  {
   "cell_type": "code",
   "execution_count": 12,
   "metadata": {},
   "outputs": [
    {
     "data": {
      "text/plain": [
       "(180, 3)"
      ]
     },
     "execution_count": 12,
     "metadata": {},
     "output_type": "execute_result"
    }
   ],
   "source": [
    "neighborhoods.shape"
   ]
  },
  {
   "cell_type": "code",
   "execution_count": 13,
   "metadata": {},
   "outputs": [
    {
     "data": {
      "text/html": [
       "<div>\n",
       "<style scoped>\n",
       "    .dataframe tbody tr th:only-of-type {\n",
       "        vertical-align: middle;\n",
       "    }\n",
       "\n",
       "    .dataframe tbody tr th {\n",
       "        vertical-align: top;\n",
       "    }\n",
       "\n",
       "    .dataframe thead th {\n",
       "        text-align: right;\n",
       "    }\n",
       "</style>\n",
       "<table border=\"1\" class=\"dataframe\">\n",
       "  <thead>\n",
       "    <tr style=\"text-align: right;\">\n",
       "      <th></th>\n",
       "      <th>PostalCode</th>\n",
       "      <th>Borough</th>\n",
       "      <th>Neighborhood</th>\n",
       "    </tr>\n",
       "  </thead>\n",
       "  <tbody>\n",
       "    <tr>\n",
       "      <th>0</th>\n",
       "      <td>M1A\\n</td>\n",
       "      <td>Not assigned\\n</td>\n",
       "      <td>Not assigned\\n</td>\n",
       "    </tr>\n",
       "    <tr>\n",
       "      <th>1</th>\n",
       "      <td>M1B\\n</td>\n",
       "      <td>Scarborough\\n</td>\n",
       "      <td>Malvern, Rouge</td>\n",
       "    </tr>\n",
       "    <tr>\n",
       "      <th>2</th>\n",
       "      <td>M1C\\n</td>\n",
       "      <td>Scarborough\\n</td>\n",
       "      <td>Rouge Hill, Port Union, Highland Creek</td>\n",
       "    </tr>\n",
       "    <tr>\n",
       "      <th>3</th>\n",
       "      <td>M1E\\n</td>\n",
       "      <td>Scarborough\\n</td>\n",
       "      <td>Guildwood, Morningside, West Hill</td>\n",
       "    </tr>\n",
       "    <tr>\n",
       "      <th>4</th>\n",
       "      <td>M1G\\n</td>\n",
       "      <td>Scarborough\\n</td>\n",
       "      <td>Woburn</td>\n",
       "    </tr>\n",
       "    <tr>\n",
       "      <th>...</th>\n",
       "      <td>...</td>\n",
       "      <td>...</td>\n",
       "      <td>...</td>\n",
       "    </tr>\n",
       "    <tr>\n",
       "      <th>175</th>\n",
       "      <td>M9V\\n</td>\n",
       "      <td>Etobicoke\\n</td>\n",
       "      <td>South Steeles, Silverstone, Humbergate, Jamest...</td>\n",
       "    </tr>\n",
       "    <tr>\n",
       "      <th>176</th>\n",
       "      <td>M9W\\n</td>\n",
       "      <td>Etobicoke\\n</td>\n",
       "      <td>Northwest, West Humber - Clairville</td>\n",
       "    </tr>\n",
       "    <tr>\n",
       "      <th>177</th>\n",
       "      <td>M9X\\n</td>\n",
       "      <td>Not assigned\\n</td>\n",
       "      <td>The Kingsway, Montgomery Road, Old Mill North</td>\n",
       "    </tr>\n",
       "    <tr>\n",
       "      <th>178</th>\n",
       "      <td>M9Y\\n</td>\n",
       "      <td>Not assigned\\n</td>\n",
       "      <td>Old Mill South, King's Mill Park, Sunnylea, Hu...</td>\n",
       "    </tr>\n",
       "    <tr>\n",
       "      <th>179</th>\n",
       "      <td>M9Z\\n</td>\n",
       "      <td>Not assigned\\n</td>\n",
       "      <td>Mimico NW, The Queensway West, South of Bloor,...</td>\n",
       "    </tr>\n",
       "  </tbody>\n",
       "</table>\n",
       "<p>180 rows × 3 columns</p>\n",
       "</div>"
      ],
      "text/plain": [
       "    PostalCode         Borough  \\\n",
       "0        M1A\\n  Not assigned\\n   \n",
       "1        M1B\\n   Scarborough\\n   \n",
       "2        M1C\\n   Scarborough\\n   \n",
       "3        M1E\\n   Scarborough\\n   \n",
       "4        M1G\\n   Scarborough\\n   \n",
       "..         ...             ...   \n",
       "175      M9V\\n     Etobicoke\\n   \n",
       "176      M9W\\n     Etobicoke\\n   \n",
       "177      M9X\\n  Not assigned\\n   \n",
       "178      M9Y\\n  Not assigned\\n   \n",
       "179      M9Z\\n  Not assigned\\n   \n",
       "\n",
       "                                          Neighborhood  \n",
       "0                                       Not assigned\\n  \n",
       "1                                       Malvern, Rouge  \n",
       "2               Rouge Hill, Port Union, Highland Creek  \n",
       "3                    Guildwood, Morningside, West Hill  \n",
       "4                                               Woburn  \n",
       "..                                                 ...  \n",
       "175  South Steeles, Silverstone, Humbergate, Jamest...  \n",
       "176                Northwest, West Humber - Clairville  \n",
       "177      The Kingsway, Montgomery Road, Old Mill North  \n",
       "178  Old Mill South, King's Mill Park, Sunnylea, Hu...  \n",
       "179  Mimico NW, The Queensway West, South of Bloor,...  \n",
       "\n",
       "[180 rows x 3 columns]"
      ]
     },
     "execution_count": 13,
     "metadata": {},
     "output_type": "execute_result"
    }
   ],
   "source": [
    "neighborhoods"
   ]
  },
  {
   "cell_type": "markdown",
   "metadata": {},
   "source": [
    "# Get Postal Code Coordinates"
   ]
  },
  {
   "cell_type": "markdown",
   "metadata": {},
   "source": [
    "### Coordinate Library is too unreliable, so code has been commented out"
   ]
  },
  {
   "cell_type": "code",
   "execution_count": 14,
   "metadata": {},
   "outputs": [
    {
     "name": "stdout",
     "output_type": "stream",
     "text": [
      "Requirement already up-to-date: geocoder in d:\\apps\\python38\\lib\\site-packages (1.38.1)\n",
      "Requirement already satisfied, skipping upgrade: click in d:\\apps\\python38\\lib\\site-packages (from geocoder) (7.1.2)\n",
      "Requirement already satisfied, skipping upgrade: ratelim in d:\\apps\\python38\\lib\\site-packages (from geocoder) (0.1.6)\n",
      "Requirement already satisfied, skipping upgrade: future in d:\\apps\\python38\\lib\\site-packages (from geocoder) (0.18.2)\n",
      "Requirement already satisfied, skipping upgrade: requests in d:\\apps\\python38\\lib\\site-packages (from geocoder) (2.24.0)\n",
      "Requirement already satisfied, skipping upgrade: six in d:\\apps\\python38\\lib\\site-packages (from geocoder) (1.15.0)\n",
      "Requirement already satisfied, skipping upgrade: decorator in d:\\apps\\python38\\lib\\site-packages (from ratelim->geocoder) (4.4.2)\n",
      "Requirement already satisfied, skipping upgrade: certifi>=2017.4.17 in d:\\apps\\python38\\lib\\site-packages (from requests->geocoder) (2020.6.20)\n",
      "Requirement already satisfied, skipping upgrade: urllib3!=1.25.0,!=1.25.1,<1.26,>=1.21.1 in d:\\apps\\python38\\lib\\site-packages (from requests->geocoder) (1.25.10)\n",
      "Requirement already satisfied, skipping upgrade: chardet<4,>=3.0.2 in d:\\apps\\python38\\lib\\site-packages (from requests->geocoder) (3.0.4)\n",
      "Requirement already satisfied, skipping upgrade: idna<3,>=2.5 in d:\\apps\\python38\\lib\\site-packages (from requests->geocoder) (2.10)\n",
      "Requirement already satisfied: geopy in d:\\apps\\python38\\lib\\site-packages (2.0.0)\n",
      "Requirement already satisfied: geographiclib<2,>=1.49 in d:\\apps\\python38\\lib\\site-packages (from geopy) (1.50)\n"
     ]
    }
   ],
   "source": [
    "!pip install --upgrade geocoder\n",
    "import geocoder\n",
    "\n",
    "!pip install geopy\n",
    "import geopy\n",
    "from geopy.geocoders import Nominatim # convert an address into latitude and longitude values\n",
    "\n",
    "# import requests # library to handle requests\n",
    "\n",
    "# Matplotlib and associated plotting modules\n",
    "import matplotlib.cm as cm\n",
    "import matplotlib.colors as colors\n",
    "\n",
    "# import k-means from clustering stage\n",
    "from sklearn.cluster import KMeans\n",
    "import folium # map rendering library\n",
    "\n",
    "from pandas.io.json import json_normalize # tranform JSON file into a pandas dataframe\n",
    "import json # library to handle JSON files"
   ]
  },
  {
   "cell_type": "markdown",
   "metadata": {},
   "source": [
    "### Using a csv file with the coordinates for Toronto Postal Codes"
   ]
  },
  {
   "cell_type": "code",
   "execution_count": 15,
   "metadata": {},
   "outputs": [
    {
     "data": {
      "text/html": [
       "<div>\n",
       "<style scoped>\n",
       "    .dataframe tbody tr th:only-of-type {\n",
       "        vertical-align: middle;\n",
       "    }\n",
       "\n",
       "    .dataframe tbody tr th {\n",
       "        vertical-align: top;\n",
       "    }\n",
       "\n",
       "    .dataframe thead th {\n",
       "        text-align: right;\n",
       "    }\n",
       "</style>\n",
       "<table border=\"1\" class=\"dataframe\">\n",
       "  <thead>\n",
       "    <tr style=\"text-align: right;\">\n",
       "      <th></th>\n",
       "      <th>Postal Code</th>\n",
       "      <th>Latitude</th>\n",
       "      <th>Longitude</th>\n",
       "    </tr>\n",
       "  </thead>\n",
       "  <tbody>\n",
       "    <tr>\n",
       "      <th>0</th>\n",
       "      <td>M1B</td>\n",
       "      <td>43.806686</td>\n",
       "      <td>-79.194353</td>\n",
       "    </tr>\n",
       "    <tr>\n",
       "      <th>1</th>\n",
       "      <td>M1C</td>\n",
       "      <td>43.784535</td>\n",
       "      <td>-79.160497</td>\n",
       "    </tr>\n",
       "    <tr>\n",
       "      <th>2</th>\n",
       "      <td>M1E</td>\n",
       "      <td>43.763573</td>\n",
       "      <td>-79.188711</td>\n",
       "    </tr>\n",
       "    <tr>\n",
       "      <th>3</th>\n",
       "      <td>M1G</td>\n",
       "      <td>43.770992</td>\n",
       "      <td>-79.216917</td>\n",
       "    </tr>\n",
       "    <tr>\n",
       "      <th>4</th>\n",
       "      <td>M1H</td>\n",
       "      <td>43.773136</td>\n",
       "      <td>-79.239476</td>\n",
       "    </tr>\n",
       "  </tbody>\n",
       "</table>\n",
       "</div>"
      ],
      "text/plain": [
       "  Postal Code   Latitude  Longitude\n",
       "0         M1B  43.806686 -79.194353\n",
       "1         M1C  43.784535 -79.160497\n",
       "2         M1E  43.763573 -79.188711\n",
       "3         M1G  43.770992 -79.216917\n",
       "4         M1H  43.773136 -79.239476"
      ]
     },
     "execution_count": 15,
     "metadata": {},
     "output_type": "execute_result"
    }
   ],
   "source": [
    "coordinates = pd.read_csv('Geospatial_Coordinates.csv')\n",
    "coordinates.head()"
   ]
  },
  {
   "cell_type": "code",
   "execution_count": 16,
   "metadata": {},
   "outputs": [],
   "source": [
    "# Merge coordinates with neighorhoods where the postalcodes match up\n",
    "neighborhoods = pd.merge(coordinates, neighborhoods, how='left', left_on=['Postal Code'], right_on=['PostalCode'])"
   ]
  },
  {
   "cell_type": "code",
   "execution_count": 17,
   "metadata": {},
   "outputs": [],
   "source": [
    "# Drop Duplicate Column\n",
    "neighborhoods.drop(['PostalCode'], axis=1, inplace=True)"
   ]
  },
  {
   "cell_type": "code",
   "execution_count": 18,
   "metadata": {},
   "outputs": [
    {
     "data": {
      "text/html": [
       "<div>\n",
       "<style scoped>\n",
       "    .dataframe tbody tr th:only-of-type {\n",
       "        vertical-align: middle;\n",
       "    }\n",
       "\n",
       "    .dataframe tbody tr th {\n",
       "        vertical-align: top;\n",
       "    }\n",
       "\n",
       "    .dataframe thead th {\n",
       "        text-align: right;\n",
       "    }\n",
       "</style>\n",
       "<table border=\"1\" class=\"dataframe\">\n",
       "  <thead>\n",
       "    <tr style=\"text-align: right;\">\n",
       "      <th></th>\n",
       "      <th>Postal Code</th>\n",
       "      <th>Latitude</th>\n",
       "      <th>Longitude</th>\n",
       "      <th>Borough</th>\n",
       "      <th>Neighborhood</th>\n",
       "    </tr>\n",
       "  </thead>\n",
       "  <tbody>\n",
       "    <tr>\n",
       "      <th>0</th>\n",
       "      <td>M1B</td>\n",
       "      <td>43.806686</td>\n",
       "      <td>-79.194353</td>\n",
       "      <td>NaN</td>\n",
       "      <td>NaN</td>\n",
       "    </tr>\n",
       "    <tr>\n",
       "      <th>1</th>\n",
       "      <td>M1C</td>\n",
       "      <td>43.784535</td>\n",
       "      <td>-79.160497</td>\n",
       "      <td>NaN</td>\n",
       "      <td>NaN</td>\n",
       "    </tr>\n",
       "    <tr>\n",
       "      <th>2</th>\n",
       "      <td>M1E</td>\n",
       "      <td>43.763573</td>\n",
       "      <td>-79.188711</td>\n",
       "      <td>NaN</td>\n",
       "      <td>NaN</td>\n",
       "    </tr>\n",
       "    <tr>\n",
       "      <th>3</th>\n",
       "      <td>M1G</td>\n",
       "      <td>43.770992</td>\n",
       "      <td>-79.216917</td>\n",
       "      <td>NaN</td>\n",
       "      <td>NaN</td>\n",
       "    </tr>\n",
       "    <tr>\n",
       "      <th>4</th>\n",
       "      <td>M1H</td>\n",
       "      <td>43.773136</td>\n",
       "      <td>-79.239476</td>\n",
       "      <td>NaN</td>\n",
       "      <td>NaN</td>\n",
       "    </tr>\n",
       "  </tbody>\n",
       "</table>\n",
       "</div>"
      ],
      "text/plain": [
       "  Postal Code   Latitude  Longitude Borough Neighborhood\n",
       "0         M1B  43.806686 -79.194353     NaN          NaN\n",
       "1         M1C  43.784535 -79.160497     NaN          NaN\n",
       "2         M1E  43.763573 -79.188711     NaN          NaN\n",
       "3         M1G  43.770992 -79.216917     NaN          NaN\n",
       "4         M1H  43.773136 -79.239476     NaN          NaN"
      ]
     },
     "execution_count": 18,
     "metadata": {},
     "output_type": "execute_result"
    }
   ],
   "source": [
    "neighborhoods.head()"
   ]
  },
  {
   "cell_type": "markdown",
   "metadata": {},
   "source": [
    "## Lets map Toronto to see what the neighborhoods look like:"
   ]
  },
  {
   "cell_type": "code",
   "execution_count": 19,
   "metadata": {},
   "outputs": [],
   "source": [
    "def generate_map(dataframe, longitude, latitude):\n",
    "        map = folium.Map(location=[latitude, longitude], zoom_start=11)\n",
    "\n",
    "        # add markers to map\n",
    "        for lat, lng, borough, neighborhood in zip(dataframe['Latitude'], dataframe['Longitude'], dataframe['Borough'], dataframe['Neighborhood']):\n",
    "            label = '{}, {}'.format(neighborhood, borough)\n",
    "            label = folium.Popup(label, parse_html=True)\n",
    "            folium.CircleMarker(\n",
    "                [lat, lng],\n",
    "                radius=5,\n",
    "                popup=label,\n",
    "                color='blue',\n",
    "                fill=True,\n",
    "                fill_color='#3186cc',\n",
    "                fill_opacity=0.7,\n",
    "                parse_html=False).add_to(map)  \n",
    "            \n",
    "        return map"
   ]
  },
  {
   "cell_type": "code",
   "execution_count": 20,
   "metadata": {},
   "outputs": [
    {
     "data": {
      "text/html": [
       "<div style=\"width:100%;\"><div style=\"position:relative;width:100%;height:0;padding-bottom:60%;\"><span style=\"color:#565656\">Make this Notebook Trusted to load map: File -> Trust Notebook</span><iframe src=\"about:blank\" style=\"position:absolute;width:100%;height:100%;left:0;top:0;border:none !important;\" data-html=PCFET0NUWVBFIGh0bWw+CjxoZWFkPiAgICAKICAgIDxtZXRhIGh0dHAtZXF1aXY9ImNvbnRlbnQtdHlwZSIgY29udGVudD0idGV4dC9odG1sOyBjaGFyc2V0PVVURi04IiAvPgogICAgCiAgICAgICAgPHNjcmlwdD4KICAgICAgICAgICAgTF9OT19UT1VDSCA9IGZhbHNlOwogICAgICAgICAgICBMX0RJU0FCTEVfM0QgPSBmYWxzZTsKICAgICAgICA8L3NjcmlwdD4KICAgIAogICAgPHNjcmlwdCBzcmM9Imh0dHBzOi8vY2RuLmpzZGVsaXZyLm5ldC9ucG0vbGVhZmxldEAxLjYuMC9kaXN0L2xlYWZsZXQuanMiPjwvc2NyaXB0PgogICAgPHNjcmlwdCBzcmM9Imh0dHBzOi8vY29kZS5qcXVlcnkuY29tL2pxdWVyeS0xLjEyLjQubWluLmpzIj48L3NjcmlwdD4KICAgIDxzY3JpcHQgc3JjPSJodHRwczovL21heGNkbi5ib290c3RyYXBjZG4uY29tL2Jvb3RzdHJhcC8zLjIuMC9qcy9ib290c3RyYXAubWluLmpzIj48L3NjcmlwdD4KICAgIDxzY3JpcHQgc3JjPSJodHRwczovL2NkbmpzLmNsb3VkZmxhcmUuY29tL2FqYXgvbGlicy9MZWFmbGV0LmF3ZXNvbWUtbWFya2Vycy8yLjAuMi9sZWFmbGV0LmF3ZXNvbWUtbWFya2Vycy5qcyI+PC9zY3JpcHQ+CiAgICA8bGluayByZWw9InN0eWxlc2hlZXQiIGhyZWY9Imh0dHBzOi8vY2RuLmpzZGVsaXZyLm5ldC9ucG0vbGVhZmxldEAxLjYuMC9kaXN0L2xlYWZsZXQuY3NzIi8+CiAgICA8bGluayByZWw9InN0eWxlc2hlZXQiIGhyZWY9Imh0dHBzOi8vbWF4Y2RuLmJvb3RzdHJhcGNkbi5jb20vYm9vdHN0cmFwLzMuMi4wL2Nzcy9ib290c3RyYXAubWluLmNzcyIvPgogICAgPGxpbmsgcmVsPSJzdHlsZXNoZWV0IiBocmVmPSJodHRwczovL21heGNkbi5ib290c3RyYXBjZG4uY29tL2Jvb3RzdHJhcC8zLjIuMC9jc3MvYm9vdHN0cmFwLXRoZW1lLm1pbi5jc3MiLz4KICAgIDxsaW5rIHJlbD0ic3R5bGVzaGVldCIgaHJlZj0iaHR0cHM6Ly9tYXhjZG4uYm9vdHN0cmFwY2RuLmNvbS9mb250LWF3ZXNvbWUvNC42LjMvY3NzL2ZvbnQtYXdlc29tZS5taW4uY3NzIi8+CiAgICA8bGluayByZWw9InN0eWxlc2hlZXQiIGhyZWY9Imh0dHBzOi8vY2RuanMuY2xvdWRmbGFyZS5jb20vYWpheC9saWJzL0xlYWZsZXQuYXdlc29tZS1tYXJrZXJzLzIuMC4yL2xlYWZsZXQuYXdlc29tZS1tYXJrZXJzLmNzcyIvPgogICAgPGxpbmsgcmVsPSJzdHlsZXNoZWV0IiBocmVmPSJodHRwczovL3Jhd2Nkbi5naXRoYWNrLmNvbS9weXRob24tdmlzdWFsaXphdGlvbi9mb2xpdW0vbWFzdGVyL2ZvbGl1bS90ZW1wbGF0ZXMvbGVhZmxldC5hd2Vzb21lLnJvdGF0ZS5jc3MiLz4KICAgIDxzdHlsZT5odG1sLCBib2R5IHt3aWR0aDogMTAwJTtoZWlnaHQ6IDEwMCU7bWFyZ2luOiAwO3BhZGRpbmc6IDA7fTwvc3R5bGU+CiAgICA8c3R5bGU+I21hcCB7cG9zaXRpb246YWJzb2x1dGU7dG9wOjA7Ym90dG9tOjA7cmlnaHQ6MDtsZWZ0OjA7fTwvc3R5bGU+CiAgICAKICAgICAgICAgICAgPG1ldGEgbmFtZT0idmlld3BvcnQiIGNvbnRlbnQ9IndpZHRoPWRldmljZS13aWR0aCwKICAgICAgICAgICAgICAgIGluaXRpYWwtc2NhbGU9MS4wLCBtYXhpbXVtLXNjYWxlPTEuMCwgdXNlci1zY2FsYWJsZT1ubyIgLz4KICAgICAgICAgICAgPHN0eWxlPgogICAgICAgICAgICAgICAgI21hcF81NDI4MjgyMmFmYjg0MTNmOWU3NDEzYTdiMTE5NjEwYSB7CiAgICAgICAgICAgICAgICAgICAgcG9zaXRpb246IHJlbGF0aXZlOwogICAgICAgICAgICAgICAgICAgIHdpZHRoOiAxMDAuMCU7CiAgICAgICAgICAgICAgICAgICAgaGVpZ2h0OiAxMDAuMCU7CiAgICAgICAgICAgICAgICAgICAgbGVmdDogMC4wJTsKICAgICAgICAgICAgICAgICAgICB0b3A6IDAuMCU7CiAgICAgICAgICAgICAgICB9CiAgICAgICAgICAgIDwvc3R5bGU+CiAgICAgICAgCjwvaGVhZD4KPGJvZHk+ICAgIAogICAgCiAgICAgICAgICAgIDxkaXYgY2xhc3M9ImZvbGl1bS1tYXAiIGlkPSJtYXBfNTQyODI4MjJhZmI4NDEzZjllNzQxM2E3YjExOTYxMGEiID48L2Rpdj4KICAgICAgICAKPC9ib2R5Pgo8c2NyaXB0PiAgICAKICAgIAogICAgICAgICAgICB2YXIgbWFwXzU0MjgyODIyYWZiODQxM2Y5ZTc0MTNhN2IxMTk2MTBhID0gTC5tYXAoCiAgICAgICAgICAgICAgICAibWFwXzU0MjgyODIyYWZiODQxM2Y5ZTc0MTNhN2IxMTk2MTBhIiwKICAgICAgICAgICAgICAgIHsKICAgICAgICAgICAgICAgICAgICBjZW50ZXI6IFs0My43MiwgLTc5LjM0N10sCiAgICAgICAgICAgICAgICAgICAgY3JzOiBMLkNSUy5FUFNHMzg1NywKICAgICAgICAgICAgICAgICAgICB6b29tOiAxMSwKICAgICAgICAgICAgICAgICAgICB6b29tQ29udHJvbDogdHJ1ZSwKICAgICAgICAgICAgICAgICAgICBwcmVmZXJDYW52YXM6IGZhbHNlLAogICAgICAgICAgICAgICAgfQogICAgICAgICAgICApOwoKICAgICAgICAgICAgCgogICAgICAgIAogICAgCiAgICAgICAgICAgIHZhciB0aWxlX2xheWVyX2VmYjJkNGUyYWJlNzQzYjM4ZDM2OTYwOGVlYTU2YjM5ID0gTC50aWxlTGF5ZXIoCiAgICAgICAgICAgICAgICAiaHR0cHM6Ly97c30udGlsZS5vcGVuc3RyZWV0bWFwLm9yZy97en0ve3h9L3t5fS5wbmciLAogICAgICAgICAgICAgICAgeyJhdHRyaWJ1dGlvbiI6ICJEYXRhIGJ5IFx1MDAyNmNvcHk7IFx1MDAzY2EgaHJlZj1cImh0dHA6Ly9vcGVuc3RyZWV0bWFwLm9yZ1wiXHUwMDNlT3BlblN0cmVldE1hcFx1MDAzYy9hXHUwMDNlLCB1bmRlciBcdTAwM2NhIGhyZWY9XCJodHRwOi8vd3d3Lm9wZW5zdHJlZXRtYXAub3JnL2NvcHlyaWdodFwiXHUwMDNlT0RiTFx1MDAzYy9hXHUwMDNlLiIsICJkZXRlY3RSZXRpbmEiOiBmYWxzZSwgIm1heE5hdGl2ZVpvb20iOiAxOCwgIm1heFpvb20iOiAxOCwgIm1pblpvb20iOiAwLCAibm9XcmFwIjogZmFsc2UsICJvcGFjaXR5IjogMSwgInN1YmRvbWFpbnMiOiAiYWJjIiwgInRtcyI6IGZhbHNlfQogICAgICAgICAgICApLmFkZFRvKG1hcF81NDI4MjgyMmFmYjg0MTNmOWU3NDEzYTdiMTE5NjEwYSk7CiAgICAgICAgCiAgICAKICAgICAgICAgICAgdmFyIGNpcmNsZV9tYXJrZXJfN2ZkNDllZDEwMTNlNDZiZDkxYjE5N2ZjZDcyNTRiZWEgPSBMLmNpcmNsZU1hcmtlcigKICAgICAgICAgICAgICAgIFs0My44MDY2ODYyOTk5OTk5OTYsIC03OS4xOTQzNTM0MDAwMDAwMV0sCiAgICAgICAgICAgICAgICB7ImJ1YmJsaW5nTW91c2VFdmVudHMiOiB0cnVlLCAiY29sb3IiOiAiYmx1ZSIsICJkYXNoQXJyYXkiOiBudWxsLCAiZGFzaE9mZnNldCI6IG51bGwsICJmaWxsIjogdHJ1ZSwgImZpbGxDb2xvciI6ICIjMzE4NmNjIiwgImZpbGxPcGFjaXR5IjogMC43LCAiZmlsbFJ1bGUiOiAiZXZlbm9kZCIsICJsaW5lQ2FwIjogInJvdW5kIiwgImxpbmVKb2luIjogInJvdW5kIiwgIm9wYWNpdHkiOiAxLjAsICJyYWRpdXMiOiA1LCAic3Ryb2tlIjogdHJ1ZSwgIndlaWdodCI6IDN9CiAgICAgICAgICAgICkuYWRkVG8obWFwXzU0MjgyODIyYWZiODQxM2Y5ZTc0MTNhN2IxMTk2MTBhKTsKICAgICAgICAKICAgIAogICAgICAgIHZhciBwb3B1cF82ZWY3NTFmMzdiODA0ZTg5ODhmNGZjZTBiYmYwYjNhMCA9IEwucG9wdXAoeyJtYXhXaWR0aCI6ICIxMDAlIn0pOwoKICAgICAgICAKICAgICAgICAgICAgdmFyIGh0bWxfOGFhZTUxYTdmNDJhNGJjODkyOTcyMDI5MzQ2MThiNDIgPSAkKGA8ZGl2IGlkPSJodG1sXzhhYWU1MWE3ZjQyYTRiYzg5Mjk3MjAyOTM0NjE4YjQyIiBzdHlsZT0id2lkdGg6IDEwMC4wJTsgaGVpZ2h0OiAxMDAuMCU7Ij5uYW4sIG5hbjwvZGl2PmApWzBdOwogICAgICAgICAgICBwb3B1cF82ZWY3NTFmMzdiODA0ZTg5ODhmNGZjZTBiYmYwYjNhMC5zZXRDb250ZW50KGh0bWxfOGFhZTUxYTdmNDJhNGJjODkyOTcyMDI5MzQ2MThiNDIpOwogICAgICAgIAoKICAgICAgICBjaXJjbGVfbWFya2VyXzdmZDQ5ZWQxMDEzZTQ2YmQ5MWIxOTdmY2Q3MjU0YmVhLmJpbmRQb3B1cChwb3B1cF82ZWY3NTFmMzdiODA0ZTg5ODhmNGZjZTBiYmYwYjNhMCkKICAgICAgICA7CgogICAgICAgIAogICAgCiAgICAKICAgICAgICAgICAgdmFyIGNpcmNsZV9tYXJrZXJfMzYyYWZmNGNhNmMzNDUzY2EzZmQyMjhiNGU4NmM5MzcgPSBMLmNpcmNsZU1hcmtlcigKICAgICAgICAgICAgICAgIFs0My43ODQ1MzUxLCAtNzkuMTYwNDk3MDk5OTk5OTldLAogICAgICAgICAgICAgICAgeyJidWJibGluZ01vdXNlRXZlbnRzIjogdHJ1ZSwgImNvbG9yIjogImJsdWUiLCAiZGFzaEFycmF5IjogbnVsbCwgImRhc2hPZmZzZXQiOiBudWxsLCAiZmlsbCI6IHRydWUsICJmaWxsQ29sb3IiOiAiIzMxODZjYyIsICJmaWxsT3BhY2l0eSI6IDAuNywgImZpbGxSdWxlIjogImV2ZW5vZGQiLCAibGluZUNhcCI6ICJyb3VuZCIsICJsaW5lSm9pbiI6ICJyb3VuZCIsICJvcGFjaXR5IjogMS4wLCAicmFkaXVzIjogNSwgInN0cm9rZSI6IHRydWUsICJ3ZWlnaHQiOiAzfQogICAgICAgICAgICApLmFkZFRvKG1hcF81NDI4MjgyMmFmYjg0MTNmOWU3NDEzYTdiMTE5NjEwYSk7CiAgICAgICAgCiAgICAKICAgICAgICB2YXIgcG9wdXBfZWYzY2VhZmRlY2RlNDYyNGJmMDFkMWI0MDIzZWRlN2UgPSBMLnBvcHVwKHsibWF4V2lkdGgiOiAiMTAwJSJ9KTsKCiAgICAgICAgCiAgICAgICAgICAgIHZhciBodG1sX2VmNzgzZGQ5ZDQ2YjRhMGNhNjY5MjcwZTExNGU4Y2I5ID0gJChgPGRpdiBpZD0iaHRtbF9lZjc4M2RkOWQ0NmI0YTBjYTY2OTI3MGUxMTRlOGNiOSIgc3R5bGU9IndpZHRoOiAxMDAuMCU7IGhlaWdodDogMTAwLjAlOyI+bmFuLCBuYW48L2Rpdj5gKVswXTsKICAgICAgICAgICAgcG9wdXBfZWYzY2VhZmRlY2RlNDYyNGJmMDFkMWI0MDIzZWRlN2Uuc2V0Q29udGVudChodG1sX2VmNzgzZGQ5ZDQ2YjRhMGNhNjY5MjcwZTExNGU4Y2I5KTsKICAgICAgICAKCiAgICAgICAgY2lyY2xlX21hcmtlcl8zNjJhZmY0Y2E2YzM0NTNjYTNmZDIyOGI0ZTg2YzkzNy5iaW5kUG9wdXAocG9wdXBfZWYzY2VhZmRlY2RlNDYyNGJmMDFkMWI0MDIzZWRlN2UpCiAgICAgICAgOwoKICAgICAgICAKICAgIAogICAgCiAgICAgICAgICAgIHZhciBjaXJjbGVfbWFya2VyXzg3NzljOGY2YzNkZjQ3ZGE5NjM5ZGFhZDg4ZDM1NjcxID0gTC5jaXJjbGVNYXJrZXIoCiAgICAgICAgICAgICAgICBbNDMuNzYzNTcyNiwgLTc5LjE4ODcxMTVdLAogICAgICAgICAgICAgICAgeyJidWJibGluZ01vdXNlRXZlbnRzIjogdHJ1ZSwgImNvbG9yIjogImJsdWUiLCAiZGFzaEFycmF5IjogbnVsbCwgImRhc2hPZmZzZXQiOiBudWxsLCAiZmlsbCI6IHRydWUsICJmaWxsQ29sb3IiOiAiIzMxODZjYyIsICJmaWxsT3BhY2l0eSI6IDAuNywgImZpbGxSdWxlIjogImV2ZW5vZGQiLCAibGluZUNhcCI6ICJyb3VuZCIsICJsaW5lSm9pbiI6ICJyb3VuZCIsICJvcGFjaXR5IjogMS4wLCAicmFkaXVzIjogNSwgInN0cm9rZSI6IHRydWUsICJ3ZWlnaHQiOiAzfQogICAgICAgICAgICApLmFkZFRvKG1hcF81NDI4MjgyMmFmYjg0MTNmOWU3NDEzYTdiMTE5NjEwYSk7CiAgICAgICAgCiAgICAKICAgICAgICB2YXIgcG9wdXBfYmIwOWRiYjY5ZTY3NDY4YmI3ODdjOWNmYzJkYzFlM2UgPSBMLnBvcHVwKHsibWF4V2lkdGgiOiAiMTAwJSJ9KTsKCiAgICAgICAgCiAgICAgICAgICAgIHZhciBodG1sXzZiNmFkOGNiOTJmZDQyYWQ5NzkwZDAyMjQ1NzdjZTM0ID0gJChgPGRpdiBpZD0iaHRtbF82YjZhZDhjYjkyZmQ0MmFkOTc5MGQwMjI0NTc3Y2UzNCIgc3R5bGU9IndpZHRoOiAxMDAuMCU7IGhlaWdodDogMTAwLjAlOyI+bmFuLCBuYW48L2Rpdj5gKVswXTsKICAgICAgICAgICAgcG9wdXBfYmIwOWRiYjY5ZTY3NDY4YmI3ODdjOWNmYzJkYzFlM2Uuc2V0Q29udGVudChodG1sXzZiNmFkOGNiOTJmZDQyYWQ5NzkwZDAyMjQ1NzdjZTM0KTsKICAgICAgICAKCiAgICAgICAgY2lyY2xlX21hcmtlcl84Nzc5YzhmNmMzZGY0N2RhOTYzOWRhYWQ4OGQzNTY3MS5iaW5kUG9wdXAocG9wdXBfYmIwOWRiYjY5ZTY3NDY4YmI3ODdjOWNmYzJkYzFlM2UpCiAgICAgICAgOwoKICAgICAgICAKICAgIAogICAgCiAgICAgICAgICAgIHZhciBjaXJjbGVfbWFya2VyXzI4ODcwODhkNmUwMjRlZGZhNzg1MDZlMWE4ZmZmNTE2ID0gTC5jaXJjbGVNYXJrZXIoCiAgICAgICAgICAgICAgICBbNDMuNzcwOTkyMSwgLTc5LjIxNjkxNzQwMDAwMDAxXSwKICAgICAgICAgICAgICAgIHsiYnViYmxpbmdNb3VzZUV2ZW50cyI6IHRydWUsICJjb2xvciI6ICJibHVlIiwgImRhc2hBcnJheSI6IG51bGwsICJkYXNoT2Zmc2V0IjogbnVsbCwgImZpbGwiOiB0cnVlLCAiZmlsbENvbG9yIjogIiMzMTg2Y2MiLCAiZmlsbE9wYWNpdHkiOiAwLjcsICJmaWxsUnVsZSI6ICJldmVub2RkIiwgImxpbmVDYXAiOiAicm91bmQiLCAibGluZUpvaW4iOiAicm91bmQiLCAib3BhY2l0eSI6IDEuMCwgInJhZGl1cyI6IDUsICJzdHJva2UiOiB0cnVlLCAid2VpZ2h0IjogM30KICAgICAgICAgICAgKS5hZGRUbyhtYXBfNTQyODI4MjJhZmI4NDEzZjllNzQxM2E3YjExOTYxMGEpOwogICAgICAgIAogICAgCiAgICAgICAgdmFyIHBvcHVwX2Y1ZjYxZmY1ZWExYjQyZjQ5ZTc3ZGE4MWRiMmIxNmE3ID0gTC5wb3B1cCh7Im1heFdpZHRoIjogIjEwMCUifSk7CgogICAgICAgIAogICAgICAgICAgICB2YXIgaHRtbF83N2I4YzFhM2M1YTI0NjY4OWU2NGIzMjdmNGZhOTJjNCA9ICQoYDxkaXYgaWQ9Imh0bWxfNzdiOGMxYTNjNWEyNDY2ODllNjRiMzI3ZjRmYTkyYzQiIHN0eWxlPSJ3aWR0aDogMTAwLjAlOyBoZWlnaHQ6IDEwMC4wJTsiPm5hbiwgbmFuPC9kaXY+YClbMF07CiAgICAgICAgICAgIHBvcHVwX2Y1ZjYxZmY1ZWExYjQyZjQ5ZTc3ZGE4MWRiMmIxNmE3LnNldENvbnRlbnQoaHRtbF83N2I4YzFhM2M1YTI0NjY4OWU2NGIzMjdmNGZhOTJjNCk7CiAgICAgICAgCgogICAgICAgIGNpcmNsZV9tYXJrZXJfMjg4NzA4OGQ2ZTAyNGVkZmE3ODUwNmUxYThmZmY1MTYuYmluZFBvcHVwKHBvcHVwX2Y1ZjYxZmY1ZWExYjQyZjQ5ZTc3ZGE4MWRiMmIxNmE3KQogICAgICAgIDsKCiAgICAgICAgCiAgICAKICAgIAogICAgICAgICAgICB2YXIgY2lyY2xlX21hcmtlcl8wNjY1MDMzNjk1Zjk0MjJlYmI3Y2ZjODgxMTQ1YWNmOCA9IEwuY2lyY2xlTWFya2VyKAogICAgICAgICAgICAgICAgWzQzLjc3MzEzNiwgLTc5LjIzOTQ3NjA5OTk5OTk5XSwKICAgICAgICAgICAgICAgIHsiYnViYmxpbmdNb3VzZUV2ZW50cyI6IHRydWUsICJjb2xvciI6ICJibHVlIiwgImRhc2hBcnJheSI6IG51bGwsICJkYXNoT2Zmc2V0IjogbnVsbCwgImZpbGwiOiB0cnVlLCAiZmlsbENvbG9yIjogIiMzMTg2Y2MiLCAiZmlsbE9wYWNpdHkiOiAwLjcsICJmaWxsUnVsZSI6ICJldmVub2RkIiwgImxpbmVDYXAiOiAicm91bmQiLCAibGluZUpvaW4iOiAicm91bmQiLCAib3BhY2l0eSI6IDEuMCwgInJhZGl1cyI6IDUsICJzdHJva2UiOiB0cnVlLCAid2VpZ2h0IjogM30KICAgICAgICAgICAgKS5hZGRUbyhtYXBfNTQyODI4MjJhZmI4NDEzZjllNzQxM2E3YjExOTYxMGEpOwogICAgICAgIAogICAgCiAgICAgICAgdmFyIHBvcHVwX2U0ZTU5YTFjNjkzMTQyNjg4ZTg4ZTFmM2ViOWZhNTU2ID0gTC5wb3B1cCh7Im1heFdpZHRoIjogIjEwMCUifSk7CgogICAgICAgIAogICAgICAgICAgICB2YXIgaHRtbF8zNWI2Y2I2NmY2ZTY0OGYzYmQwNjM4ZWI3YzQzNjNlZiA9ICQoYDxkaXYgaWQ9Imh0bWxfMzViNmNiNjZmNmU2NDhmM2JkMDYzOGViN2M0MzYzZWYiIHN0eWxlPSJ3aWR0aDogMTAwLjAlOyBoZWlnaHQ6IDEwMC4wJTsiPm5hbiwgbmFuPC9kaXY+YClbMF07CiAgICAgICAgICAgIHBvcHVwX2U0ZTU5YTFjNjkzMTQyNjg4ZTg4ZTFmM2ViOWZhNTU2LnNldENvbnRlbnQoaHRtbF8zNWI2Y2I2NmY2ZTY0OGYzYmQwNjM4ZWI3YzQzNjNlZik7CiAgICAgICAgCgogICAgICAgIGNpcmNsZV9tYXJrZXJfMDY2NTAzMzY5NWY5NDIyZWJiN2NmYzg4MTE0NWFjZjguYmluZFBvcHVwKHBvcHVwX2U0ZTU5YTFjNjkzMTQyNjg4ZTg4ZTFmM2ViOWZhNTU2KQogICAgICAgIDsKCiAgICAgICAgCiAgICAKICAgIAogICAgICAgICAgICB2YXIgY2lyY2xlX21hcmtlcl9lOTRiYzhhMTdmMmI0M2Q0YjRjYjU3NjcwZGVkMDcxZiA9IEwuY2lyY2xlTWFya2VyKAogICAgICAgICAgICAgICAgWzQzLjc0NDczNDIsIC03OS4yMzk0NzYwOTk5OTk5OV0sCiAgICAgICAgICAgICAgICB7ImJ1YmJsaW5nTW91c2VFdmVudHMiOiB0cnVlLCAiY29sb3IiOiAiYmx1ZSIsICJkYXNoQXJyYXkiOiBudWxsLCAiZGFzaE9mZnNldCI6IG51bGwsICJmaWxsIjogdHJ1ZSwgImZpbGxDb2xvciI6ICIjMzE4NmNjIiwgImZpbGxPcGFjaXR5IjogMC43LCAiZmlsbFJ1bGUiOiAiZXZlbm9kZCIsICJsaW5lQ2FwIjogInJvdW5kIiwgImxpbmVKb2luIjogInJvdW5kIiwgIm9wYWNpdHkiOiAxLjAsICJyYWRpdXMiOiA1LCAic3Ryb2tlIjogdHJ1ZSwgIndlaWdodCI6IDN9CiAgICAgICAgICAgICkuYWRkVG8obWFwXzU0MjgyODIyYWZiODQxM2Y5ZTc0MTNhN2IxMTk2MTBhKTsKICAgICAgICAKICAgIAogICAgICAgIHZhciBwb3B1cF82MGFlZjJhN2YwZmI0ZDM3YTBkNzEzZjQ1NDVkOGM4YyA9IEwucG9wdXAoeyJtYXhXaWR0aCI6ICIxMDAlIn0pOwoKICAgICAgICAKICAgICAgICAgICAgdmFyIGh0bWxfOTRlYjY1ZGNmYTQyNGVkYzgxZjBkOWIzN2I3M2ZkZmYgPSAkKGA8ZGl2IGlkPSJodG1sXzk0ZWI2NWRjZmE0MjRlZGM4MWYwZDliMzdiNzNmZGZmIiBzdHlsZT0id2lkdGg6IDEwMC4wJTsgaGVpZ2h0OiAxMDAuMCU7Ij5uYW4sIG5hbjwvZGl2PmApWzBdOwogICAgICAgICAgICBwb3B1cF82MGFlZjJhN2YwZmI0ZDM3YTBkNzEzZjQ1NDVkOGM4Yy5zZXRDb250ZW50KGh0bWxfOTRlYjY1ZGNmYTQyNGVkYzgxZjBkOWIzN2I3M2ZkZmYpOwogICAgICAgIAoKICAgICAgICBjaXJjbGVfbWFya2VyX2U5NGJjOGExN2YyYjQzZDRiNGNiNTc2NzBkZWQwNzFmLmJpbmRQb3B1cChwb3B1cF82MGFlZjJhN2YwZmI0ZDM3YTBkNzEzZjQ1NDVkOGM4YykKICAgICAgICA7CgogICAgICAgIAogICAgCiAgICAKICAgICAgICAgICAgdmFyIGNpcmNsZV9tYXJrZXJfMWUzZTY0NDdkMjllNDJiZmJkNDI1OTY4NTA4OTdlNTYgPSBMLmNpcmNsZU1hcmtlcigKICAgICAgICAgICAgICAgIFs0My43Mjc5MjkyLCAtNzkuMjYyMDI5NDAwMDAwMDJdLAogICAgICAgICAgICAgICAgeyJidWJibGluZ01vdXNlRXZlbnRzIjogdHJ1ZSwgImNvbG9yIjogImJsdWUiLCAiZGFzaEFycmF5IjogbnVsbCwgImRhc2hPZmZzZXQiOiBudWxsLCAiZmlsbCI6IHRydWUsICJmaWxsQ29sb3IiOiAiIzMxODZjYyIsICJmaWxsT3BhY2l0eSI6IDAuNywgImZpbGxSdWxlIjogImV2ZW5vZGQiLCAibGluZUNhcCI6ICJyb3VuZCIsICJsaW5lSm9pbiI6ICJyb3VuZCIsICJvcGFjaXR5IjogMS4wLCAicmFkaXVzIjogNSwgInN0cm9rZSI6IHRydWUsICJ3ZWlnaHQiOiAzfQogICAgICAgICAgICApLmFkZFRvKG1hcF81NDI4MjgyMmFmYjg0MTNmOWU3NDEzYTdiMTE5NjEwYSk7CiAgICAgICAgCiAgICAKICAgICAgICB2YXIgcG9wdXBfMjU1YTRhNzY3NTRlNDRhNWFkYTkxNTU5NDQxZWQyNjcgPSBMLnBvcHVwKHsibWF4V2lkdGgiOiAiMTAwJSJ9KTsKCiAgICAgICAgCiAgICAgICAgICAgIHZhciBodG1sX2I0MTQxMTUyMjRlZjQ3NzE4OWZmN2JjOTlkZTkwMDk3ID0gJChgPGRpdiBpZD0iaHRtbF9iNDE0MTE1MjI0ZWY0NzcxODlmZjdiYzk5ZGU5MDA5NyIgc3R5bGU9IndpZHRoOiAxMDAuMCU7IGhlaWdodDogMTAwLjAlOyI+bmFuLCBuYW48L2Rpdj5gKVswXTsKICAgICAgICAgICAgcG9wdXBfMjU1YTRhNzY3NTRlNDRhNWFkYTkxNTU5NDQxZWQyNjcuc2V0Q29udGVudChodG1sX2I0MTQxMTUyMjRlZjQ3NzE4OWZmN2JjOTlkZTkwMDk3KTsKICAgICAgICAKCiAgICAgICAgY2lyY2xlX21hcmtlcl8xZTNlNjQ0N2QyOWU0MmJmYmQ0MjU5Njg1MDg5N2U1Ni5iaW5kUG9wdXAocG9wdXBfMjU1YTRhNzY3NTRlNDRhNWFkYTkxNTU5NDQxZWQyNjcpCiAgICAgICAgOwoKICAgICAgICAKICAgIAogICAgCiAgICAgICAgICAgIHZhciBjaXJjbGVfbWFya2VyXzJhZDljNmY0YjU1ZjQwMjU5MWQyOTRhZDE1ZTkwNzFlID0gTC5jaXJjbGVNYXJrZXIoCiAgICAgICAgICAgICAgICBbNDMuNzExMTExNzAwMDAwMDA0LCAtNzkuMjg0NTc3Ml0sCiAgICAgICAgICAgICAgICB7ImJ1YmJsaW5nTW91c2VFdmVudHMiOiB0cnVlLCAiY29sb3IiOiAiYmx1ZSIsICJkYXNoQXJyYXkiOiBudWxsLCAiZGFzaE9mZnNldCI6IG51bGwsICJmaWxsIjogdHJ1ZSwgImZpbGxDb2xvciI6ICIjMzE4NmNjIiwgImZpbGxPcGFjaXR5IjogMC43LCAiZmlsbFJ1bGUiOiAiZXZlbm9kZCIsICJsaW5lQ2FwIjogInJvdW5kIiwgImxpbmVKb2luIjogInJvdW5kIiwgIm9wYWNpdHkiOiAxLjAsICJyYWRpdXMiOiA1LCAic3Ryb2tlIjogdHJ1ZSwgIndlaWdodCI6IDN9CiAgICAgICAgICAgICkuYWRkVG8obWFwXzU0MjgyODIyYWZiODQxM2Y5ZTc0MTNhN2IxMTk2MTBhKTsKICAgICAgICAKICAgIAogICAgICAgIHZhciBwb3B1cF9iOWUyYTc2MTU5ZmY0YmJiOWU3MmM4MWQwZDc0NWU0ZiA9IEwucG9wdXAoeyJtYXhXaWR0aCI6ICIxMDAlIn0pOwoKICAgICAgICAKICAgICAgICAgICAgdmFyIGh0bWxfZmFmMTRkNThhOWE5NDA4ZThjZTI2Njg3MTBlNzE4MDUgPSAkKGA8ZGl2IGlkPSJodG1sX2ZhZjE0ZDU4YTlhOTQwOGU4Y2UyNjY4NzEwZTcxODA1IiBzdHlsZT0id2lkdGg6IDEwMC4wJTsgaGVpZ2h0OiAxMDAuMCU7Ij5uYW4sIG5hbjwvZGl2PmApWzBdOwogICAgICAgICAgICBwb3B1cF9iOWUyYTc2MTU5ZmY0YmJiOWU3MmM4MWQwZDc0NWU0Zi5zZXRDb250ZW50KGh0bWxfZmFmMTRkNThhOWE5NDA4ZThjZTI2Njg3MTBlNzE4MDUpOwogICAgICAgIAoKICAgICAgICBjaXJjbGVfbWFya2VyXzJhZDljNmY0YjU1ZjQwMjU5MWQyOTRhZDE1ZTkwNzFlLmJpbmRQb3B1cChwb3B1cF9iOWUyYTc2MTU5ZmY0YmJiOWU3MmM4MWQwZDc0NWU0ZikKICAgICAgICA7CgogICAgICAgIAogICAgCiAgICAKICAgICAgICAgICAgdmFyIGNpcmNsZV9tYXJrZXJfYjA1MDRkZGFkYmI0NDMyMGEwOGYzNGNmMmRmYzhhNjYgPSBMLmNpcmNsZU1hcmtlcigKICAgICAgICAgICAgICAgIFs0My43MTYzMTYsIC03OS4yMzk0NzYwOTk5OTk5OV0sCiAgICAgICAgICAgICAgICB7ImJ1YmJsaW5nTW91c2VFdmVudHMiOiB0cnVlLCAiY29sb3IiOiAiYmx1ZSIsICJkYXNoQXJyYXkiOiBudWxsLCAiZGFzaE9mZnNldCI6IG51bGwsICJmaWxsIjogdHJ1ZSwgImZpbGxDb2xvciI6ICIjMzE4NmNjIiwgImZpbGxPcGFjaXR5IjogMC43LCAiZmlsbFJ1bGUiOiAiZXZlbm9kZCIsICJsaW5lQ2FwIjogInJvdW5kIiwgImxpbmVKb2luIjogInJvdW5kIiwgIm9wYWNpdHkiOiAxLjAsICJyYWRpdXMiOiA1LCAic3Ryb2tlIjogdHJ1ZSwgIndlaWdodCI6IDN9CiAgICAgICAgICAgICkuYWRkVG8obWFwXzU0MjgyODIyYWZiODQxM2Y5ZTc0MTNhN2IxMTk2MTBhKTsKICAgICAgICAKICAgIAogICAgICAgIHZhciBwb3B1cF81ZDdmMzY0ZTNjNDc0ZDA2YWEzNmVhZjVkOThjMGU2OSA9IEwucG9wdXAoeyJtYXhXaWR0aCI6ICIxMDAlIn0pOwoKICAgICAgICAKICAgICAgICAgICAgdmFyIGh0bWxfYzY0NjU2YzZkZjhlNDY4N2E4ODU5NGFiNjYyOGY0ZTQgPSAkKGA8ZGl2IGlkPSJodG1sX2M2NDY1NmM2ZGY4ZTQ2ODdhODg1OTRhYjY2MjhmNGU0IiBzdHlsZT0id2lkdGg6IDEwMC4wJTsgaGVpZ2h0OiAxMDAuMCU7Ij5uYW4sIG5hbjwvZGl2PmApWzBdOwogICAgICAgICAgICBwb3B1cF81ZDdmMzY0ZTNjNDc0ZDA2YWEzNmVhZjVkOThjMGU2OS5zZXRDb250ZW50KGh0bWxfYzY0NjU2YzZkZjhlNDY4N2E4ODU5NGFiNjYyOGY0ZTQpOwogICAgICAgIAoKICAgICAgICBjaXJjbGVfbWFya2VyX2IwNTA0ZGRhZGJiNDQzMjBhMDhmMzRjZjJkZmM4YTY2LmJpbmRQb3B1cChwb3B1cF81ZDdmMzY0ZTNjNDc0ZDA2YWEzNmVhZjVkOThjMGU2OSkKICAgICAgICA7CgogICAgICAgIAogICAgCiAgICAKICAgICAgICAgICAgdmFyIGNpcmNsZV9tYXJrZXJfYmVjMzYxNmRmNjE5NDU1NWIwMjU5NzA5MGEzZjdmNjggPSBMLmNpcmNsZU1hcmtlcigKICAgICAgICAgICAgICAgIFs0My42OTI2NTcwMDAwMDAwMDQsIC03OS4yNjQ4NDgxXSwKICAgICAgICAgICAgICAgIHsiYnViYmxpbmdNb3VzZUV2ZW50cyI6IHRydWUsICJjb2xvciI6ICJibHVlIiwgImRhc2hBcnJheSI6IG51bGwsICJkYXNoT2Zmc2V0IjogbnVsbCwgImZpbGwiOiB0cnVlLCAiZmlsbENvbG9yIjogIiMzMTg2Y2MiLCAiZmlsbE9wYWNpdHkiOiAwLjcsICJmaWxsUnVsZSI6ICJldmVub2RkIiwgImxpbmVDYXAiOiAicm91bmQiLCAibGluZUpvaW4iOiAicm91bmQiLCAib3BhY2l0eSI6IDEuMCwgInJhZGl1cyI6IDUsICJzdHJva2UiOiB0cnVlLCAid2VpZ2h0IjogM30KICAgICAgICAgICAgKS5hZGRUbyhtYXBfNTQyODI4MjJhZmI4NDEzZjllNzQxM2E3YjExOTYxMGEpOwogICAgICAgIAogICAgCiAgICAgICAgdmFyIHBvcHVwXzk2MzRmMjQ3N2Y4YTQ4NDRiYTRiYTY0Y2U1YmJkYWVhID0gTC5wb3B1cCh7Im1heFdpZHRoIjogIjEwMCUifSk7CgogICAgICAgIAogICAgICAgICAgICB2YXIgaHRtbF9jODEwYzc5ZTVkYzQ0MjMzODA5NzE2N2I4MjU3ZDM2YiA9ICQoYDxkaXYgaWQ9Imh0bWxfYzgxMGM3OWU1ZGM0NDIzMzgwOTcxNjdiODI1N2QzNmIiIHN0eWxlPSJ3aWR0aDogMTAwLjAlOyBoZWlnaHQ6IDEwMC4wJTsiPm5hbiwgbmFuPC9kaXY+YClbMF07CiAgICAgICAgICAgIHBvcHVwXzk2MzRmMjQ3N2Y4YTQ4NDRiYTRiYTY0Y2U1YmJkYWVhLnNldENvbnRlbnQoaHRtbF9jODEwYzc5ZTVkYzQ0MjMzODA5NzE2N2I4MjU3ZDM2Yik7CiAgICAgICAgCgogICAgICAgIGNpcmNsZV9tYXJrZXJfYmVjMzYxNmRmNjE5NDU1NWIwMjU5NzA5MGEzZjdmNjguYmluZFBvcHVwKHBvcHVwXzk2MzRmMjQ3N2Y4YTQ4NDRiYTRiYTY0Y2U1YmJkYWVhKQogICAgICAgIDsKCiAgICAgICAgCiAgICAKICAgIAogICAgICAgICAgICB2YXIgY2lyY2xlX21hcmtlcl83ZDdjMmVhZWVhN2E0Y2NiYTcyYWNhZWRkYjhiZmM5ZCA9IEwuY2lyY2xlTWFya2VyKAogICAgICAgICAgICAgICAgWzQzLjc1NzQwOTYsIC03OS4yNzMzMDQwMDAwMDAwMV0sCiAgICAgICAgICAgICAgICB7ImJ1YmJsaW5nTW91c2VFdmVudHMiOiB0cnVlLCAiY29sb3IiOiAiYmx1ZSIsICJkYXNoQXJyYXkiOiBudWxsLCAiZGFzaE9mZnNldCI6IG51bGwsICJmaWxsIjogdHJ1ZSwgImZpbGxDb2xvciI6ICIjMzE4NmNjIiwgImZpbGxPcGFjaXR5IjogMC43LCAiZmlsbFJ1bGUiOiAiZXZlbm9kZCIsICJsaW5lQ2FwIjogInJvdW5kIiwgImxpbmVKb2luIjogInJvdW5kIiwgIm9wYWNpdHkiOiAxLjAsICJyYWRpdXMiOiA1LCAic3Ryb2tlIjogdHJ1ZSwgIndlaWdodCI6IDN9CiAgICAgICAgICAgICkuYWRkVG8obWFwXzU0MjgyODIyYWZiODQxM2Y5ZTc0MTNhN2IxMTk2MTBhKTsKICAgICAgICAKICAgIAogICAgICAgIHZhciBwb3B1cF82NDQyYTY0ZTUxNjk0ZTQ5OTc1MmUyZjY2OGIxNjcyOCA9IEwucG9wdXAoeyJtYXhXaWR0aCI6ICIxMDAlIn0pOwoKICAgICAgICAKICAgICAgICAgICAgdmFyIGh0bWxfOTVjN2E0Zjg2MzA0NDFmMGE1MWUzM2I5MjRkYTQwZTYgPSAkKGA8ZGl2IGlkPSJodG1sXzk1YzdhNGY4NjMwNDQxZjBhNTFlMzNiOTI0ZGE0MGU2IiBzdHlsZT0id2lkdGg6IDEwMC4wJTsgaGVpZ2h0OiAxMDAuMCU7Ij5uYW4sIG5hbjwvZGl2PmApWzBdOwogICAgICAgICAgICBwb3B1cF82NDQyYTY0ZTUxNjk0ZTQ5OTc1MmUyZjY2OGIxNjcyOC5zZXRDb250ZW50KGh0bWxfOTVjN2E0Zjg2MzA0NDFmMGE1MWUzM2I5MjRkYTQwZTYpOwogICAgICAgIAoKICAgICAgICBjaXJjbGVfbWFya2VyXzdkN2MyZWFlZWE3YTRjY2JhNzJhY2FlZGRiOGJmYzlkLmJpbmRQb3B1cChwb3B1cF82NDQyYTY0ZTUxNjk0ZTQ5OTc1MmUyZjY2OGIxNjcyOCkKICAgICAgICA7CgogICAgICAgIAogICAgCiAgICAKICAgICAgICAgICAgdmFyIGNpcmNsZV9tYXJrZXJfNjYzMTcyZmVmNDhkNGQ3MTkxMGM1MzIxMTIwOTc4YTEgPSBMLmNpcmNsZU1hcmtlcigKICAgICAgICAgICAgICAgIFs0My43NTAwNzE1MDAwMDAwMDQsIC03OS4yOTU4NDkxXSwKICAgICAgICAgICAgICAgIHsiYnViYmxpbmdNb3VzZUV2ZW50cyI6IHRydWUsICJjb2xvciI6ICJibHVlIiwgImRhc2hBcnJheSI6IG51bGwsICJkYXNoT2Zmc2V0IjogbnVsbCwgImZpbGwiOiB0cnVlLCAiZmlsbENvbG9yIjogIiMzMTg2Y2MiLCAiZmlsbE9wYWNpdHkiOiAwLjcsICJmaWxsUnVsZSI6ICJldmVub2RkIiwgImxpbmVDYXAiOiAicm91bmQiLCAibGluZUpvaW4iOiAicm91bmQiLCAib3BhY2l0eSI6IDEuMCwgInJhZGl1cyI6IDUsICJzdHJva2UiOiB0cnVlLCAid2VpZ2h0IjogM30KICAgICAgICAgICAgKS5hZGRUbyhtYXBfNTQyODI4MjJhZmI4NDEzZjllNzQxM2E3YjExOTYxMGEpOwogICAgICAgIAogICAgCiAgICAgICAgdmFyIHBvcHVwXzU2MGY1MjQ0MjkxMzQ4YmJiZmJiYzc3NjE3ZGI1Y2VkID0gTC5wb3B1cCh7Im1heFdpZHRoIjogIjEwMCUifSk7CgogICAgICAgIAogICAgICAgICAgICB2YXIgaHRtbF84MmUzZDI5M2JjYTQ0ZTJmYTdmN2NlY2VjMDRhYWQ2NSA9ICQoYDxkaXYgaWQ9Imh0bWxfODJlM2QyOTNiY2E0NGUyZmE3ZjdjZWNlYzA0YWFkNjUiIHN0eWxlPSJ3aWR0aDogMTAwLjAlOyBoZWlnaHQ6IDEwMC4wJTsiPm5hbiwgbmFuPC9kaXY+YClbMF07CiAgICAgICAgICAgIHBvcHVwXzU2MGY1MjQ0MjkxMzQ4YmJiZmJiYzc3NjE3ZGI1Y2VkLnNldENvbnRlbnQoaHRtbF84MmUzZDI5M2JjYTQ0ZTJmYTdmN2NlY2VjMDRhYWQ2NSk7CiAgICAgICAgCgogICAgICAgIGNpcmNsZV9tYXJrZXJfNjYzMTcyZmVmNDhkNGQ3MTkxMGM1MzIxMTIwOTc4YTEuYmluZFBvcHVwKHBvcHVwXzU2MGY1MjQ0MjkxMzQ4YmJiZmJiYzc3NjE3ZGI1Y2VkKQogICAgICAgIDsKCiAgICAgICAgCiAgICAKICAgIAogICAgICAgICAgICB2YXIgY2lyY2xlX21hcmtlcl83NDU4YjhlNjE0YmY0ZDI4YWQzNzM0N2MxMmM5N2VmYSA9IEwuY2lyY2xlTWFya2VyKAogICAgICAgICAgICAgICAgWzQzLjc5NDIwMDMsIC03OS4yNjIwMjk0MDAwMDAwMl0sCiAgICAgICAgICAgICAgICB7ImJ1YmJsaW5nTW91c2VFdmVudHMiOiB0cnVlLCAiY29sb3IiOiAiYmx1ZSIsICJkYXNoQXJyYXkiOiBudWxsLCAiZGFzaE9mZnNldCI6IG51bGwsICJmaWxsIjogdHJ1ZSwgImZpbGxDb2xvciI6ICIjMzE4NmNjIiwgImZpbGxPcGFjaXR5IjogMC43LCAiZmlsbFJ1bGUiOiAiZXZlbm9kZCIsICJsaW5lQ2FwIjogInJvdW5kIiwgImxpbmVKb2luIjogInJvdW5kIiwgIm9wYWNpdHkiOiAxLjAsICJyYWRpdXMiOiA1LCAic3Ryb2tlIjogdHJ1ZSwgIndlaWdodCI6IDN9CiAgICAgICAgICAgICkuYWRkVG8obWFwXzU0MjgyODIyYWZiODQxM2Y5ZTc0MTNhN2IxMTk2MTBhKTsKICAgICAgICAKICAgIAogICAgICAgIHZhciBwb3B1cF83NTQ5Mzg5NWU4YzE0NGQ2YjVmNmI1MWFjY2U5MzQ5YiA9IEwucG9wdXAoeyJtYXhXaWR0aCI6ICIxMDAlIn0pOwoKICAgICAgICAKICAgICAgICAgICAgdmFyIGh0bWxfMTU3YjU1MzBlODQxNDEwMzljNzMyMTc4NTQ1Y2YzMTUgPSAkKGA8ZGl2IGlkPSJodG1sXzE1N2I1NTMwZTg0MTQxMDM5YzczMjE3ODU0NWNmMzE1IiBzdHlsZT0id2lkdGg6IDEwMC4wJTsgaGVpZ2h0OiAxMDAuMCU7Ij5uYW4sIG5hbjwvZGl2PmApWzBdOwogICAgICAgICAgICBwb3B1cF83NTQ5Mzg5NWU4YzE0NGQ2YjVmNmI1MWFjY2U5MzQ5Yi5zZXRDb250ZW50KGh0bWxfMTU3YjU1MzBlODQxNDEwMzljNzMyMTc4NTQ1Y2YzMTUpOwogICAgICAgIAoKICAgICAgICBjaXJjbGVfbWFya2VyXzc0NThiOGU2MTRiZjRkMjhhZDM3MzQ3YzEyYzk3ZWZhLmJpbmRQb3B1cChwb3B1cF83NTQ5Mzg5NWU4YzE0NGQ2YjVmNmI1MWFjY2U5MzQ5YikKICAgICAgICA7CgogICAgICAgIAogICAgCiAgICAKICAgICAgICAgICAgdmFyIGNpcmNsZV9tYXJrZXJfNWUyMmVkZTRkOWM3NDU3NjgxZGY5MjZmMjE3MjE5OTIgPSBMLmNpcmNsZU1hcmtlcigKICAgICAgICAgICAgICAgIFs0My43ODE2Mzc1LCAtNzkuMzA0MzAyMV0sCiAgICAgICAgICAgICAgICB7ImJ1YmJsaW5nTW91c2VFdmVudHMiOiB0cnVlLCAiY29sb3IiOiAiYmx1ZSIsICJkYXNoQXJyYXkiOiBudWxsLCAiZGFzaE9mZnNldCI6IG51bGwsICJmaWxsIjogdHJ1ZSwgImZpbGxDb2xvciI6ICIjMzE4NmNjIiwgImZpbGxPcGFjaXR5IjogMC43LCAiZmlsbFJ1bGUiOiAiZXZlbm9kZCIsICJsaW5lQ2FwIjogInJvdW5kIiwgImxpbmVKb2luIjogInJvdW5kIiwgIm9wYWNpdHkiOiAxLjAsICJyYWRpdXMiOiA1LCAic3Ryb2tlIjogdHJ1ZSwgIndlaWdodCI6IDN9CiAgICAgICAgICAgICkuYWRkVG8obWFwXzU0MjgyODIyYWZiODQxM2Y5ZTc0MTNhN2IxMTk2MTBhKTsKICAgICAgICAKICAgIAogICAgICAgIHZhciBwb3B1cF9kODY3NGRiMWE3ZDg0Y2QyOTFjMTBjNjkzM2E2YzZhOCA9IEwucG9wdXAoeyJtYXhXaWR0aCI6ICIxMDAlIn0pOwoKICAgICAgICAKICAgICAgICAgICAgdmFyIGh0bWxfNmU1MGQwODZkY2I5NGVhODk3ZGVjM2U2MGQwNGQ3NDAgPSAkKGA8ZGl2IGlkPSJodG1sXzZlNTBkMDg2ZGNiOTRlYTg5N2RlYzNlNjBkMDRkNzQwIiBzdHlsZT0id2lkdGg6IDEwMC4wJTsgaGVpZ2h0OiAxMDAuMCU7Ij5uYW4sIG5hbjwvZGl2PmApWzBdOwogICAgICAgICAgICBwb3B1cF9kODY3NGRiMWE3ZDg0Y2QyOTFjMTBjNjkzM2E2YzZhOC5zZXRDb250ZW50KGh0bWxfNmU1MGQwODZkY2I5NGVhODk3ZGVjM2U2MGQwNGQ3NDApOwogICAgICAgIAoKICAgICAgICBjaXJjbGVfbWFya2VyXzVlMjJlZGU0ZDljNzQ1NzY4MWRmOTI2ZjIxNzIxOTkyLmJpbmRQb3B1cChwb3B1cF9kODY3NGRiMWE3ZDg0Y2QyOTFjMTBjNjkzM2E2YzZhOCkKICAgICAgICA7CgogICAgICAgIAogICAgCiAgICAKICAgICAgICAgICAgdmFyIGNpcmNsZV9tYXJrZXJfOTYwMmU3YTAwZDQxNDdmZWI2N2IxOTY3ODIzOWFiNGUgPSBMLmNpcmNsZU1hcmtlcigKICAgICAgICAgICAgICAgIFs0My44MTUyNTIyLCAtNzkuMjg0NTc3Ml0sCiAgICAgICAgICAgICAgICB7ImJ1YmJsaW5nTW91c2VFdmVudHMiOiB0cnVlLCAiY29sb3IiOiAiYmx1ZSIsICJkYXNoQXJyYXkiOiBudWxsLCAiZGFzaE9mZnNldCI6IG51bGwsICJmaWxsIjogdHJ1ZSwgImZpbGxDb2xvciI6ICIjMzE4NmNjIiwgImZpbGxPcGFjaXR5IjogMC43LCAiZmlsbFJ1bGUiOiAiZXZlbm9kZCIsICJsaW5lQ2FwIjogInJvdW5kIiwgImxpbmVKb2luIjogInJvdW5kIiwgIm9wYWNpdHkiOiAxLjAsICJyYWRpdXMiOiA1LCAic3Ryb2tlIjogdHJ1ZSwgIndlaWdodCI6IDN9CiAgICAgICAgICAgICkuYWRkVG8obWFwXzU0MjgyODIyYWZiODQxM2Y5ZTc0MTNhN2IxMTk2MTBhKTsKICAgICAgICAKICAgIAogICAgICAgIHZhciBwb3B1cF81MGM4M2VkZjQ1Mzc0OTdkYjc4M2U2NGVmOWJmMDk3ZCA9IEwucG9wdXAoeyJtYXhXaWR0aCI6ICIxMDAlIn0pOwoKICAgICAgICAKICAgICAgICAgICAgdmFyIGh0bWxfZGE0NmMxNmIzYzNjNDgyZDg1OGNjYTc0MWE1MTYzODMgPSAkKGA8ZGl2IGlkPSJodG1sX2RhNDZjMTZiM2MzYzQ4MmQ4NThjY2E3NDFhNTE2MzgzIiBzdHlsZT0id2lkdGg6IDEwMC4wJTsgaGVpZ2h0OiAxMDAuMCU7Ij5uYW4sIG5hbjwvZGl2PmApWzBdOwogICAgICAgICAgICBwb3B1cF81MGM4M2VkZjQ1Mzc0OTdkYjc4M2U2NGVmOWJmMDk3ZC5zZXRDb250ZW50KGh0bWxfZGE0NmMxNmIzYzNjNDgyZDg1OGNjYTc0MWE1MTYzODMpOwogICAgICAgIAoKICAgICAgICBjaXJjbGVfbWFya2VyXzk2MDJlN2EwMGQ0MTQ3ZmViNjdiMTk2NzgyMzlhYjRlLmJpbmRQb3B1cChwb3B1cF81MGM4M2VkZjQ1Mzc0OTdkYjc4M2U2NGVmOWJmMDk3ZCkKICAgICAgICA7CgogICAgICAgIAogICAgCiAgICAKICAgICAgICAgICAgdmFyIGNpcmNsZV9tYXJrZXJfMjFjMGYyMjVlMmUwNGUyOTgwOGE1MzFjODFmNzRmZDEgPSBMLmNpcmNsZU1hcmtlcigKICAgICAgICAgICAgICAgIFs0My43OTk1MjUyMDAwMDAwMDUsIC03OS4zMTgzODg3XSwKICAgICAgICAgICAgICAgIHsiYnViYmxpbmdNb3VzZUV2ZW50cyI6IHRydWUsICJjb2xvciI6ICJibHVlIiwgImRhc2hBcnJheSI6IG51bGwsICJkYXNoT2Zmc2V0IjogbnVsbCwgImZpbGwiOiB0cnVlLCAiZmlsbENvbG9yIjogIiMzMTg2Y2MiLCAiZmlsbE9wYWNpdHkiOiAwLjcsICJmaWxsUnVsZSI6ICJldmVub2RkIiwgImxpbmVDYXAiOiAicm91bmQiLCAibGluZUpvaW4iOiAicm91bmQiLCAib3BhY2l0eSI6IDEuMCwgInJhZGl1cyI6IDUsICJzdHJva2UiOiB0cnVlLCAid2VpZ2h0IjogM30KICAgICAgICAgICAgKS5hZGRUbyhtYXBfNTQyODI4MjJhZmI4NDEzZjllNzQxM2E3YjExOTYxMGEpOwogICAgICAgIAogICAgCiAgICAgICAgdmFyIHBvcHVwXzc4MDQ5NmY0NzYzNTRjMTJhYzJlOWZjYzg5YzU2ZWI3ID0gTC5wb3B1cCh7Im1heFdpZHRoIjogIjEwMCUifSk7CgogICAgICAgIAogICAgICAgICAgICB2YXIgaHRtbF9kNDkyMTllZWU0YWE0ZjlkYjg0ODE5MzgzY2JiMGJkYiA9ICQoYDxkaXYgaWQ9Imh0bWxfZDQ5MjE5ZWVlNGFhNGY5ZGI4NDgxOTM4M2NiYjBiZGIiIHN0eWxlPSJ3aWR0aDogMTAwLjAlOyBoZWlnaHQ6IDEwMC4wJTsiPm5hbiwgbmFuPC9kaXY+YClbMF07CiAgICAgICAgICAgIHBvcHVwXzc4MDQ5NmY0NzYzNTRjMTJhYzJlOWZjYzg5YzU2ZWI3LnNldENvbnRlbnQoaHRtbF9kNDkyMTllZWU0YWE0ZjlkYjg0ODE5MzgzY2JiMGJkYik7CiAgICAgICAgCgogICAgICAgIGNpcmNsZV9tYXJrZXJfMjFjMGYyMjVlMmUwNGUyOTgwOGE1MzFjODFmNzRmZDEuYmluZFBvcHVwKHBvcHVwXzc4MDQ5NmY0NzYzNTRjMTJhYzJlOWZjYzg5YzU2ZWI3KQogICAgICAgIDsKCiAgICAgICAgCiAgICAKICAgIAogICAgICAgICAgICB2YXIgY2lyY2xlX21hcmtlcl8zZDcxNjQ0OTY1NzE0MTI1YWQwMTI0YjczNjNiNzRhNCA9IEwuY2lyY2xlTWFya2VyKAogICAgICAgICAgICAgICAgWzQzLjgzNjEyNDcwMDAwMDAwNiwgLTc5LjIwNTYzNjA5OTk5OTk5XSwKICAgICAgICAgICAgICAgIHsiYnViYmxpbmdNb3VzZUV2ZW50cyI6IHRydWUsICJjb2xvciI6ICJibHVlIiwgImRhc2hBcnJheSI6IG51bGwsICJkYXNoT2Zmc2V0IjogbnVsbCwgImZpbGwiOiB0cnVlLCAiZmlsbENvbG9yIjogIiMzMTg2Y2MiLCAiZmlsbE9wYWNpdHkiOiAwLjcsICJmaWxsUnVsZSI6ICJldmVub2RkIiwgImxpbmVDYXAiOiAicm91bmQiLCAibGluZUpvaW4iOiAicm91bmQiLCAib3BhY2l0eSI6IDEuMCwgInJhZGl1cyI6IDUsICJzdHJva2UiOiB0cnVlLCAid2VpZ2h0IjogM30KICAgICAgICAgICAgKS5hZGRUbyhtYXBfNTQyODI4MjJhZmI4NDEzZjllNzQxM2E3YjExOTYxMGEpOwogICAgICAgIAogICAgCiAgICAgICAgdmFyIHBvcHVwXzFmZDMyYTY1YmU2YTRjMWVhNWUzMjBjMDBiOTUzNGQ5ID0gTC5wb3B1cCh7Im1heFdpZHRoIjogIjEwMCUifSk7CgogICAgICAgIAogICAgICAgICAgICB2YXIgaHRtbF8yNzUyZGYwZDQwZGE0ZDFmYWM1MWRhZDE2OGE4OTI2ZCA9ICQoYDxkaXYgaWQ9Imh0bWxfMjc1MmRmMGQ0MGRhNGQxZmFjNTFkYWQxNjhhODkyNmQiIHN0eWxlPSJ3aWR0aDogMTAwLjAlOyBoZWlnaHQ6IDEwMC4wJTsiPm5hbiwgbmFuPC9kaXY+YClbMF07CiAgICAgICAgICAgIHBvcHVwXzFmZDMyYTY1YmU2YTRjMWVhNWUzMjBjMDBiOTUzNGQ5LnNldENvbnRlbnQoaHRtbF8yNzUyZGYwZDQwZGE0ZDFmYWM1MWRhZDE2OGE4OTI2ZCk7CiAgICAgICAgCgogICAgICAgIGNpcmNsZV9tYXJrZXJfM2Q3MTY0NDk2NTcxNDEyNWFkMDEyNGI3MzYzYjc0YTQuYmluZFBvcHVwKHBvcHVwXzFmZDMyYTY1YmU2YTRjMWVhNWUzMjBjMDBiOTUzNGQ5KQogICAgICAgIDsKCiAgICAgICAgCiAgICAKICAgIAogICAgICAgICAgICB2YXIgY2lyY2xlX21hcmtlcl85MGU5NTg3OTU0YTM0ZTBjYWVjNDQyMDkxNWI3ODgyMCA9IEwuY2lyY2xlTWFya2VyKAogICAgICAgICAgICAgICAgWzQzLjgwMzc2MjIsIC03OS4zNjM0NTE3XSwKICAgICAgICAgICAgICAgIHsiYnViYmxpbmdNb3VzZUV2ZW50cyI6IHRydWUsICJjb2xvciI6ICJibHVlIiwgImRhc2hBcnJheSI6IG51bGwsICJkYXNoT2Zmc2V0IjogbnVsbCwgImZpbGwiOiB0cnVlLCAiZmlsbENvbG9yIjogIiMzMTg2Y2MiLCAiZmlsbE9wYWNpdHkiOiAwLjcsICJmaWxsUnVsZSI6ICJldmVub2RkIiwgImxpbmVDYXAiOiAicm91bmQiLCAibGluZUpvaW4iOiAicm91bmQiLCAib3BhY2l0eSI6IDEuMCwgInJhZGl1cyI6IDUsICJzdHJva2UiOiB0cnVlLCAid2VpZ2h0IjogM30KICAgICAgICAgICAgKS5hZGRUbyhtYXBfNTQyODI4MjJhZmI4NDEzZjllNzQxM2E3YjExOTYxMGEpOwogICAgICAgIAogICAgCiAgICAgICAgdmFyIHBvcHVwXzdkNGU1OWFjMTRiMzQyMGRhNmI2N2ZkODBkMzI3MzVhID0gTC5wb3B1cCh7Im1heFdpZHRoIjogIjEwMCUifSk7CgogICAgICAgIAogICAgICAgICAgICB2YXIgaHRtbF9lODY4NWVlZjJkYzM0NjNlOThhNDExMDUwMzcxZTQ3YiA9ICQoYDxkaXYgaWQ9Imh0bWxfZTg2ODVlZWYyZGMzNDYzZTk4YTQxMTA1MDM3MWU0N2IiIHN0eWxlPSJ3aWR0aDogMTAwLjAlOyBoZWlnaHQ6IDEwMC4wJTsiPm5hbiwgbmFuPC9kaXY+YClbMF07CiAgICAgICAgICAgIHBvcHVwXzdkNGU1OWFjMTRiMzQyMGRhNmI2N2ZkODBkMzI3MzVhLnNldENvbnRlbnQoaHRtbF9lODY4NWVlZjJkYzM0NjNlOThhNDExMDUwMzcxZTQ3Yik7CiAgICAgICAgCgogICAgICAgIGNpcmNsZV9tYXJrZXJfOTBlOTU4Nzk1NGEzNGUwY2FlYzQ0MjA5MTViNzg4MjAuYmluZFBvcHVwKHBvcHVwXzdkNGU1OWFjMTRiMzQyMGRhNmI2N2ZkODBkMzI3MzVhKQogICAgICAgIDsKCiAgICAgICAgCiAgICAKICAgIAogICAgICAgICAgICB2YXIgY2lyY2xlX21hcmtlcl9lNmU4NWE3ZTRiOGI0YmM4OGI5NTljMzE2N2E2MTQyYyA9IEwuY2lyY2xlTWFya2VyKAogICAgICAgICAgICAgICAgWzQzLjc3ODUxNzUsIC03OS4zNDY1NTU3XSwKICAgICAgICAgICAgICAgIHsiYnViYmxpbmdNb3VzZUV2ZW50cyI6IHRydWUsICJjb2xvciI6ICJibHVlIiwgImRhc2hBcnJheSI6IG51bGwsICJkYXNoT2Zmc2V0IjogbnVsbCwgImZpbGwiOiB0cnVlLCAiZmlsbENvbG9yIjogIiMzMTg2Y2MiLCAiZmlsbE9wYWNpdHkiOiAwLjcsICJmaWxsUnVsZSI6ICJldmVub2RkIiwgImxpbmVDYXAiOiAicm91bmQiLCAibGluZUpvaW4iOiAicm91bmQiLCAib3BhY2l0eSI6IDEuMCwgInJhZGl1cyI6IDUsICJzdHJva2UiOiB0cnVlLCAid2VpZ2h0IjogM30KICAgICAgICAgICAgKS5hZGRUbyhtYXBfNTQyODI4MjJhZmI4NDEzZjllNzQxM2E3YjExOTYxMGEpOwogICAgICAgIAogICAgCiAgICAgICAgdmFyIHBvcHVwX2YyMzM1Zjk4MzEzMDRmNDU5YzJiOTAyNzY2OGUzMmZkID0gTC5wb3B1cCh7Im1heFdpZHRoIjogIjEwMCUifSk7CgogICAgICAgIAogICAgICAgICAgICB2YXIgaHRtbF83NTdlOWI0ZmJmZTI0ZjBiOTJkN2Q4YzZmYzRmYjZhMCA9ICQoYDxkaXYgaWQ9Imh0bWxfNzU3ZTliNGZiZmUyNGYwYjkyZDdkOGM2ZmM0ZmI2YTAiIHN0eWxlPSJ3aWR0aDogMTAwLjAlOyBoZWlnaHQ6IDEwMC4wJTsiPm5hbiwgbmFuPC9kaXY+YClbMF07CiAgICAgICAgICAgIHBvcHVwX2YyMzM1Zjk4MzEzMDRmNDU5YzJiOTAyNzY2OGUzMmZkLnNldENvbnRlbnQoaHRtbF83NTdlOWI0ZmJmZTI0ZjBiOTJkN2Q4YzZmYzRmYjZhMCk7CiAgICAgICAgCgogICAgICAgIGNpcmNsZV9tYXJrZXJfZTZlODVhN2U0YjhiNGJjODhiOTU5YzMxNjdhNjE0MmMuYmluZFBvcHVwKHBvcHVwX2YyMzM1Zjk4MzEzMDRmNDU5YzJiOTAyNzY2OGUzMmZkKQogICAgICAgIDsKCiAgICAgICAgCiAgICAKICAgIAogICAgICAgICAgICB2YXIgY2lyY2xlX21hcmtlcl8yZjZjNmIyYTBjOTY0NTRhODQ4ZTIyNGFiZTE2YjBhZSA9IEwuY2lyY2xlTWFya2VyKAogICAgICAgICAgICAgICAgWzQzLjc4Njk0NzMsIC03OS4zODU5NzVdLAogICAgICAgICAgICAgICAgeyJidWJibGluZ01vdXNlRXZlbnRzIjogdHJ1ZSwgImNvbG9yIjogImJsdWUiLCAiZGFzaEFycmF5IjogbnVsbCwgImRhc2hPZmZzZXQiOiBudWxsLCAiZmlsbCI6IHRydWUsICJmaWxsQ29sb3IiOiAiIzMxODZjYyIsICJmaWxsT3BhY2l0eSI6IDAuNywgImZpbGxSdWxlIjogImV2ZW5vZGQiLCAibGluZUNhcCI6ICJyb3VuZCIsICJsaW5lSm9pbiI6ICJyb3VuZCIsICJvcGFjaXR5IjogMS4wLCAicmFkaXVzIjogNSwgInN0cm9rZSI6IHRydWUsICJ3ZWlnaHQiOiAzfQogICAgICAgICAgICApLmFkZFRvKG1hcF81NDI4MjgyMmFmYjg0MTNmOWU3NDEzYTdiMTE5NjEwYSk7CiAgICAgICAgCiAgICAKICAgICAgICB2YXIgcG9wdXBfOTJhOWJkMGYwNDdlNGY5YTkwZjk3MjFhM2NlNzdiYWEgPSBMLnBvcHVwKHsibWF4V2lkdGgiOiAiMTAwJSJ9KTsKCiAgICAgICAgCiAgICAgICAgICAgIHZhciBodG1sX2JjZDY3YWExOWE5YzRjNTNiNTBiZDQ2MTg0NTAzNDY3ID0gJChgPGRpdiBpZD0iaHRtbF9iY2Q2N2FhMTlhOWM0YzUzYjUwYmQ0NjE4NDUwMzQ2NyIgc3R5bGU9IndpZHRoOiAxMDAuMCU7IGhlaWdodDogMTAwLjAlOyI+bmFuLCBuYW48L2Rpdj5gKVswXTsKICAgICAgICAgICAgcG9wdXBfOTJhOWJkMGYwNDdlNGY5YTkwZjk3MjFhM2NlNzdiYWEuc2V0Q29udGVudChodG1sX2JjZDY3YWExOWE5YzRjNTNiNTBiZDQ2MTg0NTAzNDY3KTsKICAgICAgICAKCiAgICAgICAgY2lyY2xlX21hcmtlcl8yZjZjNmIyYTBjOTY0NTRhODQ4ZTIyNGFiZTE2YjBhZS5iaW5kUG9wdXAocG9wdXBfOTJhOWJkMGYwNDdlNGY5YTkwZjk3MjFhM2NlNzdiYWEpCiAgICAgICAgOwoKICAgICAgICAKICAgIAogICAgCiAgICAgICAgICAgIHZhciBjaXJjbGVfbWFya2VyX2M2M2EwNDIxY2QxZjRkOWJiY2Y3ZThhNDA0MzExOTJlID0gTC5jaXJjbGVNYXJrZXIoCiAgICAgICAgICAgICAgICBbNDMuNzU3NDkwMiwgLTc5LjM3NDcxNDA5OTk5OTk5XSwKICAgICAgICAgICAgICAgIHsiYnViYmxpbmdNb3VzZUV2ZW50cyI6IHRydWUsICJjb2xvciI6ICJibHVlIiwgImRhc2hBcnJheSI6IG51bGwsICJkYXNoT2Zmc2V0IjogbnVsbCwgImZpbGwiOiB0cnVlLCAiZmlsbENvbG9yIjogIiMzMTg2Y2MiLCAiZmlsbE9wYWNpdHkiOiAwLjcsICJmaWxsUnVsZSI6ICJldmVub2RkIiwgImxpbmVDYXAiOiAicm91bmQiLCAibGluZUpvaW4iOiAicm91bmQiLCAib3BhY2l0eSI6IDEuMCwgInJhZGl1cyI6IDUsICJzdHJva2UiOiB0cnVlLCAid2VpZ2h0IjogM30KICAgICAgICAgICAgKS5hZGRUbyhtYXBfNTQyODI4MjJhZmI4NDEzZjllNzQxM2E3YjExOTYxMGEpOwogICAgICAgIAogICAgCiAgICAgICAgdmFyIHBvcHVwXzg1NWJjY2I2YjYxOTRhNjRhMTY1YmE2OTVjNGFmYTcwID0gTC5wb3B1cCh7Im1heFdpZHRoIjogIjEwMCUifSk7CgogICAgICAgIAogICAgICAgICAgICB2YXIgaHRtbF8wY2QxNGU2MGRiYTg0ZDQ0OTQyY2ZlMzgzNzZmZTUxYyA9ICQoYDxkaXYgaWQ9Imh0bWxfMGNkMTRlNjBkYmE4NGQ0NDk0MmNmZTM4Mzc2ZmU1MWMiIHN0eWxlPSJ3aWR0aDogMTAwLjAlOyBoZWlnaHQ6IDEwMC4wJTsiPm5hbiwgbmFuPC9kaXY+YClbMF07CiAgICAgICAgICAgIHBvcHVwXzg1NWJjY2I2YjYxOTRhNjRhMTY1YmE2OTVjNGFmYTcwLnNldENvbnRlbnQoaHRtbF8wY2QxNGU2MGRiYTg0ZDQ0OTQyY2ZlMzgzNzZmZTUxYyk7CiAgICAgICAgCgogICAgICAgIGNpcmNsZV9tYXJrZXJfYzYzYTA0MjFjZDFmNGQ5YmJjZjdlOGE0MDQzMTE5MmUuYmluZFBvcHVwKHBvcHVwXzg1NWJjY2I2YjYxOTRhNjRhMTY1YmE2OTVjNGFmYTcwKQogICAgICAgIDsKCiAgICAgICAgCiAgICAKICAgIAogICAgICAgICAgICB2YXIgY2lyY2xlX21hcmtlcl8wYTZjYTlkYmI5YWY0NDlkOTA0MTY5ZTUwYjU4NTM0NiA9IEwuY2lyY2xlTWFya2VyKAogICAgICAgICAgICAgICAgWzQzLjc4OTA1MywgLTc5LjQwODQ5Mjc5OTk5OTk5XSwKICAgICAgICAgICAgICAgIHsiYnViYmxpbmdNb3VzZUV2ZW50cyI6IHRydWUsICJjb2xvciI6ICJibHVlIiwgImRhc2hBcnJheSI6IG51bGwsICJkYXNoT2Zmc2V0IjogbnVsbCwgImZpbGwiOiB0cnVlLCAiZmlsbENvbG9yIjogIiMzMTg2Y2MiLCAiZmlsbE9wYWNpdHkiOiAwLjcsICJmaWxsUnVsZSI6ICJldmVub2RkIiwgImxpbmVDYXAiOiAicm91bmQiLCAibGluZUpvaW4iOiAicm91bmQiLCAib3BhY2l0eSI6IDEuMCwgInJhZGl1cyI6IDUsICJzdHJva2UiOiB0cnVlLCAid2VpZ2h0IjogM30KICAgICAgICAgICAgKS5hZGRUbyhtYXBfNTQyODI4MjJhZmI4NDEzZjllNzQxM2E3YjExOTYxMGEpOwogICAgICAgIAogICAgCiAgICAgICAgdmFyIHBvcHVwX2ViMDQ1MDcxMjFhODQxODdiZmY0YThkNDUyOGFkOTA2ID0gTC5wb3B1cCh7Im1heFdpZHRoIjogIjEwMCUifSk7CgogICAgICAgIAogICAgICAgICAgICB2YXIgaHRtbF8yZGNhMTY1NWZkZmU0MGE1ODliNzQyMzY0OGI1NjVlNCA9ICQoYDxkaXYgaWQ9Imh0bWxfMmRjYTE2NTVmZGZlNDBhNTg5Yjc0MjM2NDhiNTY1ZTQiIHN0eWxlPSJ3aWR0aDogMTAwLjAlOyBoZWlnaHQ6IDEwMC4wJTsiPm5hbiwgbmFuPC9kaXY+YClbMF07CiAgICAgICAgICAgIHBvcHVwX2ViMDQ1MDcxMjFhODQxODdiZmY0YThkNDUyOGFkOTA2LnNldENvbnRlbnQoaHRtbF8yZGNhMTY1NWZkZmU0MGE1ODliNzQyMzY0OGI1NjVlNCk7CiAgICAgICAgCgogICAgICAgIGNpcmNsZV9tYXJrZXJfMGE2Y2E5ZGJiOWFmNDQ5ZDkwNDE2OWU1MGI1ODUzNDYuYmluZFBvcHVwKHBvcHVwX2ViMDQ1MDcxMjFhODQxODdiZmY0YThkNDUyOGFkOTA2KQogICAgICAgIDsKCiAgICAgICAgCiAgICAKICAgIAogICAgICAgICAgICB2YXIgY2lyY2xlX21hcmtlcl8zNjg1NWNhNTA0ODQ0ZDY5YTg3ZTFmOWNiNDM2YzkxYiA9IEwuY2lyY2xlTWFya2VyKAogICAgICAgICAgICAgICAgWzQzLjc3MDExOTksIC03OS40MDg0OTI3OTk5OTk5OV0sCiAgICAgICAgICAgICAgICB7ImJ1YmJsaW5nTW91c2VFdmVudHMiOiB0cnVlLCAiY29sb3IiOiAiYmx1ZSIsICJkYXNoQXJyYXkiOiBudWxsLCAiZGFzaE9mZnNldCI6IG51bGwsICJmaWxsIjogdHJ1ZSwgImZpbGxDb2xvciI6ICIjMzE4NmNjIiwgImZpbGxPcGFjaXR5IjogMC43LCAiZmlsbFJ1bGUiOiAiZXZlbm9kZCIsICJsaW5lQ2FwIjogInJvdW5kIiwgImxpbmVKb2luIjogInJvdW5kIiwgIm9wYWNpdHkiOiAxLjAsICJyYWRpdXMiOiA1LCAic3Ryb2tlIjogdHJ1ZSwgIndlaWdodCI6IDN9CiAgICAgICAgICAgICkuYWRkVG8obWFwXzU0MjgyODIyYWZiODQxM2Y5ZTc0MTNhN2IxMTk2MTBhKTsKICAgICAgICAKICAgIAogICAgICAgIHZhciBwb3B1cF9iMDEyMDUzOWM2Zjc0MzFhYTlhMDNiNDI0NDk3ZmNiMSA9IEwucG9wdXAoeyJtYXhXaWR0aCI6ICIxMDAlIn0pOwoKICAgICAgICAKICAgICAgICAgICAgdmFyIGh0bWxfYmM1MGZiYmIxMjQ0NGMzYTg5ZWU3MDYwOTY5YmI0MGIgPSAkKGA8ZGl2IGlkPSJodG1sX2JjNTBmYmJiMTI0NDRjM2E4OWVlNzA2MDk2OWJiNDBiIiBzdHlsZT0id2lkdGg6IDEwMC4wJTsgaGVpZ2h0OiAxMDAuMCU7Ij5uYW4sIG5hbjwvZGl2PmApWzBdOwogICAgICAgICAgICBwb3B1cF9iMDEyMDUzOWM2Zjc0MzFhYTlhMDNiNDI0NDk3ZmNiMS5zZXRDb250ZW50KGh0bWxfYmM1MGZiYmIxMjQ0NGMzYTg5ZWU3MDYwOTY5YmI0MGIpOwogICAgICAgIAoKICAgICAgICBjaXJjbGVfbWFya2VyXzM2ODU1Y2E1MDQ4NDRkNjlhODdlMWY5Y2I0MzZjOTFiLmJpbmRQb3B1cChwb3B1cF9iMDEyMDUzOWM2Zjc0MzFhYTlhMDNiNDI0NDk3ZmNiMSkKICAgICAgICA7CgogICAgICAgIAogICAgCiAgICAKICAgICAgICAgICAgdmFyIGNpcmNsZV9tYXJrZXJfYmEzYTQ2OWEzZDg5NGVkYWE4ZTBhZGNhNWM5MjZmOWIgPSBMLmNpcmNsZU1hcmtlcigKICAgICAgICAgICAgICAgIFs0My43NTI3NTgyOTk5OTk5OTYsIC03OS40MDAwNDkzXSwKICAgICAgICAgICAgICAgIHsiYnViYmxpbmdNb3VzZUV2ZW50cyI6IHRydWUsICJjb2xvciI6ICJibHVlIiwgImRhc2hBcnJheSI6IG51bGwsICJkYXNoT2Zmc2V0IjogbnVsbCwgImZpbGwiOiB0cnVlLCAiZmlsbENvbG9yIjogIiMzMTg2Y2MiLCAiZmlsbE9wYWNpdHkiOiAwLjcsICJmaWxsUnVsZSI6ICJldmVub2RkIiwgImxpbmVDYXAiOiAicm91bmQiLCAibGluZUpvaW4iOiAicm91bmQiLCAib3BhY2l0eSI6IDEuMCwgInJhZGl1cyI6IDUsICJzdHJva2UiOiB0cnVlLCAid2VpZ2h0IjogM30KICAgICAgICAgICAgKS5hZGRUbyhtYXBfNTQyODI4MjJhZmI4NDEzZjllNzQxM2E3YjExOTYxMGEpOwogICAgICAgIAogICAgCiAgICAgICAgdmFyIHBvcHVwX2E0YzBjZDA3YzljMDRiOTliYmNjOGM1OGQ2MWY5YTA2ID0gTC5wb3B1cCh7Im1heFdpZHRoIjogIjEwMCUifSk7CgogICAgICAgIAogICAgICAgICAgICB2YXIgaHRtbF83NTY0YWZlYjFlZGU0NjEyOGY1ZWIyMjJlODczNWM3NSA9ICQoYDxkaXYgaWQ9Imh0bWxfNzU2NGFmZWIxZWRlNDYxMjhmNWViMjIyZTg3MzVjNzUiIHN0eWxlPSJ3aWR0aDogMTAwLjAlOyBoZWlnaHQ6IDEwMC4wJTsiPm5hbiwgbmFuPC9kaXY+YClbMF07CiAgICAgICAgICAgIHBvcHVwX2E0YzBjZDA3YzljMDRiOTliYmNjOGM1OGQ2MWY5YTA2LnNldENvbnRlbnQoaHRtbF83NTY0YWZlYjFlZGU0NjEyOGY1ZWIyMjJlODczNWM3NSk7CiAgICAgICAgCgogICAgICAgIGNpcmNsZV9tYXJrZXJfYmEzYTQ2OWEzZDg5NGVkYWE4ZTBhZGNhNWM5MjZmOWIuYmluZFBvcHVwKHBvcHVwX2E0YzBjZDA3YzljMDRiOTliYmNjOGM1OGQ2MWY5YTA2KQogICAgICAgIDsKCiAgICAgICAgCiAgICAKICAgIAogICAgICAgICAgICB2YXIgY2lyY2xlX21hcmtlcl85YWU2YWE5OGM3OGU0OTdmYjU4ZWI1MjQ1OTIzY2E2MyA9IEwuY2lyY2xlTWFya2VyKAogICAgICAgICAgICAgICAgWzQzLjc4MjczNjQsIC03OS40NDIyNTkzXSwKICAgICAgICAgICAgICAgIHsiYnViYmxpbmdNb3VzZUV2ZW50cyI6IHRydWUsICJjb2xvciI6ICJibHVlIiwgImRhc2hBcnJheSI6IG51bGwsICJkYXNoT2Zmc2V0IjogbnVsbCwgImZpbGwiOiB0cnVlLCAiZmlsbENvbG9yIjogIiMzMTg2Y2MiLCAiZmlsbE9wYWNpdHkiOiAwLjcsICJmaWxsUnVsZSI6ICJldmVub2RkIiwgImxpbmVDYXAiOiAicm91bmQiLCAibGluZUpvaW4iOiAicm91bmQiLCAib3BhY2l0eSI6IDEuMCwgInJhZGl1cyI6IDUsICJzdHJva2UiOiB0cnVlLCAid2VpZ2h0IjogM30KICAgICAgICAgICAgKS5hZGRUbyhtYXBfNTQyODI4MjJhZmI4NDEzZjllNzQxM2E3YjExOTYxMGEpOwogICAgICAgIAogICAgCiAgICAgICAgdmFyIHBvcHVwX2FjMDg1NzFkMDhjMjRkOWNhOTZhYzI5Y2JhOGFlYTZmID0gTC5wb3B1cCh7Im1heFdpZHRoIjogIjEwMCUifSk7CgogICAgICAgIAogICAgICAgICAgICB2YXIgaHRtbF8yZmQ3MTU4NzBiN2I0NDNkOTBkY2JhYWNjZTRmNmYwZiA9ICQoYDxkaXYgaWQ9Imh0bWxfMmZkNzE1ODcwYjdiNDQzZDkwZGNiYWFjY2U0ZjZmMGYiIHN0eWxlPSJ3aWR0aDogMTAwLjAlOyBoZWlnaHQ6IDEwMC4wJTsiPm5hbiwgbmFuPC9kaXY+YClbMF07CiAgICAgICAgICAgIHBvcHVwX2FjMDg1NzFkMDhjMjRkOWNhOTZhYzI5Y2JhOGFlYTZmLnNldENvbnRlbnQoaHRtbF8yZmQ3MTU4NzBiN2I0NDNkOTBkY2JhYWNjZTRmNmYwZik7CiAgICAgICAgCgogICAgICAgIGNpcmNsZV9tYXJrZXJfOWFlNmFhOThjNzhlNDk3ZmI1OGViNTI0NTkyM2NhNjMuYmluZFBvcHVwKHBvcHVwX2FjMDg1NzFkMDhjMjRkOWNhOTZhYzI5Y2JhOGFlYTZmKQogICAgICAgIDsKCiAgICAgICAgCiAgICAKICAgIAogICAgICAgICAgICB2YXIgY2lyY2xlX21hcmtlcl8wN2NhZTE4OTUzMWM0YTc5OGQ0MjY4MjMwYjQwNTBkYiA9IEwuY2lyY2xlTWFya2VyKAogICAgICAgICAgICAgICAgWzQzLjc1MzI1ODYsIC03OS4zMjk2NTY1XSwKICAgICAgICAgICAgICAgIHsiYnViYmxpbmdNb3VzZUV2ZW50cyI6IHRydWUsICJjb2xvciI6ICJibHVlIiwgImRhc2hBcnJheSI6IG51bGwsICJkYXNoT2Zmc2V0IjogbnVsbCwgImZpbGwiOiB0cnVlLCAiZmlsbENvbG9yIjogIiMzMTg2Y2MiLCAiZmlsbE9wYWNpdHkiOiAwLjcsICJmaWxsUnVsZSI6ICJldmVub2RkIiwgImxpbmVDYXAiOiAicm91bmQiLCAibGluZUpvaW4iOiAicm91bmQiLCAib3BhY2l0eSI6IDEuMCwgInJhZGl1cyI6IDUsICJzdHJva2UiOiB0cnVlLCAid2VpZ2h0IjogM30KICAgICAgICAgICAgKS5hZGRUbyhtYXBfNTQyODI4MjJhZmI4NDEzZjllNzQxM2E3YjExOTYxMGEpOwogICAgICAgIAogICAgCiAgICAgICAgdmFyIHBvcHVwXzMxNmVjNWY4YzQxYzQ1NjBiMWU4OGM1MWU4YjYzNWE0ID0gTC5wb3B1cCh7Im1heFdpZHRoIjogIjEwMCUifSk7CgogICAgICAgIAogICAgICAgICAgICB2YXIgaHRtbF80ZjY5MTE5ZWM1M2M0MmY0YmU4MDAzOWJhNTI3ZjMzNSA9ICQoYDxkaXYgaWQ9Imh0bWxfNGY2OTExOWVjNTNjNDJmNGJlODAwMzliYTUyN2YzMzUiIHN0eWxlPSJ3aWR0aDogMTAwLjAlOyBoZWlnaHQ6IDEwMC4wJTsiPm5hbiwgbmFuPC9kaXY+YClbMF07CiAgICAgICAgICAgIHBvcHVwXzMxNmVjNWY4YzQxYzQ1NjBiMWU4OGM1MWU4YjYzNWE0LnNldENvbnRlbnQoaHRtbF80ZjY5MTE5ZWM1M2M0MmY0YmU4MDAzOWJhNTI3ZjMzNSk7CiAgICAgICAgCgogICAgICAgIGNpcmNsZV9tYXJrZXJfMDdjYWUxODk1MzFjNGE3OThkNDI2ODIzMGI0MDUwZGIuYmluZFBvcHVwKHBvcHVwXzMxNmVjNWY4YzQxYzQ1NjBiMWU4OGM1MWU4YjYzNWE0KQogICAgICAgIDsKCiAgICAgICAgCiAgICAKICAgIAogICAgICAgICAgICB2YXIgY2lyY2xlX21hcmtlcl83NDNkN2UzNThmYWI0ZTE0YTM2MTg2NjIwZTlmM2I0YSA9IEwuY2lyY2xlTWFya2VyKAogICAgICAgICAgICAgICAgWzQzLjc0NTkwNTc5OTk5OTk5NiwgLTc5LjM1MjE4OF0sCiAgICAgICAgICAgICAgICB7ImJ1YmJsaW5nTW91c2VFdmVudHMiOiB0cnVlLCAiY29sb3IiOiAiYmx1ZSIsICJkYXNoQXJyYXkiOiBudWxsLCAiZGFzaE9mZnNldCI6IG51bGwsICJmaWxsIjogdHJ1ZSwgImZpbGxDb2xvciI6ICIjMzE4NmNjIiwgImZpbGxPcGFjaXR5IjogMC43LCAiZmlsbFJ1bGUiOiAiZXZlbm9kZCIsICJsaW5lQ2FwIjogInJvdW5kIiwgImxpbmVKb2luIjogInJvdW5kIiwgIm9wYWNpdHkiOiAxLjAsICJyYWRpdXMiOiA1LCAic3Ryb2tlIjogdHJ1ZSwgIndlaWdodCI6IDN9CiAgICAgICAgICAgICkuYWRkVG8obWFwXzU0MjgyODIyYWZiODQxM2Y5ZTc0MTNhN2IxMTk2MTBhKTsKICAgICAgICAKICAgIAogICAgICAgIHZhciBwb3B1cF9mMzVmYjdkOGNkODc0Njc4YTkwZWU1NDYxYzcxYWE2OCA9IEwucG9wdXAoeyJtYXhXaWR0aCI6ICIxMDAlIn0pOwoKICAgICAgICAKICAgICAgICAgICAgdmFyIGh0bWxfODc1MzZmZjc5ZWFkNDU0ZWI2YWY5ODFiMDkzYWY1ODUgPSAkKGA8ZGl2IGlkPSJodG1sXzg3NTM2ZmY3OWVhZDQ1NGViNmFmOTgxYjA5M2FmNTg1IiBzdHlsZT0id2lkdGg6IDEwMC4wJTsgaGVpZ2h0OiAxMDAuMCU7Ij5uYW4sIG5hbjwvZGl2PmApWzBdOwogICAgICAgICAgICBwb3B1cF9mMzVmYjdkOGNkODc0Njc4YTkwZWU1NDYxYzcxYWE2OC5zZXRDb250ZW50KGh0bWxfODc1MzZmZjc5ZWFkNDU0ZWI2YWY5ODFiMDkzYWY1ODUpOwogICAgICAgIAoKICAgICAgICBjaXJjbGVfbWFya2VyXzc0M2Q3ZTM1OGZhYjRlMTRhMzYxODY2MjBlOWYzYjRhLmJpbmRQb3B1cChwb3B1cF9mMzVmYjdkOGNkODc0Njc4YTkwZWU1NDYxYzcxYWE2OCkKICAgICAgICA7CgogICAgICAgIAogICAgCiAgICAKICAgICAgICAgICAgdmFyIGNpcmNsZV9tYXJrZXJfNDZmOTA3ODVkOGZiNDc5NGEzZmY5NjIzNGE5NDEzNmYgPSBMLmNpcmNsZU1hcmtlcigKICAgICAgICAgICAgICAgIFs0My43MjU4OTk3MDAwMDAwMSwgLTc5LjM0MDkyM10sCiAgICAgICAgICAgICAgICB7ImJ1YmJsaW5nTW91c2VFdmVudHMiOiB0cnVlLCAiY29sb3IiOiAiYmx1ZSIsICJkYXNoQXJyYXkiOiBudWxsLCAiZGFzaE9mZnNldCI6IG51bGwsICJmaWxsIjogdHJ1ZSwgImZpbGxDb2xvciI6ICIjMzE4NmNjIiwgImZpbGxPcGFjaXR5IjogMC43LCAiZmlsbFJ1bGUiOiAiZXZlbm9kZCIsICJsaW5lQ2FwIjogInJvdW5kIiwgImxpbmVKb2luIjogInJvdW5kIiwgIm9wYWNpdHkiOiAxLjAsICJyYWRpdXMiOiA1LCAic3Ryb2tlIjogdHJ1ZSwgIndlaWdodCI6IDN9CiAgICAgICAgICAgICkuYWRkVG8obWFwXzU0MjgyODIyYWZiODQxM2Y5ZTc0MTNhN2IxMTk2MTBhKTsKICAgICAgICAKICAgIAogICAgICAgIHZhciBwb3B1cF8yMjQ4N2U2MTY3MDA0NWQyYmNhYTEzMThlNWU0MmYxOSA9IEwucG9wdXAoeyJtYXhXaWR0aCI6ICIxMDAlIn0pOwoKICAgICAgICAKICAgICAgICAgICAgdmFyIGh0bWxfYTM0MzJjNWI0NjBlNGY2OGIzMjYxNTU1NWU0ZjgwNjEgPSAkKGA8ZGl2IGlkPSJodG1sX2EzNDMyYzViNDYwZTRmNjhiMzI2MTU1NTVlNGY4MDYxIiBzdHlsZT0id2lkdGg6IDEwMC4wJTsgaGVpZ2h0OiAxMDAuMCU7Ij5uYW4sIG5hbjwvZGl2PmApWzBdOwogICAgICAgICAgICBwb3B1cF8yMjQ4N2U2MTY3MDA0NWQyYmNhYTEzMThlNWU0MmYxOS5zZXRDb250ZW50KGh0bWxfYTM0MzJjNWI0NjBlNGY2OGIzMjYxNTU1NWU0ZjgwNjEpOwogICAgICAgIAoKICAgICAgICBjaXJjbGVfbWFya2VyXzQ2ZjkwNzg1ZDhmYjQ3OTRhM2ZmOTYyMzRhOTQxMzZmLmJpbmRQb3B1cChwb3B1cF8yMjQ4N2U2MTY3MDA0NWQyYmNhYTEzMThlNWU0MmYxOSkKICAgICAgICA7CgogICAgICAgIAogICAgCiAgICAKICAgICAgICAgICAgdmFyIGNpcmNsZV9tYXJrZXJfMzhjNDZlMGM2MWFjNGJjYTkwMjY3ODdhZDc1OTFmYzEgPSBMLmNpcmNsZU1hcmtlcigKICAgICAgICAgICAgICAgIFs0My43NTQzMjgzLCAtNzkuNDQyMjU5M10sCiAgICAgICAgICAgICAgICB7ImJ1YmJsaW5nTW91c2VFdmVudHMiOiB0cnVlLCAiY29sb3IiOiAiYmx1ZSIsICJkYXNoQXJyYXkiOiBudWxsLCAiZGFzaE9mZnNldCI6IG51bGwsICJmaWxsIjogdHJ1ZSwgImZpbGxDb2xvciI6ICIjMzE4NmNjIiwgImZpbGxPcGFjaXR5IjogMC43LCAiZmlsbFJ1bGUiOiAiZXZlbm9kZCIsICJsaW5lQ2FwIjogInJvdW5kIiwgImxpbmVKb2luIjogInJvdW5kIiwgIm9wYWNpdHkiOiAxLjAsICJyYWRpdXMiOiA1LCAic3Ryb2tlIjogdHJ1ZSwgIndlaWdodCI6IDN9CiAgICAgICAgICAgICkuYWRkVG8obWFwXzU0MjgyODIyYWZiODQxM2Y5ZTc0MTNhN2IxMTk2MTBhKTsKICAgICAgICAKICAgIAogICAgICAgIHZhciBwb3B1cF9iZmVjMDBmYTlmMWQ0ZjVmYTViMmY3YmQzMDI3YzcxYyA9IEwucG9wdXAoeyJtYXhXaWR0aCI6ICIxMDAlIn0pOwoKICAgICAgICAKICAgICAgICAgICAgdmFyIGh0bWxfNGVjMzA3M2IwZWJjNDYyYmFkMGM2YzY2YzhjNTEwMmUgPSAkKGA8ZGl2IGlkPSJodG1sXzRlYzMwNzNiMGViYzQ2MmJhZDBjNmM2NmM4YzUxMDJlIiBzdHlsZT0id2lkdGg6IDEwMC4wJTsgaGVpZ2h0OiAxMDAuMCU7Ij5uYW4sIG5hbjwvZGl2PmApWzBdOwogICAgICAgICAgICBwb3B1cF9iZmVjMDBmYTlmMWQ0ZjVmYTViMmY3YmQzMDI3YzcxYy5zZXRDb250ZW50KGh0bWxfNGVjMzA3M2IwZWJjNDYyYmFkMGM2YzY2YzhjNTEwMmUpOwogICAgICAgIAoKICAgICAgICBjaXJjbGVfbWFya2VyXzM4YzQ2ZTBjNjFhYzRiY2E5MDI2Nzg3YWQ3NTkxZmMxLmJpbmRQb3B1cChwb3B1cF9iZmVjMDBmYTlmMWQ0ZjVmYTViMmY3YmQzMDI3YzcxYykKICAgICAgICA7CgogICAgICAgIAogICAgCiAgICAKICAgICAgICAgICAgdmFyIGNpcmNsZV9tYXJrZXJfZTFiYzQ2ZjViMmVmNGY2OTlkZDFhNzUzYmNmMjUxYWEgPSBMLmNpcmNsZU1hcmtlcigKICAgICAgICAgICAgICAgIFs0My43Njc5ODAzLCAtNzkuNDg3MjYxOTAwMDAwMDFdLAogICAgICAgICAgICAgICAgeyJidWJibGluZ01vdXNlRXZlbnRzIjogdHJ1ZSwgImNvbG9yIjogImJsdWUiLCAiZGFzaEFycmF5IjogbnVsbCwgImRhc2hPZmZzZXQiOiBudWxsLCAiZmlsbCI6IHRydWUsICJmaWxsQ29sb3IiOiAiIzMxODZjYyIsICJmaWxsT3BhY2l0eSI6IDAuNywgImZpbGxSdWxlIjogImV2ZW5vZGQiLCAibGluZUNhcCI6ICJyb3VuZCIsICJsaW5lSm9pbiI6ICJyb3VuZCIsICJvcGFjaXR5IjogMS4wLCAicmFkaXVzIjogNSwgInN0cm9rZSI6IHRydWUsICJ3ZWlnaHQiOiAzfQogICAgICAgICAgICApLmFkZFRvKG1hcF81NDI4MjgyMmFmYjg0MTNmOWU3NDEzYTdiMTE5NjEwYSk7CiAgICAgICAgCiAgICAKICAgICAgICB2YXIgcG9wdXBfN2MxZTRlYjY5YWIzNDM4ODllODU0N2VkZGE3ODQ3NjIgPSBMLnBvcHVwKHsibWF4V2lkdGgiOiAiMTAwJSJ9KTsKCiAgICAgICAgCiAgICAgICAgICAgIHZhciBodG1sX2FhNTE5ZTY4ODg0ZTRmMGFhMzk1ODdjODNhNDk4NjdmID0gJChgPGRpdiBpZD0iaHRtbF9hYTUxOWU2ODg4NGU0ZjBhYTM5NTg3YzgzYTQ5ODY3ZiIgc3R5bGU9IndpZHRoOiAxMDAuMCU7IGhlaWdodDogMTAwLjAlOyI+bmFuLCBuYW48L2Rpdj5gKVswXTsKICAgICAgICAgICAgcG9wdXBfN2MxZTRlYjY5YWIzNDM4ODllODU0N2VkZGE3ODQ3NjIuc2V0Q29udGVudChodG1sX2FhNTE5ZTY4ODg0ZTRmMGFhMzk1ODdjODNhNDk4NjdmKTsKICAgICAgICAKCiAgICAgICAgY2lyY2xlX21hcmtlcl9lMWJjNDZmNWIyZWY0ZjY5OWRkMWE3NTNiY2YyNTFhYS5iaW5kUG9wdXAocG9wdXBfN2MxZTRlYjY5YWIzNDM4ODllODU0N2VkZGE3ODQ3NjIpCiAgICAgICAgOwoKICAgICAgICAKICAgIAogICAgCiAgICAgICAgICAgIHZhciBjaXJjbGVfbWFya2VyXzY4NjIwYmNhNWE1YTQ4ODg4ODRhNzc4ZWZlODY1ZjQzID0gTC5jaXJjbGVNYXJrZXIoCiAgICAgICAgICAgICAgICBbNDMuNzM3NDczMjAwMDAwMDA0LCAtNzkuNDY0NzYzMjk5OTk5OTldLAogICAgICAgICAgICAgICAgeyJidWJibGluZ01vdXNlRXZlbnRzIjogdHJ1ZSwgImNvbG9yIjogImJsdWUiLCAiZGFzaEFycmF5IjogbnVsbCwgImRhc2hPZmZzZXQiOiBudWxsLCAiZmlsbCI6IHRydWUsICJmaWxsQ29sb3IiOiAiIzMxODZjYyIsICJmaWxsT3BhY2l0eSI6IDAuNywgImZpbGxSdWxlIjogImV2ZW5vZGQiLCAibGluZUNhcCI6ICJyb3VuZCIsICJsaW5lSm9pbiI6ICJyb3VuZCIsICJvcGFjaXR5IjogMS4wLCAicmFkaXVzIjogNSwgInN0cm9rZSI6IHRydWUsICJ3ZWlnaHQiOiAzfQogICAgICAgICAgICApLmFkZFRvKG1hcF81NDI4MjgyMmFmYjg0MTNmOWU3NDEzYTdiMTE5NjEwYSk7CiAgICAgICAgCiAgICAKICAgICAgICB2YXIgcG9wdXBfYTg4ZDFhMTRlN2UxNGI1MGIyMjYyNmM2MDZkN2EyODkgPSBMLnBvcHVwKHsibWF4V2lkdGgiOiAiMTAwJSJ9KTsKCiAgICAgICAgCiAgICAgICAgICAgIHZhciBodG1sXzljYTE4OWJmODE2MTRmNDdhOTk4NzdkYmM4ZDYzNjM3ID0gJChgPGRpdiBpZD0iaHRtbF85Y2ExODliZjgxNjE0ZjQ3YTk5ODc3ZGJjOGQ2MzYzNyIgc3R5bGU9IndpZHRoOiAxMDAuMCU7IGhlaWdodDogMTAwLjAlOyI+bmFuLCBuYW48L2Rpdj5gKVswXTsKICAgICAgICAgICAgcG9wdXBfYTg4ZDFhMTRlN2UxNGI1MGIyMjYyNmM2MDZkN2EyODkuc2V0Q29udGVudChodG1sXzljYTE4OWJmODE2MTRmNDdhOTk4NzdkYmM4ZDYzNjM3KTsKICAgICAgICAKCiAgICAgICAgY2lyY2xlX21hcmtlcl82ODYyMGJjYTVhNWE0ODg4ODg0YTc3OGVmZTg2NWY0My5iaW5kUG9wdXAocG9wdXBfYTg4ZDFhMTRlN2UxNGI1MGIyMjYyNmM2MDZkN2EyODkpCiAgICAgICAgOwoKICAgICAgICAKICAgIAogICAgCiAgICAgICAgICAgIHZhciBjaXJjbGVfbWFya2VyXzI3ZDhhZjBkMWI1ZDRhNzg4MGQ1NmQ3MTE0NGI3MTEzID0gTC5jaXJjbGVNYXJrZXIoCiAgICAgICAgICAgICAgICBbNDMuNzM5MDE0NiwgLTc5LjUwNjk0MzZdLAogICAgICAgICAgICAgICAgeyJidWJibGluZ01vdXNlRXZlbnRzIjogdHJ1ZSwgImNvbG9yIjogImJsdWUiLCAiZGFzaEFycmF5IjogbnVsbCwgImRhc2hPZmZzZXQiOiBudWxsLCAiZmlsbCI6IHRydWUsICJmaWxsQ29sb3IiOiAiIzMxODZjYyIsICJmaWxsT3BhY2l0eSI6IDAuNywgImZpbGxSdWxlIjogImV2ZW5vZGQiLCAibGluZUNhcCI6ICJyb3VuZCIsICJsaW5lSm9pbiI6ICJyb3VuZCIsICJvcGFjaXR5IjogMS4wLCAicmFkaXVzIjogNSwgInN0cm9rZSI6IHRydWUsICJ3ZWlnaHQiOiAzfQogICAgICAgICAgICApLmFkZFRvKG1hcF81NDI4MjgyMmFmYjg0MTNmOWU3NDEzYTdiMTE5NjEwYSk7CiAgICAgICAgCiAgICAKICAgICAgICB2YXIgcG9wdXBfMzVkMDczMDRkNWM5NGIxODliMzRkYjRmMDRlY2YzZDUgPSBMLnBvcHVwKHsibWF4V2lkdGgiOiAiMTAwJSJ9KTsKCiAgICAgICAgCiAgICAgICAgICAgIHZhciBodG1sXzE5NzA0ZWY3Y2IyZDRkNGRhODU1NGVhMjU3NDRmZTc1ID0gJChgPGRpdiBpZD0iaHRtbF8xOTcwNGVmN2NiMmQ0ZDRkYTg1NTRlYTI1NzQ0ZmU3NSIgc3R5bGU9IndpZHRoOiAxMDAuMCU7IGhlaWdodDogMTAwLjAlOyI+bmFuLCBuYW48L2Rpdj5gKVswXTsKICAgICAgICAgICAgcG9wdXBfMzVkMDczMDRkNWM5NGIxODliMzRkYjRmMDRlY2YzZDUuc2V0Q29udGVudChodG1sXzE5NzA0ZWY3Y2IyZDRkNGRhODU1NGVhMjU3NDRmZTc1KTsKICAgICAgICAKCiAgICAgICAgY2lyY2xlX21hcmtlcl8yN2Q4YWYwZDFiNWQ0YTc4ODBkNTZkNzExNDRiNzExMy5iaW5kUG9wdXAocG9wdXBfMzVkMDczMDRkNWM5NGIxODliMzRkYjRmMDRlY2YzZDUpCiAgICAgICAgOwoKICAgICAgICAKICAgIAogICAgCiAgICAgICAgICAgIHZhciBjaXJjbGVfbWFya2VyXzNkZjQ4NWIzMTU3ZDRjMzJiMGZkZmNkOGY3YjcxMWVlID0gTC5jaXJjbGVNYXJrZXIoCiAgICAgICAgICAgICAgICBbNDMuNzI4NDk2NCwgLTc5LjQ5NTY5NzQwMDAwMDAxXSwKICAgICAgICAgICAgICAgIHsiYnViYmxpbmdNb3VzZUV2ZW50cyI6IHRydWUsICJjb2xvciI6ICJibHVlIiwgImRhc2hBcnJheSI6IG51bGwsICJkYXNoT2Zmc2V0IjogbnVsbCwgImZpbGwiOiB0cnVlLCAiZmlsbENvbG9yIjogIiMzMTg2Y2MiLCAiZmlsbE9wYWNpdHkiOiAwLjcsICJmaWxsUnVsZSI6ICJldmVub2RkIiwgImxpbmVDYXAiOiAicm91bmQiLCAibGluZUpvaW4iOiAicm91bmQiLCAib3BhY2l0eSI6IDEuMCwgInJhZGl1cyI6IDUsICJzdHJva2UiOiB0cnVlLCAid2VpZ2h0IjogM30KICAgICAgICAgICAgKS5hZGRUbyhtYXBfNTQyODI4MjJhZmI4NDEzZjllNzQxM2E3YjExOTYxMGEpOwogICAgICAgIAogICAgCiAgICAgICAgdmFyIHBvcHVwXzFlY2E0Y2EyYWE2YTRlODM5MTNhZGM0YmVjYWRjNmZkID0gTC5wb3B1cCh7Im1heFdpZHRoIjogIjEwMCUifSk7CgogICAgICAgIAogICAgICAgICAgICB2YXIgaHRtbF8wMjVmMmNmYTVjNzE0ZjI1YWFiZjBhMjQxZmYxMzU1NSA9ICQoYDxkaXYgaWQ9Imh0bWxfMDI1ZjJjZmE1YzcxNGYyNWFhYmYwYTI0MWZmMTM1NTUiIHN0eWxlPSJ3aWR0aDogMTAwLjAlOyBoZWlnaHQ6IDEwMC4wJTsiPm5hbiwgbmFuPC9kaXY+YClbMF07CiAgICAgICAgICAgIHBvcHVwXzFlY2E0Y2EyYWE2YTRlODM5MTNhZGM0YmVjYWRjNmZkLnNldENvbnRlbnQoaHRtbF8wMjVmMmNmYTVjNzE0ZjI1YWFiZjBhMjQxZmYxMzU1NSk7CiAgICAgICAgCgogICAgICAgIGNpcmNsZV9tYXJrZXJfM2RmNDg1YjMxNTdkNGMzMmIwZmRmY2Q4ZjdiNzExZWUuYmluZFBvcHVwKHBvcHVwXzFlY2E0Y2EyYWE2YTRlODM5MTNhZGM0YmVjYWRjNmZkKQogICAgICAgIDsKCiAgICAgICAgCiAgICAKICAgIAogICAgICAgICAgICB2YXIgY2lyY2xlX21hcmtlcl9mOGI5MTQwMTVkMjE0YmEyYWVkYWU5OWFiMmIyMjdlNSA9IEwuY2lyY2xlTWFya2VyKAogICAgICAgICAgICAgICAgWzQzLjc2MTYzMTMsIC03OS41MjA5OTk0MDAwMDAwMV0sCiAgICAgICAgICAgICAgICB7ImJ1YmJsaW5nTW91c2VFdmVudHMiOiB0cnVlLCAiY29sb3IiOiAiYmx1ZSIsICJkYXNoQXJyYXkiOiBudWxsLCAiZGFzaE9mZnNldCI6IG51bGwsICJmaWxsIjogdHJ1ZSwgImZpbGxDb2xvciI6ICIjMzE4NmNjIiwgImZpbGxPcGFjaXR5IjogMC43LCAiZmlsbFJ1bGUiOiAiZXZlbm9kZCIsICJsaW5lQ2FwIjogInJvdW5kIiwgImxpbmVKb2luIjogInJvdW5kIiwgIm9wYWNpdHkiOiAxLjAsICJyYWRpdXMiOiA1LCAic3Ryb2tlIjogdHJ1ZSwgIndlaWdodCI6IDN9CiAgICAgICAgICAgICkuYWRkVG8obWFwXzU0MjgyODIyYWZiODQxM2Y5ZTc0MTNhN2IxMTk2MTBhKTsKICAgICAgICAKICAgIAogICAgICAgIHZhciBwb3B1cF9iZGRhMjVjMTdmZjI0MDFjYTVlYWFiYjExMGMxZDk5YiA9IEwucG9wdXAoeyJtYXhXaWR0aCI6ICIxMDAlIn0pOwoKICAgICAgICAKICAgICAgICAgICAgdmFyIGh0bWxfZmIwMjY1NjdhN2IyNGUzMGE2ZTRiMTQ5MDMxNDYyODAgPSAkKGA8ZGl2IGlkPSJodG1sX2ZiMDI2NTY3YTdiMjRlMzBhNmU0YjE0OTAzMTQ2MjgwIiBzdHlsZT0id2lkdGg6IDEwMC4wJTsgaGVpZ2h0OiAxMDAuMCU7Ij5uYW4sIG5hbjwvZGl2PmApWzBdOwogICAgICAgICAgICBwb3B1cF9iZGRhMjVjMTdmZjI0MDFjYTVlYWFiYjExMGMxZDk5Yi5zZXRDb250ZW50KGh0bWxfZmIwMjY1NjdhN2IyNGUzMGE2ZTRiMTQ5MDMxNDYyODApOwogICAgICAgIAoKICAgICAgICBjaXJjbGVfbWFya2VyX2Y4YjkxNDAxNWQyMTRiYTJhZWRhZTk5YWIyYjIyN2U1LmJpbmRQb3B1cChwb3B1cF9iZGRhMjVjMTdmZjI0MDFjYTVlYWFiYjExMGMxZDk5YikKICAgICAgICA7CgogICAgICAgIAogICAgCiAgICAKICAgICAgICAgICAgdmFyIGNpcmNsZV9tYXJrZXJfMTdkNTk3ODdlNWJhNDBhOGJlNTdkNmZmNGQwMzM2MGYgPSBMLmNpcmNsZU1hcmtlcigKICAgICAgICAgICAgICAgIFs0My43MjU4ODIyOTk5OTk5OTUsIC03OS4zMTU1NzE1OTk5OTk5OF0sCiAgICAgICAgICAgICAgICB7ImJ1YmJsaW5nTW91c2VFdmVudHMiOiB0cnVlLCAiY29sb3IiOiAiYmx1ZSIsICJkYXNoQXJyYXkiOiBudWxsLCAiZGFzaE9mZnNldCI6IG51bGwsICJmaWxsIjogdHJ1ZSwgImZpbGxDb2xvciI6ICIjMzE4NmNjIiwgImZpbGxPcGFjaXR5IjogMC43LCAiZmlsbFJ1bGUiOiAiZXZlbm9kZCIsICJsaW5lQ2FwIjogInJvdW5kIiwgImxpbmVKb2luIjogInJvdW5kIiwgIm9wYWNpdHkiOiAxLjAsICJyYWRpdXMiOiA1LCAic3Ryb2tlIjogdHJ1ZSwgIndlaWdodCI6IDN9CiAgICAgICAgICAgICkuYWRkVG8obWFwXzU0MjgyODIyYWZiODQxM2Y5ZTc0MTNhN2IxMTk2MTBhKTsKICAgICAgICAKICAgIAogICAgICAgIHZhciBwb3B1cF9mMjE2MWFmYmM5YzU0MjM1OWZhNzcyNjc4YTlkYTI3OSA9IEwucG9wdXAoeyJtYXhXaWR0aCI6ICIxMDAlIn0pOwoKICAgICAgICAKICAgICAgICAgICAgdmFyIGh0bWxfODFkNTU4ZmEyZDUzNDQ2ZGIyOGE1OGEwZDQ2YTFlZDUgPSAkKGA8ZGl2IGlkPSJodG1sXzgxZDU1OGZhMmQ1MzQ0NmRiMjhhNThhMGQ0NmExZWQ1IiBzdHlsZT0id2lkdGg6IDEwMC4wJTsgaGVpZ2h0OiAxMDAuMCU7Ij5uYW4sIG5hbjwvZGl2PmApWzBdOwogICAgICAgICAgICBwb3B1cF9mMjE2MWFmYmM5YzU0MjM1OWZhNzcyNjc4YTlkYTI3OS5zZXRDb250ZW50KGh0bWxfODFkNTU4ZmEyZDUzNDQ2ZGIyOGE1OGEwZDQ2YTFlZDUpOwogICAgICAgIAoKICAgICAgICBjaXJjbGVfbWFya2VyXzE3ZDU5Nzg3ZTViYTQwYThiZTU3ZDZmZjRkMDMzNjBmLmJpbmRQb3B1cChwb3B1cF9mMjE2MWFmYmM5YzU0MjM1OWZhNzcyNjc4YTlkYTI3OSkKICAgICAgICA7CgogICAgICAgIAogICAgCiAgICAKICAgICAgICAgICAgdmFyIGNpcmNsZV9tYXJrZXJfMDg0ZDA0NzJjMGZkNDM0NWJmNDhjYjdmNjRiZGNkMzcgPSBMLmNpcmNsZU1hcmtlcigKICAgICAgICAgICAgICAgIFs0My43MDYzOTcyLCAtNzkuMzA5OTM3XSwKICAgICAgICAgICAgICAgIHsiYnViYmxpbmdNb3VzZUV2ZW50cyI6IHRydWUsICJjb2xvciI6ICJibHVlIiwgImRhc2hBcnJheSI6IG51bGwsICJkYXNoT2Zmc2V0IjogbnVsbCwgImZpbGwiOiB0cnVlLCAiZmlsbENvbG9yIjogIiMzMTg2Y2MiLCAiZmlsbE9wYWNpdHkiOiAwLjcsICJmaWxsUnVsZSI6ICJldmVub2RkIiwgImxpbmVDYXAiOiAicm91bmQiLCAibGluZUpvaW4iOiAicm91bmQiLCAib3BhY2l0eSI6IDEuMCwgInJhZGl1cyI6IDUsICJzdHJva2UiOiB0cnVlLCAid2VpZ2h0IjogM30KICAgICAgICAgICAgKS5hZGRUbyhtYXBfNTQyODI4MjJhZmI4NDEzZjllNzQxM2E3YjExOTYxMGEpOwogICAgICAgIAogICAgCiAgICAgICAgdmFyIHBvcHVwXzFjYjk3NzE3ZmVhMDRlNTk4NWY2ZDY0MDU4ZmQyOGY1ID0gTC5wb3B1cCh7Im1heFdpZHRoIjogIjEwMCUifSk7CgogICAgICAgIAogICAgICAgICAgICB2YXIgaHRtbF9hNzljM2Y3YTMxZDI0ZTMyOTExNmIzMTQ1NGNhMDQ4MCA9ICQoYDxkaXYgaWQ9Imh0bWxfYTc5YzNmN2EzMWQyNGUzMjkxMTZiMzE0NTRjYTA0ODAiIHN0eWxlPSJ3aWR0aDogMTAwLjAlOyBoZWlnaHQ6IDEwMC4wJTsiPm5hbiwgbmFuPC9kaXY+YClbMF07CiAgICAgICAgICAgIHBvcHVwXzFjYjk3NzE3ZmVhMDRlNTk4NWY2ZDY0MDU4ZmQyOGY1LnNldENvbnRlbnQoaHRtbF9hNzljM2Y3YTMxZDI0ZTMyOTExNmIzMTQ1NGNhMDQ4MCk7CiAgICAgICAgCgogICAgICAgIGNpcmNsZV9tYXJrZXJfMDg0ZDA0NzJjMGZkNDM0NWJmNDhjYjdmNjRiZGNkMzcuYmluZFBvcHVwKHBvcHVwXzFjYjk3NzE3ZmVhMDRlNTk4NWY2ZDY0MDU4ZmQyOGY1KQogICAgICAgIDsKCiAgICAgICAgCiAgICAKICAgIAogICAgICAgICAgICB2YXIgY2lyY2xlX21hcmtlcl8wNTQwMzcwMzVkNmE0MTlmYTBjN2U5YmI0MjhlNGY5YSA9IEwuY2lyY2xlTWFya2VyKAogICAgICAgICAgICAgICAgWzQzLjY5NTM0MzkwMDAwMDAwNSwgLTc5LjMxODM4ODddLAogICAgICAgICAgICAgICAgeyJidWJibGluZ01vdXNlRXZlbnRzIjogdHJ1ZSwgImNvbG9yIjogImJsdWUiLCAiZGFzaEFycmF5IjogbnVsbCwgImRhc2hPZmZzZXQiOiBudWxsLCAiZmlsbCI6IHRydWUsICJmaWxsQ29sb3IiOiAiIzMxODZjYyIsICJmaWxsT3BhY2l0eSI6IDAuNywgImZpbGxSdWxlIjogImV2ZW5vZGQiLCAibGluZUNhcCI6ICJyb3VuZCIsICJsaW5lSm9pbiI6ICJyb3VuZCIsICJvcGFjaXR5IjogMS4wLCAicmFkaXVzIjogNSwgInN0cm9rZSI6IHRydWUsICJ3ZWlnaHQiOiAzfQogICAgICAgICAgICApLmFkZFRvKG1hcF81NDI4MjgyMmFmYjg0MTNmOWU3NDEzYTdiMTE5NjEwYSk7CiAgICAgICAgCiAgICAKICAgICAgICB2YXIgcG9wdXBfODQyNzk0OTBhNmQxNDI1MjhiMWEyYzE4NmQwY2U4MmQgPSBMLnBvcHVwKHsibWF4V2lkdGgiOiAiMTAwJSJ9KTsKCiAgICAgICAgCiAgICAgICAgICAgIHZhciBodG1sXzgxYTdkNTA5MDlkYzRiM2FiMWFjYTkwZWM3M2FkZTgwID0gJChgPGRpdiBpZD0iaHRtbF84MWE3ZDUwOTA5ZGM0YjNhYjFhY2E5MGVjNzNhZGU4MCIgc3R5bGU9IndpZHRoOiAxMDAuMCU7IGhlaWdodDogMTAwLjAlOyI+bmFuLCBuYW48L2Rpdj5gKVswXTsKICAgICAgICAgICAgcG9wdXBfODQyNzk0OTBhNmQxNDI1MjhiMWEyYzE4NmQwY2U4MmQuc2V0Q29udGVudChodG1sXzgxYTdkNTA5MDlkYzRiM2FiMWFjYTkwZWM3M2FkZTgwKTsKICAgICAgICAKCiAgICAgICAgY2lyY2xlX21hcmtlcl8wNTQwMzcwMzVkNmE0MTlmYTBjN2U5YmI0MjhlNGY5YS5iaW5kUG9wdXAocG9wdXBfODQyNzk0OTBhNmQxNDI1MjhiMWEyYzE4NmQwY2U4MmQpCiAgICAgICAgOwoKICAgICAgICAKICAgIAogICAgCiAgICAgICAgICAgIHZhciBjaXJjbGVfbWFya2VyXzdlNGU2OWQ2MWM1MjQwMTA5YjgxMDZjMjQzOTdlYmZlID0gTC5jaXJjbGVNYXJrZXIoCiAgICAgICAgICAgICAgICBbNDMuNjc2MzU3Mzk5OTk5OTksIC03OS4yOTMwMzEyXSwKICAgICAgICAgICAgICAgIHsiYnViYmxpbmdNb3VzZUV2ZW50cyI6IHRydWUsICJjb2xvciI6ICJibHVlIiwgImRhc2hBcnJheSI6IG51bGwsICJkYXNoT2Zmc2V0IjogbnVsbCwgImZpbGwiOiB0cnVlLCAiZmlsbENvbG9yIjogIiMzMTg2Y2MiLCAiZmlsbE9wYWNpdHkiOiAwLjcsICJmaWxsUnVsZSI6ICJldmVub2RkIiwgImxpbmVDYXAiOiAicm91bmQiLCAibGluZUpvaW4iOiAicm91bmQiLCAib3BhY2l0eSI6IDEuMCwgInJhZGl1cyI6IDUsICJzdHJva2UiOiB0cnVlLCAid2VpZ2h0IjogM30KICAgICAgICAgICAgKS5hZGRUbyhtYXBfNTQyODI4MjJhZmI4NDEzZjllNzQxM2E3YjExOTYxMGEpOwogICAgICAgIAogICAgCiAgICAgICAgdmFyIHBvcHVwXzQ2N2EzYzJmNDk1MDQzMjI4NjQxOThkM2E1MTQ3MjMzID0gTC5wb3B1cCh7Im1heFdpZHRoIjogIjEwMCUifSk7CgogICAgICAgIAogICAgICAgICAgICB2YXIgaHRtbF9jZTE5ZmY3OWM1MGE0YTNlOGVmMDk5OTVhMGQ0YzkwNiA9ICQoYDxkaXYgaWQ9Imh0bWxfY2UxOWZmNzljNTBhNGEzZThlZjA5OTk1YTBkNGM5MDYiIHN0eWxlPSJ3aWR0aDogMTAwLjAlOyBoZWlnaHQ6IDEwMC4wJTsiPm5hbiwgbmFuPC9kaXY+YClbMF07CiAgICAgICAgICAgIHBvcHVwXzQ2N2EzYzJmNDk1MDQzMjI4NjQxOThkM2E1MTQ3MjMzLnNldENvbnRlbnQoaHRtbF9jZTE5ZmY3OWM1MGE0YTNlOGVmMDk5OTVhMGQ0YzkwNik7CiAgICAgICAgCgogICAgICAgIGNpcmNsZV9tYXJrZXJfN2U0ZTY5ZDYxYzUyNDAxMDliODEwNmMyNDM5N2ViZmUuYmluZFBvcHVwKHBvcHVwXzQ2N2EzYzJmNDk1MDQzMjI4NjQxOThkM2E1MTQ3MjMzKQogICAgICAgIDsKCiAgICAgICAgCiAgICAKICAgIAogICAgICAgICAgICB2YXIgY2lyY2xlX21hcmtlcl85MDJjMGJhMDUwZDQ0MmZhOWVkYjk1ZjdiZDU1YWJmNyA9IEwuY2lyY2xlTWFya2VyKAogICAgICAgICAgICAgICAgWzQzLjcwOTA2MDQsIC03OS4zNjM0NTE3XSwKICAgICAgICAgICAgICAgIHsiYnViYmxpbmdNb3VzZUV2ZW50cyI6IHRydWUsICJjb2xvciI6ICJibHVlIiwgImRhc2hBcnJheSI6IG51bGwsICJkYXNoT2Zmc2V0IjogbnVsbCwgImZpbGwiOiB0cnVlLCAiZmlsbENvbG9yIjogIiMzMTg2Y2MiLCAiZmlsbE9wYWNpdHkiOiAwLjcsICJmaWxsUnVsZSI6ICJldmVub2RkIiwgImxpbmVDYXAiOiAicm91bmQiLCAibGluZUpvaW4iOiAicm91bmQiLCAib3BhY2l0eSI6IDEuMCwgInJhZGl1cyI6IDUsICJzdHJva2UiOiB0cnVlLCAid2VpZ2h0IjogM30KICAgICAgICAgICAgKS5hZGRUbyhtYXBfNTQyODI4MjJhZmI4NDEzZjllNzQxM2E3YjExOTYxMGEpOwogICAgICAgIAogICAgCiAgICAgICAgdmFyIHBvcHVwXzQ2ZTVlMTk4ZTdjZjRjN2U4Yzk1ZGUzYTdlZWU5MzRkID0gTC5wb3B1cCh7Im1heFdpZHRoIjogIjEwMCUifSk7CgogICAgICAgIAogICAgICAgICAgICB2YXIgaHRtbF8wYTlkZjZmNjliMjM0M2E4YTI5ZjU2NTA0MjZiYmY3NiA9ICQoYDxkaXYgaWQ9Imh0bWxfMGE5ZGY2ZjY5YjIzNDNhOGEyOWY1NjUwNDI2YmJmNzYiIHN0eWxlPSJ3aWR0aDogMTAwLjAlOyBoZWlnaHQ6IDEwMC4wJTsiPm5hbiwgbmFuPC9kaXY+YClbMF07CiAgICAgICAgICAgIHBvcHVwXzQ2ZTVlMTk4ZTdjZjRjN2U4Yzk1ZGUzYTdlZWU5MzRkLnNldENvbnRlbnQoaHRtbF8wYTlkZjZmNjliMjM0M2E4YTI5ZjU2NTA0MjZiYmY3Nik7CiAgICAgICAgCgogICAgICAgIGNpcmNsZV9tYXJrZXJfOTAyYzBiYTA1MGQ0NDJmYTllZGI5NWY3YmQ1NWFiZjcuYmluZFBvcHVwKHBvcHVwXzQ2ZTVlMTk4ZTdjZjRjN2U4Yzk1ZGUzYTdlZWU5MzRkKQogICAgICAgIDsKCiAgICAgICAgCiAgICAKICAgIAogICAgICAgICAgICB2YXIgY2lyY2xlX21hcmtlcl9kMjYzODk2MDQ0OTg0NTQ0ODU4Mjg4N2ZiMmE1MzhjMyA9IEwuY2lyY2xlTWFya2VyKAogICAgICAgICAgICAgICAgWzQzLjcwNTM2ODksIC03OS4zNDkzNzE5MDAwMDAwMV0sCiAgICAgICAgICAgICAgICB7ImJ1YmJsaW5nTW91c2VFdmVudHMiOiB0cnVlLCAiY29sb3IiOiAiYmx1ZSIsICJkYXNoQXJyYXkiOiBudWxsLCAiZGFzaE9mZnNldCI6IG51bGwsICJmaWxsIjogdHJ1ZSwgImZpbGxDb2xvciI6ICIjMzE4NmNjIiwgImZpbGxPcGFjaXR5IjogMC43LCAiZmlsbFJ1bGUiOiAiZXZlbm9kZCIsICJsaW5lQ2FwIjogInJvdW5kIiwgImxpbmVKb2luIjogInJvdW5kIiwgIm9wYWNpdHkiOiAxLjAsICJyYWRpdXMiOiA1LCAic3Ryb2tlIjogdHJ1ZSwgIndlaWdodCI6IDN9CiAgICAgICAgICAgICkuYWRkVG8obWFwXzU0MjgyODIyYWZiODQxM2Y5ZTc0MTNhN2IxMTk2MTBhKTsKICAgICAgICAKICAgIAogICAgICAgIHZhciBwb3B1cF81NGM3YjllYjc2Y2Y0MTE0Yjc5NWM5MzQ3ZGU3Nzg5MiA9IEwucG9wdXAoeyJtYXhXaWR0aCI6ICIxMDAlIn0pOwoKICAgICAgICAKICAgICAgICAgICAgdmFyIGh0bWxfNTM5YWE3Mjg4ZGZhNDc1YThmZmEzNzE5MjNlMGIxYWEgPSAkKGA8ZGl2IGlkPSJodG1sXzUzOWFhNzI4OGRmYTQ3NWE4ZmZhMzcxOTIzZTBiMWFhIiBzdHlsZT0id2lkdGg6IDEwMC4wJTsgaGVpZ2h0OiAxMDAuMCU7Ij5uYW4sIG5hbjwvZGl2PmApWzBdOwogICAgICAgICAgICBwb3B1cF81NGM3YjllYjc2Y2Y0MTE0Yjc5NWM5MzQ3ZGU3Nzg5Mi5zZXRDb250ZW50KGh0bWxfNTM5YWE3Mjg4ZGZhNDc1YThmZmEzNzE5MjNlMGIxYWEpOwogICAgICAgIAoKICAgICAgICBjaXJjbGVfbWFya2VyX2QyNjM4OTYwNDQ5ODQ1NDQ4NTgyODg3ZmIyYTUzOGMzLmJpbmRQb3B1cChwb3B1cF81NGM3YjllYjc2Y2Y0MTE0Yjc5NWM5MzQ3ZGU3Nzg5MikKICAgICAgICA7CgogICAgICAgIAogICAgCiAgICAKICAgICAgICAgICAgdmFyIGNpcmNsZV9tYXJrZXJfOTkyNDE0YmZjYmQyNDZhYWEzNjRmMWE5ZDg3OGI4YTQgPSBMLmNpcmNsZU1hcmtlcigKICAgICAgICAgICAgICAgIFs0My42ODUzNDcsIC03OS4zMzgxMDY1XSwKICAgICAgICAgICAgICAgIHsiYnViYmxpbmdNb3VzZUV2ZW50cyI6IHRydWUsICJjb2xvciI6ICJibHVlIiwgImRhc2hBcnJheSI6IG51bGwsICJkYXNoT2Zmc2V0IjogbnVsbCwgImZpbGwiOiB0cnVlLCAiZmlsbENvbG9yIjogIiMzMTg2Y2MiLCAiZmlsbE9wYWNpdHkiOiAwLjcsICJmaWxsUnVsZSI6ICJldmVub2RkIiwgImxpbmVDYXAiOiAicm91bmQiLCAibGluZUpvaW4iOiAicm91bmQiLCAib3BhY2l0eSI6IDEuMCwgInJhZGl1cyI6IDUsICJzdHJva2UiOiB0cnVlLCAid2VpZ2h0IjogM30KICAgICAgICAgICAgKS5hZGRUbyhtYXBfNTQyODI4MjJhZmI4NDEzZjllNzQxM2E3YjExOTYxMGEpOwogICAgICAgIAogICAgCiAgICAgICAgdmFyIHBvcHVwX2Q5NDQzYmNiY2MwZjQwNzZhODlmYWNkNWE0Njk1NmZiID0gTC5wb3B1cCh7Im1heFdpZHRoIjogIjEwMCUifSk7CgogICAgICAgIAogICAgICAgICAgICB2YXIgaHRtbF9iM2VjZDcyZWRlZDU0OTIxOGFjNjZmYWI1MGY4ODMwYyA9ICQoYDxkaXYgaWQ9Imh0bWxfYjNlY2Q3MmVkZWQ1NDkyMThhYzY2ZmFiNTBmODgzMGMiIHN0eWxlPSJ3aWR0aDogMTAwLjAlOyBoZWlnaHQ6IDEwMC4wJTsiPm5hbiwgbmFuPC9kaXY+YClbMF07CiAgICAgICAgICAgIHBvcHVwX2Q5NDQzYmNiY2MwZjQwNzZhODlmYWNkNWE0Njk1NmZiLnNldENvbnRlbnQoaHRtbF9iM2VjZDcyZWRlZDU0OTIxOGFjNjZmYWI1MGY4ODMwYyk7CiAgICAgICAgCgogICAgICAgIGNpcmNsZV9tYXJrZXJfOTkyNDE0YmZjYmQyNDZhYWEzNjRmMWE5ZDg3OGI4YTQuYmluZFBvcHVwKHBvcHVwX2Q5NDQzYmNiY2MwZjQwNzZhODlmYWNkNWE0Njk1NmZiKQogICAgICAgIDsKCiAgICAgICAgCiAgICAKICAgIAogICAgICAgICAgICB2YXIgY2lyY2xlX21hcmtlcl9lZTI1YWQyZThmMTI0NTQ1YThjNGQ4NDQwMzUyM2RkZSA9IEwuY2lyY2xlTWFya2VyKAogICAgICAgICAgICAgICAgWzQzLjY3OTU1NzEsIC03OS4zNTIxODhdLAogICAgICAgICAgICAgICAgeyJidWJibGluZ01vdXNlRXZlbnRzIjogdHJ1ZSwgImNvbG9yIjogImJsdWUiLCAiZGFzaEFycmF5IjogbnVsbCwgImRhc2hPZmZzZXQiOiBudWxsLCAiZmlsbCI6IHRydWUsICJmaWxsQ29sb3IiOiAiIzMxODZjYyIsICJmaWxsT3BhY2l0eSI6IDAuNywgImZpbGxSdWxlIjogImV2ZW5vZGQiLCAibGluZUNhcCI6ICJyb3VuZCIsICJsaW5lSm9pbiI6ICJyb3VuZCIsICJvcGFjaXR5IjogMS4wLCAicmFkaXVzIjogNSwgInN0cm9rZSI6IHRydWUsICJ3ZWlnaHQiOiAzfQogICAgICAgICAgICApLmFkZFRvKG1hcF81NDI4MjgyMmFmYjg0MTNmOWU3NDEzYTdiMTE5NjEwYSk7CiAgICAgICAgCiAgICAKICAgICAgICB2YXIgcG9wdXBfNjhjYWFjNTNhZDVkNDJkNjhjZTFmZTEyM2NkMGYzMDEgPSBMLnBvcHVwKHsibWF4V2lkdGgiOiAiMTAwJSJ9KTsKCiAgICAgICAgCiAgICAgICAgICAgIHZhciBodG1sX2U3NGNjNmEwZTdjNDQxOGE5MTlkOWMwMDM0NjI0NmI5ID0gJChgPGRpdiBpZD0iaHRtbF9lNzRjYzZhMGU3YzQ0MThhOTE5ZDljMDAzNDYyNDZiOSIgc3R5bGU9IndpZHRoOiAxMDAuMCU7IGhlaWdodDogMTAwLjAlOyI+bmFuLCBuYW48L2Rpdj5gKVswXTsKICAgICAgICAgICAgcG9wdXBfNjhjYWFjNTNhZDVkNDJkNjhjZTFmZTEyM2NkMGYzMDEuc2V0Q29udGVudChodG1sX2U3NGNjNmEwZTdjNDQxOGE5MTlkOWMwMDM0NjI0NmI5KTsKICAgICAgICAKCiAgICAgICAgY2lyY2xlX21hcmtlcl9lZTI1YWQyZThmMTI0NTQ1YThjNGQ4NDQwMzUyM2RkZS5iaW5kUG9wdXAocG9wdXBfNjhjYWFjNTNhZDVkNDJkNjhjZTFmZTEyM2NkMGYzMDEpCiAgICAgICAgOwoKICAgICAgICAKICAgIAogICAgCiAgICAgICAgICAgIHZhciBjaXJjbGVfbWFya2VyX2RjMzViNmFmNGY5MDRiODliODc3MTI5ZjBkNjcxZWQ3ID0gTC5jaXJjbGVNYXJrZXIoCiAgICAgICAgICAgICAgICBbNDMuNjY4OTk4NSwgLTc5LjMxNTU3MTU5OTk5OTk4XSwKICAgICAgICAgICAgICAgIHsiYnViYmxpbmdNb3VzZUV2ZW50cyI6IHRydWUsICJjb2xvciI6ICJibHVlIiwgImRhc2hBcnJheSI6IG51bGwsICJkYXNoT2Zmc2V0IjogbnVsbCwgImZpbGwiOiB0cnVlLCAiZmlsbENvbG9yIjogIiMzMTg2Y2MiLCAiZmlsbE9wYWNpdHkiOiAwLjcsICJmaWxsUnVsZSI6ICJldmVub2RkIiwgImxpbmVDYXAiOiAicm91bmQiLCAibGluZUpvaW4iOiAicm91bmQiLCAib3BhY2l0eSI6IDEuMCwgInJhZGl1cyI6IDUsICJzdHJva2UiOiB0cnVlLCAid2VpZ2h0IjogM30KICAgICAgICAgICAgKS5hZGRUbyhtYXBfNTQyODI4MjJhZmI4NDEzZjllNzQxM2E3YjExOTYxMGEpOwogICAgICAgIAogICAgCiAgICAgICAgdmFyIHBvcHVwX2Y4NGY4YWZjMTE4MzRkYTg5Njk1OTUxMTMyMDdlNWZkID0gTC5wb3B1cCh7Im1heFdpZHRoIjogIjEwMCUifSk7CgogICAgICAgIAogICAgICAgICAgICB2YXIgaHRtbF8yMjE1MDI0N2E5ZWY0NmJkOGE4YjFhY2RhY2UzYjVhOCA9ICQoYDxkaXYgaWQ9Imh0bWxfMjIxNTAyNDdhOWVmNDZiZDhhOGIxYWNkYWNlM2I1YTgiIHN0eWxlPSJ3aWR0aDogMTAwLjAlOyBoZWlnaHQ6IDEwMC4wJTsiPm5hbiwgbmFuPC9kaXY+YClbMF07CiAgICAgICAgICAgIHBvcHVwX2Y4NGY4YWZjMTE4MzRkYTg5Njk1OTUxMTMyMDdlNWZkLnNldENvbnRlbnQoaHRtbF8yMjE1MDI0N2E5ZWY0NmJkOGE4YjFhY2RhY2UzYjVhOCk7CiAgICAgICAgCgogICAgICAgIGNpcmNsZV9tYXJrZXJfZGMzNWI2YWY0ZjkwNGI4OWI4NzcxMjlmMGQ2NzFlZDcuYmluZFBvcHVwKHBvcHVwX2Y4NGY4YWZjMTE4MzRkYTg5Njk1OTUxMTMyMDdlNWZkKQogICAgICAgIDsKCiAgICAgICAgCiAgICAKICAgIAogICAgICAgICAgICB2YXIgY2lyY2xlX21hcmtlcl84YzZlMjc0N2QwMmY0NGI0OWQ3ZGMwZjEzYmFkNjg3MyA9IEwuY2lyY2xlTWFya2VyKAogICAgICAgICAgICAgICAgWzQzLjY1OTUyNTUsIC03OS4zNDA5MjNdLAogICAgICAgICAgICAgICAgeyJidWJibGluZ01vdXNlRXZlbnRzIjogdHJ1ZSwgImNvbG9yIjogImJsdWUiLCAiZGFzaEFycmF5IjogbnVsbCwgImRhc2hPZmZzZXQiOiBudWxsLCAiZmlsbCI6IHRydWUsICJmaWxsQ29sb3IiOiAiIzMxODZjYyIsICJmaWxsT3BhY2l0eSI6IDAuNywgImZpbGxSdWxlIjogImV2ZW5vZGQiLCAibGluZUNhcCI6ICJyb3VuZCIsICJsaW5lSm9pbiI6ICJyb3VuZCIsICJvcGFjaXR5IjogMS4wLCAicmFkaXVzIjogNSwgInN0cm9rZSI6IHRydWUsICJ3ZWlnaHQiOiAzfQogICAgICAgICAgICApLmFkZFRvKG1hcF81NDI4MjgyMmFmYjg0MTNmOWU3NDEzYTdiMTE5NjEwYSk7CiAgICAgICAgCiAgICAKICAgICAgICB2YXIgcG9wdXBfMjM3YzU1NTA4ZGQyNDRlMWI5MWE4MzNkOWEyM2E3NWIgPSBMLnBvcHVwKHsibWF4V2lkdGgiOiAiMTAwJSJ9KTsKCiAgICAgICAgCiAgICAgICAgICAgIHZhciBodG1sX2UwYjBjNmI2NGRlZjRmMWNiMjllYmNlZDZhMWVlYjQxID0gJChgPGRpdiBpZD0iaHRtbF9lMGIwYzZiNjRkZWY0ZjFjYjI5ZWJjZWQ2YTFlZWI0MSIgc3R5bGU9IndpZHRoOiAxMDAuMCU7IGhlaWdodDogMTAwLjAlOyI+bmFuLCBuYW48L2Rpdj5gKVswXTsKICAgICAgICAgICAgcG9wdXBfMjM3YzU1NTA4ZGQyNDRlMWI5MWE4MzNkOWEyM2E3NWIuc2V0Q29udGVudChodG1sX2UwYjBjNmI2NGRlZjRmMWNiMjllYmNlZDZhMWVlYjQxKTsKICAgICAgICAKCiAgICAgICAgY2lyY2xlX21hcmtlcl84YzZlMjc0N2QwMmY0NGI0OWQ3ZGMwZjEzYmFkNjg3My5iaW5kUG9wdXAocG9wdXBfMjM3YzU1NTA4ZGQyNDRlMWI5MWE4MzNkOWEyM2E3NWIpCiAgICAgICAgOwoKICAgICAgICAKICAgIAogICAgCiAgICAgICAgICAgIHZhciBjaXJjbGVfbWFya2VyX2QyYTlhZGM5M2E5ZjRmNzRiYjIxOWI4MDUzMWQyN2ZjID0gTC5jaXJjbGVNYXJrZXIoCiAgICAgICAgICAgICAgICBbNDMuNzI4MDIwNSwgLTc5LjM4ODc5MDFdLAogICAgICAgICAgICAgICAgeyJidWJibGluZ01vdXNlRXZlbnRzIjogdHJ1ZSwgImNvbG9yIjogImJsdWUiLCAiZGFzaEFycmF5IjogbnVsbCwgImRhc2hPZmZzZXQiOiBudWxsLCAiZmlsbCI6IHRydWUsICJmaWxsQ29sb3IiOiAiIzMxODZjYyIsICJmaWxsT3BhY2l0eSI6IDAuNywgImZpbGxSdWxlIjogImV2ZW5vZGQiLCAibGluZUNhcCI6ICJyb3VuZCIsICJsaW5lSm9pbiI6ICJyb3VuZCIsICJvcGFjaXR5IjogMS4wLCAicmFkaXVzIjogNSwgInN0cm9rZSI6IHRydWUsICJ3ZWlnaHQiOiAzfQogICAgICAgICAgICApLmFkZFRvKG1hcF81NDI4MjgyMmFmYjg0MTNmOWU3NDEzYTdiMTE5NjEwYSk7CiAgICAgICAgCiAgICAKICAgICAgICB2YXIgcG9wdXBfYTJlZTMxOWE1OTdkNGNjYmJjNDdmNWFkOGY5MjczNzcgPSBMLnBvcHVwKHsibWF4V2lkdGgiOiAiMTAwJSJ9KTsKCiAgICAgICAgCiAgICAgICAgICAgIHZhciBodG1sXzU0NTFiMzQ0Yzk2NjQ3OWU4ZWYwYTE5ODcxMGRjYTIyID0gJChgPGRpdiBpZD0iaHRtbF81NDUxYjM0NGM5NjY0NzllOGVmMGExOTg3MTBkY2EyMiIgc3R5bGU9IndpZHRoOiAxMDAuMCU7IGhlaWdodDogMTAwLjAlOyI+bmFuLCBuYW48L2Rpdj5gKVswXTsKICAgICAgICAgICAgcG9wdXBfYTJlZTMxOWE1OTdkNGNjYmJjNDdmNWFkOGY5MjczNzcuc2V0Q29udGVudChodG1sXzU0NTFiMzQ0Yzk2NjQ3OWU4ZWYwYTE5ODcxMGRjYTIyKTsKICAgICAgICAKCiAgICAgICAgY2lyY2xlX21hcmtlcl9kMmE5YWRjOTNhOWY0Zjc0YmIyMTliODA1MzFkMjdmYy5iaW5kUG9wdXAocG9wdXBfYTJlZTMxOWE1OTdkNGNjYmJjNDdmNWFkOGY5MjczNzcpCiAgICAgICAgOwoKICAgICAgICAKICAgIAogICAgCiAgICAgICAgICAgIHZhciBjaXJjbGVfbWFya2VyX2RiOGUzZTBlNDcyNjQ1MjZhMTBlMjE0MDYyODNiN2NmID0gTC5jaXJjbGVNYXJrZXIoCiAgICAgICAgICAgICAgICBbNDMuNzEyNzUxMSwgLTc5LjM5MDE5NzVdLAogICAgICAgICAgICAgICAgeyJidWJibGluZ01vdXNlRXZlbnRzIjogdHJ1ZSwgImNvbG9yIjogImJsdWUiLCAiZGFzaEFycmF5IjogbnVsbCwgImRhc2hPZmZzZXQiOiBudWxsLCAiZmlsbCI6IHRydWUsICJmaWxsQ29sb3IiOiAiIzMxODZjYyIsICJmaWxsT3BhY2l0eSI6IDAuNywgImZpbGxSdWxlIjogImV2ZW5vZGQiLCAibGluZUNhcCI6ICJyb3VuZCIsICJsaW5lSm9pbiI6ICJyb3VuZCIsICJvcGFjaXR5IjogMS4wLCAicmFkaXVzIjogNSwgInN0cm9rZSI6IHRydWUsICJ3ZWlnaHQiOiAzfQogICAgICAgICAgICApLmFkZFRvKG1hcF81NDI4MjgyMmFmYjg0MTNmOWU3NDEzYTdiMTE5NjEwYSk7CiAgICAgICAgCiAgICAKICAgICAgICB2YXIgcG9wdXBfZDNlZjYxN2M4NDFiNDYwNjk0MWFhZDM4NThhNjhmZDEgPSBMLnBvcHVwKHsibWF4V2lkdGgiOiAiMTAwJSJ9KTsKCiAgICAgICAgCiAgICAgICAgICAgIHZhciBodG1sXzcyOTRhY2I2YTMzZDRiNDQ5OGRmNDY5M2E3ZjI5YWYyID0gJChgPGRpdiBpZD0iaHRtbF83Mjk0YWNiNmEzM2Q0YjQ0OThkZjQ2OTNhN2YyOWFmMiIgc3R5bGU9IndpZHRoOiAxMDAuMCU7IGhlaWdodDogMTAwLjAlOyI+bmFuLCBuYW48L2Rpdj5gKVswXTsKICAgICAgICAgICAgcG9wdXBfZDNlZjYxN2M4NDFiNDYwNjk0MWFhZDM4NThhNjhmZDEuc2V0Q29udGVudChodG1sXzcyOTRhY2I2YTMzZDRiNDQ5OGRmNDY5M2E3ZjI5YWYyKTsKICAgICAgICAKCiAgICAgICAgY2lyY2xlX21hcmtlcl9kYjhlM2UwZTQ3MjY0NTI2YTEwZTIxNDA2MjgzYjdjZi5iaW5kUG9wdXAocG9wdXBfZDNlZjYxN2M4NDFiNDYwNjk0MWFhZDM4NThhNjhmZDEpCiAgICAgICAgOwoKICAgICAgICAKICAgIAogICAgCiAgICAgICAgICAgIHZhciBjaXJjbGVfbWFya2VyX2RhYTEzY2Q3OGFiOTQ0ZDQ5M2JjNTJkODdlZWUzMmZmID0gTC5jaXJjbGVNYXJrZXIoCiAgICAgICAgICAgICAgICBbNDMuNzE1MzgzNCwgLTc5LjQwNTY3ODQwMDAwMDAxXSwKICAgICAgICAgICAgICAgIHsiYnViYmxpbmdNb3VzZUV2ZW50cyI6IHRydWUsICJjb2xvciI6ICJibHVlIiwgImRhc2hBcnJheSI6IG51bGwsICJkYXNoT2Zmc2V0IjogbnVsbCwgImZpbGwiOiB0cnVlLCAiZmlsbENvbG9yIjogIiMzMTg2Y2MiLCAiZmlsbE9wYWNpdHkiOiAwLjcsICJmaWxsUnVsZSI6ICJldmVub2RkIiwgImxpbmVDYXAiOiAicm91bmQiLCAibGluZUpvaW4iOiAicm91bmQiLCAib3BhY2l0eSI6IDEuMCwgInJhZGl1cyI6IDUsICJzdHJva2UiOiB0cnVlLCAid2VpZ2h0IjogM30KICAgICAgICAgICAgKS5hZGRUbyhtYXBfNTQyODI4MjJhZmI4NDEzZjllNzQxM2E3YjExOTYxMGEpOwogICAgICAgIAogICAgCiAgICAgICAgdmFyIHBvcHVwXzM2MzZjZDRjODRiYjRiNWM5OGZmMGE0ZWYxOTgzMjZjID0gTC5wb3B1cCh7Im1heFdpZHRoIjogIjEwMCUifSk7CgogICAgICAgIAogICAgICAgICAgICB2YXIgaHRtbF9hMDM1M2MzYzQ0OGY0NzNlYjU4ZjZjNWM1NjQ3MGMwZiA9ICQoYDxkaXYgaWQ9Imh0bWxfYTAzNTNjM2M0NDhmNDczZWI1OGY2YzVjNTY0NzBjMGYiIHN0eWxlPSJ3aWR0aDogMTAwLjAlOyBoZWlnaHQ6IDEwMC4wJTsiPm5hbiwgbmFuPC9kaXY+YClbMF07CiAgICAgICAgICAgIHBvcHVwXzM2MzZjZDRjODRiYjRiNWM5OGZmMGE0ZWYxOTgzMjZjLnNldENvbnRlbnQoaHRtbF9hMDM1M2MzYzQ0OGY0NzNlYjU4ZjZjNWM1NjQ3MGMwZik7CiAgICAgICAgCgogICAgICAgIGNpcmNsZV9tYXJrZXJfZGFhMTNjZDc4YWI5NDRkNDkzYmM1MmQ4N2VlZTMyZmYuYmluZFBvcHVwKHBvcHVwXzM2MzZjZDRjODRiYjRiNWM5OGZmMGE0ZWYxOTgzMjZjKQogICAgICAgIDsKCiAgICAgICAgCiAgICAKICAgIAogICAgICAgICAgICB2YXIgY2lyY2xlX21hcmtlcl8yNTRkMDcxODM0M2U0YzNiOTI5NTYwYjgzNTAzMzNlYiA9IEwuY2lyY2xlTWFya2VyKAogICAgICAgICAgICAgICAgWzQzLjcwNDMyNDQsIC03OS4zODg3OTAxXSwKICAgICAgICAgICAgICAgIHsiYnViYmxpbmdNb3VzZUV2ZW50cyI6IHRydWUsICJjb2xvciI6ICJibHVlIiwgImRhc2hBcnJheSI6IG51bGwsICJkYXNoT2Zmc2V0IjogbnVsbCwgImZpbGwiOiB0cnVlLCAiZmlsbENvbG9yIjogIiMzMTg2Y2MiLCAiZmlsbE9wYWNpdHkiOiAwLjcsICJmaWxsUnVsZSI6ICJldmVub2RkIiwgImxpbmVDYXAiOiAicm91bmQiLCAibGluZUpvaW4iOiAicm91bmQiLCAib3BhY2l0eSI6IDEuMCwgInJhZGl1cyI6IDUsICJzdHJva2UiOiB0cnVlLCAid2VpZ2h0IjogM30KICAgICAgICAgICAgKS5hZGRUbyhtYXBfNTQyODI4MjJhZmI4NDEzZjllNzQxM2E3YjExOTYxMGEpOwogICAgICAgIAogICAgCiAgICAgICAgdmFyIHBvcHVwX2UyOTMzZTYwNTE4ZTQ5ZTViMzUwYTlhY2RiMjdhZDEwID0gTC5wb3B1cCh7Im1heFdpZHRoIjogIjEwMCUifSk7CgogICAgICAgIAogICAgICAgICAgICB2YXIgaHRtbF9hM2FhNDBkMDIzNTk0N2M2Yjg0Nzk4NTc2ZWVjOGQ4OCA9ICQoYDxkaXYgaWQ9Imh0bWxfYTNhYTQwZDAyMzU5NDdjNmI4NDc5ODU3NmVlYzhkODgiIHN0eWxlPSJ3aWR0aDogMTAwLjAlOyBoZWlnaHQ6IDEwMC4wJTsiPm5hbiwgbmFuPC9kaXY+YClbMF07CiAgICAgICAgICAgIHBvcHVwX2UyOTMzZTYwNTE4ZTQ5ZTViMzUwYTlhY2RiMjdhZDEwLnNldENvbnRlbnQoaHRtbF9hM2FhNDBkMDIzNTk0N2M2Yjg0Nzk4NTc2ZWVjOGQ4OCk7CiAgICAgICAgCgogICAgICAgIGNpcmNsZV9tYXJrZXJfMjU0ZDA3MTgzNDNlNGMzYjkyOTU2MGI4MzUwMzMzZWIuYmluZFBvcHVwKHBvcHVwX2UyOTMzZTYwNTE4ZTQ5ZTViMzUwYTlhY2RiMjdhZDEwKQogICAgICAgIDsKCiAgICAgICAgCiAgICAKICAgIAogICAgICAgICAgICB2YXIgY2lyY2xlX21hcmtlcl8zODdlMjcwMjVhNjI0NTg3OTU4MmU1OGE5MTM3MWVmOCA9IEwuY2lyY2xlTWFya2VyKAogICAgICAgICAgICAgICAgWzQzLjY4OTU3NDMsIC03OS4zODMxNTk5MDAwMDAwMV0sCiAgICAgICAgICAgICAgICB7ImJ1YmJsaW5nTW91c2VFdmVudHMiOiB0cnVlLCAiY29sb3IiOiAiYmx1ZSIsICJkYXNoQXJyYXkiOiBudWxsLCAiZGFzaE9mZnNldCI6IG51bGwsICJmaWxsIjogdHJ1ZSwgImZpbGxDb2xvciI6ICIjMzE4NmNjIiwgImZpbGxPcGFjaXR5IjogMC43LCAiZmlsbFJ1bGUiOiAiZXZlbm9kZCIsICJsaW5lQ2FwIjogInJvdW5kIiwgImxpbmVKb2luIjogInJvdW5kIiwgIm9wYWNpdHkiOiAxLjAsICJyYWRpdXMiOiA1LCAic3Ryb2tlIjogdHJ1ZSwgIndlaWdodCI6IDN9CiAgICAgICAgICAgICkuYWRkVG8obWFwXzU0MjgyODIyYWZiODQxM2Y5ZTc0MTNhN2IxMTk2MTBhKTsKICAgICAgICAKICAgIAogICAgICAgIHZhciBwb3B1cF82ZjJmYzI1YmQzNjY0ZDY4OGVhYjE3M2YxMDFmYjk3NSA9IEwucG9wdXAoeyJtYXhXaWR0aCI6ICIxMDAlIn0pOwoKICAgICAgICAKICAgICAgICAgICAgdmFyIGh0bWxfOWQ4M2VjMjI2ODM2NDEzMjllMjhkMjVkMWQ3YzU2MGYgPSAkKGA8ZGl2IGlkPSJodG1sXzlkODNlYzIyNjgzNjQxMzI5ZTI4ZDI1ZDFkN2M1NjBmIiBzdHlsZT0id2lkdGg6IDEwMC4wJTsgaGVpZ2h0OiAxMDAuMCU7Ij5uYW4sIG5hbjwvZGl2PmApWzBdOwogICAgICAgICAgICBwb3B1cF82ZjJmYzI1YmQzNjY0ZDY4OGVhYjE3M2YxMDFmYjk3NS5zZXRDb250ZW50KGh0bWxfOWQ4M2VjMjI2ODM2NDEzMjllMjhkMjVkMWQ3YzU2MGYpOwogICAgICAgIAoKICAgICAgICBjaXJjbGVfbWFya2VyXzM4N2UyNzAyNWE2MjQ1ODc5NTgyZTU4YTkxMzcxZWY4LmJpbmRQb3B1cChwb3B1cF82ZjJmYzI1YmQzNjY0ZDY4OGVhYjE3M2YxMDFmYjk3NSkKICAgICAgICA7CgogICAgICAgIAogICAgCiAgICAKICAgICAgICAgICAgdmFyIGNpcmNsZV9tYXJrZXJfMGFmZWRmNWQ5NWZlNDczYTliNjMxMWRlNGViY2NjZDggPSBMLmNpcmNsZU1hcmtlcigKICAgICAgICAgICAgICAgIFs0My42ODY0MTIyOTk5OTk5OSwgLTc5LjQwMDA0OTNdLAogICAgICAgICAgICAgICAgeyJidWJibGluZ01vdXNlRXZlbnRzIjogdHJ1ZSwgImNvbG9yIjogImJsdWUiLCAiZGFzaEFycmF5IjogbnVsbCwgImRhc2hPZmZzZXQiOiBudWxsLCAiZmlsbCI6IHRydWUsICJmaWxsQ29sb3IiOiAiIzMxODZjYyIsICJmaWxsT3BhY2l0eSI6IDAuNywgImZpbGxSdWxlIjogImV2ZW5vZGQiLCAibGluZUNhcCI6ICJyb3VuZCIsICJsaW5lSm9pbiI6ICJyb3VuZCIsICJvcGFjaXR5IjogMS4wLCAicmFkaXVzIjogNSwgInN0cm9rZSI6IHRydWUsICJ3ZWlnaHQiOiAzfQogICAgICAgICAgICApLmFkZFRvKG1hcF81NDI4MjgyMmFmYjg0MTNmOWU3NDEzYTdiMTE5NjEwYSk7CiAgICAgICAgCiAgICAKICAgICAgICB2YXIgcG9wdXBfYjQ1ODIyZjY3YWZmNDNlZTgxOGZkYTUwOTQ5NmMxMDUgPSBMLnBvcHVwKHsibWF4V2lkdGgiOiAiMTAwJSJ9KTsKCiAgICAgICAgCiAgICAgICAgICAgIHZhciBodG1sXzNlOGRhNGY1NDA5NjQ0YzU4ZTI5ZDEwMTZkNDRlOTk3ID0gJChgPGRpdiBpZD0iaHRtbF8zZThkYTRmNTQwOTY0NGM1OGUyOWQxMDE2ZDQ0ZTk5NyIgc3R5bGU9IndpZHRoOiAxMDAuMCU7IGhlaWdodDogMTAwLjAlOyI+bmFuLCBuYW48L2Rpdj5gKVswXTsKICAgICAgICAgICAgcG9wdXBfYjQ1ODIyZjY3YWZmNDNlZTgxOGZkYTUwOTQ5NmMxMDUuc2V0Q29udGVudChodG1sXzNlOGRhNGY1NDA5NjQ0YzU4ZTI5ZDEwMTZkNDRlOTk3KTsKICAgICAgICAKCiAgICAgICAgY2lyY2xlX21hcmtlcl8wYWZlZGY1ZDk1ZmU0NzNhOWI2MzExZGU0ZWJjY2NkOC5iaW5kUG9wdXAocG9wdXBfYjQ1ODIyZjY3YWZmNDNlZTgxOGZkYTUwOTQ5NmMxMDUpCiAgICAgICAgOwoKICAgICAgICAKICAgIAogICAgCiAgICAgICAgICAgIHZhciBjaXJjbGVfbWFya2VyXzk2NDNiOTRjNmE4NjRjMjJiM2U0OTNkMDk1ODMyZTY5ID0gTC5jaXJjbGVNYXJrZXIoCiAgICAgICAgICAgICAgICBbNDMuNjc5NTYyNiwgLTc5LjM3NzUyOTQwMDAwMDAxXSwKICAgICAgICAgICAgICAgIHsiYnViYmxpbmdNb3VzZUV2ZW50cyI6IHRydWUsICJjb2xvciI6ICJibHVlIiwgImRhc2hBcnJheSI6IG51bGwsICJkYXNoT2Zmc2V0IjogbnVsbCwgImZpbGwiOiB0cnVlLCAiZmlsbENvbG9yIjogIiMzMTg2Y2MiLCAiZmlsbE9wYWNpdHkiOiAwLjcsICJmaWxsUnVsZSI6ICJldmVub2RkIiwgImxpbmVDYXAiOiAicm91bmQiLCAibGluZUpvaW4iOiAicm91bmQiLCAib3BhY2l0eSI6IDEuMCwgInJhZGl1cyI6IDUsICJzdHJva2UiOiB0cnVlLCAid2VpZ2h0IjogM30KICAgICAgICAgICAgKS5hZGRUbyhtYXBfNTQyODI4MjJhZmI4NDEzZjllNzQxM2E3YjExOTYxMGEpOwogICAgICAgIAogICAgCiAgICAgICAgdmFyIHBvcHVwXzhmYThmZDJiMzI2YzRjYmFhMzEzNGY5YjRkNmFlMmRjID0gTC5wb3B1cCh7Im1heFdpZHRoIjogIjEwMCUifSk7CgogICAgICAgIAogICAgICAgICAgICB2YXIgaHRtbF84NWFmODg2MDM0NWU0NjQwOTkxYTA5MzgxM2FmODEwMiA9ICQoYDxkaXYgaWQ9Imh0bWxfODVhZjg4NjAzNDVlNDY0MDk5MWEwOTM4MTNhZjgxMDIiIHN0eWxlPSJ3aWR0aDogMTAwLjAlOyBoZWlnaHQ6IDEwMC4wJTsiPm5hbiwgbmFuPC9kaXY+YClbMF07CiAgICAgICAgICAgIHBvcHVwXzhmYThmZDJiMzI2YzRjYmFhMzEzNGY5YjRkNmFlMmRjLnNldENvbnRlbnQoaHRtbF84NWFmODg2MDM0NWU0NjQwOTkxYTA5MzgxM2FmODEwMik7CiAgICAgICAgCgogICAgICAgIGNpcmNsZV9tYXJrZXJfOTY0M2I5NGM2YTg2NGMyMmIzZTQ5M2QwOTU4MzJlNjkuYmluZFBvcHVwKHBvcHVwXzhmYThmZDJiMzI2YzRjYmFhMzEzNGY5YjRkNmFlMmRjKQogICAgICAgIDsKCiAgICAgICAgCiAgICAKICAgIAogICAgICAgICAgICB2YXIgY2lyY2xlX21hcmtlcl8zMTc4OTgzMjI2ZGI0ZmZjYTk1YTU3ZWYxNmI4MWRjMSA9IEwuY2lyY2xlTWFya2VyKAogICAgICAgICAgICAgICAgWzQzLjY2Nzk2NywgLTc5LjM2NzY3NTNdLAogICAgICAgICAgICAgICAgeyJidWJibGluZ01vdXNlRXZlbnRzIjogdHJ1ZSwgImNvbG9yIjogImJsdWUiLCAiZGFzaEFycmF5IjogbnVsbCwgImRhc2hPZmZzZXQiOiBudWxsLCAiZmlsbCI6IHRydWUsICJmaWxsQ29sb3IiOiAiIzMxODZjYyIsICJmaWxsT3BhY2l0eSI6IDAuNywgImZpbGxSdWxlIjogImV2ZW5vZGQiLCAibGluZUNhcCI6ICJyb3VuZCIsICJsaW5lSm9pbiI6ICJyb3VuZCIsICJvcGFjaXR5IjogMS4wLCAicmFkaXVzIjogNSwgInN0cm9rZSI6IHRydWUsICJ3ZWlnaHQiOiAzfQogICAgICAgICAgICApLmFkZFRvKG1hcF81NDI4MjgyMmFmYjg0MTNmOWU3NDEzYTdiMTE5NjEwYSk7CiAgICAgICAgCiAgICAKICAgICAgICB2YXIgcG9wdXBfMDgxYmY1NDJmZjBkNGJhZjgxMjg4YmZkMDA1NDg2YzYgPSBMLnBvcHVwKHsibWF4V2lkdGgiOiAiMTAwJSJ9KTsKCiAgICAgICAgCiAgICAgICAgICAgIHZhciBodG1sXzUzYWQwY2VkZDcxOTQyNzI5YzUyY2NjNzVhMTg1NTZiID0gJChgPGRpdiBpZD0iaHRtbF81M2FkMGNlZGQ3MTk0MjcyOWM1MmNjYzc1YTE4NTU2YiIgc3R5bGU9IndpZHRoOiAxMDAuMCU7IGhlaWdodDogMTAwLjAlOyI+bmFuLCBuYW48L2Rpdj5gKVswXTsKICAgICAgICAgICAgcG9wdXBfMDgxYmY1NDJmZjBkNGJhZjgxMjg4YmZkMDA1NDg2YzYuc2V0Q29udGVudChodG1sXzUzYWQwY2VkZDcxOTQyNzI5YzUyY2NjNzVhMTg1NTZiKTsKICAgICAgICAKCiAgICAgICAgY2lyY2xlX21hcmtlcl8zMTc4OTgzMjI2ZGI0ZmZjYTk1YTU3ZWYxNmI4MWRjMS5iaW5kUG9wdXAocG9wdXBfMDgxYmY1NDJmZjBkNGJhZjgxMjg4YmZkMDA1NDg2YzYpCiAgICAgICAgOwoKICAgICAgICAKICAgIAogICAgCiAgICAgICAgICAgIHZhciBjaXJjbGVfbWFya2VyXzU5MmFhMThkYTFjNzRiNjNhOTQ4OGViZDM4YTQyYzVlID0gTC5jaXJjbGVNYXJrZXIoCiAgICAgICAgICAgICAgICBbNDMuNjY1ODU5OSwgLTc5LjM4MzE1OTkwMDAwMDAxXSwKICAgICAgICAgICAgICAgIHsiYnViYmxpbmdNb3VzZUV2ZW50cyI6IHRydWUsICJjb2xvciI6ICJibHVlIiwgImRhc2hBcnJheSI6IG51bGwsICJkYXNoT2Zmc2V0IjogbnVsbCwgImZpbGwiOiB0cnVlLCAiZmlsbENvbG9yIjogIiMzMTg2Y2MiLCAiZmlsbE9wYWNpdHkiOiAwLjcsICJmaWxsUnVsZSI6ICJldmVub2RkIiwgImxpbmVDYXAiOiAicm91bmQiLCAibGluZUpvaW4iOiAicm91bmQiLCAib3BhY2l0eSI6IDEuMCwgInJhZGl1cyI6IDUsICJzdHJva2UiOiB0cnVlLCAid2VpZ2h0IjogM30KICAgICAgICAgICAgKS5hZGRUbyhtYXBfNTQyODI4MjJhZmI4NDEzZjllNzQxM2E3YjExOTYxMGEpOwogICAgICAgIAogICAgCiAgICAgICAgdmFyIHBvcHVwXzYzZTlmZjY5MWE5YTQ3YjhiODE1ZWUzZmI4YWI3ZDY2ID0gTC5wb3B1cCh7Im1heFdpZHRoIjogIjEwMCUifSk7CgogICAgICAgIAogICAgICAgICAgICB2YXIgaHRtbF8xMjRjMjc4NzIyMzk0MjlmODQxMjk5ZDNkMWJmNjNkZCA9ICQoYDxkaXYgaWQ9Imh0bWxfMTI0YzI3ODcyMjM5NDI5Zjg0MTI5OWQzZDFiZjYzZGQiIHN0eWxlPSJ3aWR0aDogMTAwLjAlOyBoZWlnaHQ6IDEwMC4wJTsiPm5hbiwgbmFuPC9kaXY+YClbMF07CiAgICAgICAgICAgIHBvcHVwXzYzZTlmZjY5MWE5YTQ3YjhiODE1ZWUzZmI4YWI3ZDY2LnNldENvbnRlbnQoaHRtbF8xMjRjMjc4NzIyMzk0MjlmODQxMjk5ZDNkMWJmNjNkZCk7CiAgICAgICAgCgogICAgICAgIGNpcmNsZV9tYXJrZXJfNTkyYWExOGRhMWM3NGI2M2E5NDg4ZWJkMzhhNDJjNWUuYmluZFBvcHVwKHBvcHVwXzYzZTlmZjY5MWE5YTQ3YjhiODE1ZWUzZmI4YWI3ZDY2KQogICAgICAgIDsKCiAgICAgICAgCiAgICAKICAgIAogICAgICAgICAgICB2YXIgY2lyY2xlX21hcmtlcl9iNGE1NGIwYzVlOWE0MWQxYWRjOTQ4MmE3Y2RlMWE4MCA9IEwuY2lyY2xlTWFya2VyKAogICAgICAgICAgICAgICAgWzQzLjY1NDI1OTksIC03OS4zNjA2MzU5XSwKICAgICAgICAgICAgICAgIHsiYnViYmxpbmdNb3VzZUV2ZW50cyI6IHRydWUsICJjb2xvciI6ICJibHVlIiwgImRhc2hBcnJheSI6IG51bGwsICJkYXNoT2Zmc2V0IjogbnVsbCwgImZpbGwiOiB0cnVlLCAiZmlsbENvbG9yIjogIiMzMTg2Y2MiLCAiZmlsbE9wYWNpdHkiOiAwLjcsICJmaWxsUnVsZSI6ICJldmVub2RkIiwgImxpbmVDYXAiOiAicm91bmQiLCAibGluZUpvaW4iOiAicm91bmQiLCAib3BhY2l0eSI6IDEuMCwgInJhZGl1cyI6IDUsICJzdHJva2UiOiB0cnVlLCAid2VpZ2h0IjogM30KICAgICAgICAgICAgKS5hZGRUbyhtYXBfNTQyODI4MjJhZmI4NDEzZjllNzQxM2E3YjExOTYxMGEpOwogICAgICAgIAogICAgCiAgICAgICAgdmFyIHBvcHVwX2E5NjczYzQwZDc5NjRhNzdiMGJiNWI2MWI2Mzk5MjdmID0gTC5wb3B1cCh7Im1heFdpZHRoIjogIjEwMCUifSk7CgogICAgICAgIAogICAgICAgICAgICB2YXIgaHRtbF9kZTU3YzY4NmE2NDI0NmQ1YTNjMGI5MjMyMjA0MTBhYSA9ICQoYDxkaXYgaWQ9Imh0bWxfZGU1N2M2ODZhNjQyNDZkNWEzYzBiOTIzMjIwNDEwYWEiIHN0eWxlPSJ3aWR0aDogMTAwLjAlOyBoZWlnaHQ6IDEwMC4wJTsiPm5hbiwgbmFuPC9kaXY+YClbMF07CiAgICAgICAgICAgIHBvcHVwX2E5NjczYzQwZDc5NjRhNzdiMGJiNWI2MWI2Mzk5MjdmLnNldENvbnRlbnQoaHRtbF9kZTU3YzY4NmE2NDI0NmQ1YTNjMGI5MjMyMjA0MTBhYSk7CiAgICAgICAgCgogICAgICAgIGNpcmNsZV9tYXJrZXJfYjRhNTRiMGM1ZTlhNDFkMWFkYzk0ODJhN2NkZTFhODAuYmluZFBvcHVwKHBvcHVwX2E5NjczYzQwZDc5NjRhNzdiMGJiNWI2MWI2Mzk5MjdmKQogICAgICAgIDsKCiAgICAgICAgCiAgICAKICAgIAogICAgICAgICAgICB2YXIgY2lyY2xlX21hcmtlcl9lYTZjZjRmMGQ4YmY0Y2NiYmIyNzg0NjQ1YTc0MThlMyA9IEwuY2lyY2xlTWFya2VyKAogICAgICAgICAgICAgICAgWzQzLjY1NzE2MTgsIC03OS4zNzg5MzcwOTk5OTk5OV0sCiAgICAgICAgICAgICAgICB7ImJ1YmJsaW5nTW91c2VFdmVudHMiOiB0cnVlLCAiY29sb3IiOiAiYmx1ZSIsICJkYXNoQXJyYXkiOiBudWxsLCAiZGFzaE9mZnNldCI6IG51bGwsICJmaWxsIjogdHJ1ZSwgImZpbGxDb2xvciI6ICIjMzE4NmNjIiwgImZpbGxPcGFjaXR5IjogMC43LCAiZmlsbFJ1bGUiOiAiZXZlbm9kZCIsICJsaW5lQ2FwIjogInJvdW5kIiwgImxpbmVKb2luIjogInJvdW5kIiwgIm9wYWNpdHkiOiAxLjAsICJyYWRpdXMiOiA1LCAic3Ryb2tlIjogdHJ1ZSwgIndlaWdodCI6IDN9CiAgICAgICAgICAgICkuYWRkVG8obWFwXzU0MjgyODIyYWZiODQxM2Y5ZTc0MTNhN2IxMTk2MTBhKTsKICAgICAgICAKICAgIAogICAgICAgIHZhciBwb3B1cF9kNDZkODdiMWRmNWE0MTAyYWI4OTk3YTkwM2U4MzkxMCA9IEwucG9wdXAoeyJtYXhXaWR0aCI6ICIxMDAlIn0pOwoKICAgICAgICAKICAgICAgICAgICAgdmFyIGh0bWxfNzY2MTM3ZDM2NTVlNDMwYjg4N2U5ZTliZDA0ZDU3MTIgPSAkKGA8ZGl2IGlkPSJodG1sXzc2NjEzN2QzNjU1ZTQzMGI4ODdlOWU5YmQwNGQ1NzEyIiBzdHlsZT0id2lkdGg6IDEwMC4wJTsgaGVpZ2h0OiAxMDAuMCU7Ij5uYW4sIG5hbjwvZGl2PmApWzBdOwogICAgICAgICAgICBwb3B1cF9kNDZkODdiMWRmNWE0MTAyYWI4OTk3YTkwM2U4MzkxMC5zZXRDb250ZW50KGh0bWxfNzY2MTM3ZDM2NTVlNDMwYjg4N2U5ZTliZDA0ZDU3MTIpOwogICAgICAgIAoKICAgICAgICBjaXJjbGVfbWFya2VyX2VhNmNmNGYwZDhiZjRjY2JiYjI3ODQ2NDVhNzQxOGUzLmJpbmRQb3B1cChwb3B1cF9kNDZkODdiMWRmNWE0MTAyYWI4OTk3YTkwM2U4MzkxMCkKICAgICAgICA7CgogICAgICAgIAogICAgCiAgICAKICAgICAgICAgICAgdmFyIGNpcmNsZV9tYXJrZXJfZmU0ZjkxYjdiNTFlNGE4MTkzM2U3ZGQ2NTM4YzgxOTcgPSBMLmNpcmNsZU1hcmtlcigKICAgICAgICAgICAgICAgIFs0My42NTE0OTM5LCAtNzkuMzc1NDE3OV0sCiAgICAgICAgICAgICAgICB7ImJ1YmJsaW5nTW91c2VFdmVudHMiOiB0cnVlLCAiY29sb3IiOiAiYmx1ZSIsICJkYXNoQXJyYXkiOiBudWxsLCAiZGFzaE9mZnNldCI6IG51bGwsICJmaWxsIjogdHJ1ZSwgImZpbGxDb2xvciI6ICIjMzE4NmNjIiwgImZpbGxPcGFjaXR5IjogMC43LCAiZmlsbFJ1bGUiOiAiZXZlbm9kZCIsICJsaW5lQ2FwIjogInJvdW5kIiwgImxpbmVKb2luIjogInJvdW5kIiwgIm9wYWNpdHkiOiAxLjAsICJyYWRpdXMiOiA1LCAic3Ryb2tlIjogdHJ1ZSwgIndlaWdodCI6IDN9CiAgICAgICAgICAgICkuYWRkVG8obWFwXzU0MjgyODIyYWZiODQxM2Y5ZTc0MTNhN2IxMTk2MTBhKTsKICAgICAgICAKICAgIAogICAgICAgIHZhciBwb3B1cF9iNDJmZjk2MWE0NGY0Y2Q5ODUyNDNiYjQ2MGU2NTgyMiA9IEwucG9wdXAoeyJtYXhXaWR0aCI6ICIxMDAlIn0pOwoKICAgICAgICAKICAgICAgICAgICAgdmFyIGh0bWxfNzBhYjZlMjkzZmNjNGFiZjk5OTQ5ZGE5MzIyY2VhZjIgPSAkKGA8ZGl2IGlkPSJodG1sXzcwYWI2ZTI5M2ZjYzRhYmY5OTk0OWRhOTMyMmNlYWYyIiBzdHlsZT0id2lkdGg6IDEwMC4wJTsgaGVpZ2h0OiAxMDAuMCU7Ij5uYW4sIG5hbjwvZGl2PmApWzBdOwogICAgICAgICAgICBwb3B1cF9iNDJmZjk2MWE0NGY0Y2Q5ODUyNDNiYjQ2MGU2NTgyMi5zZXRDb250ZW50KGh0bWxfNzBhYjZlMjkzZmNjNGFiZjk5OTQ5ZGE5MzIyY2VhZjIpOwogICAgICAgIAoKICAgICAgICBjaXJjbGVfbWFya2VyX2ZlNGY5MWI3YjUxZTRhODE5MzNlN2RkNjUzOGM4MTk3LmJpbmRQb3B1cChwb3B1cF9iNDJmZjk2MWE0NGY0Y2Q5ODUyNDNiYjQ2MGU2NTgyMikKICAgICAgICA7CgogICAgICAgIAogICAgCiAgICAKICAgICAgICAgICAgdmFyIGNpcmNsZV9tYXJrZXJfNWU5YzI0MjFlZjIyNDc1YWI0OTgxNGI4OTBjMzQ4NzAgPSBMLmNpcmNsZU1hcmtlcigKICAgICAgICAgICAgICAgIFs0My42NDQ3NzA3OTk5OTk5OTYsIC03OS4zNzMzMDY0XSwKICAgICAgICAgICAgICAgIHsiYnViYmxpbmdNb3VzZUV2ZW50cyI6IHRydWUsICJjb2xvciI6ICJibHVlIiwgImRhc2hBcnJheSI6IG51bGwsICJkYXNoT2Zmc2V0IjogbnVsbCwgImZpbGwiOiB0cnVlLCAiZmlsbENvbG9yIjogIiMzMTg2Y2MiLCAiZmlsbE9wYWNpdHkiOiAwLjcsICJmaWxsUnVsZSI6ICJldmVub2RkIiwgImxpbmVDYXAiOiAicm91bmQiLCAibGluZUpvaW4iOiAicm91bmQiLCAib3BhY2l0eSI6IDEuMCwgInJhZGl1cyI6IDUsICJzdHJva2UiOiB0cnVlLCAid2VpZ2h0IjogM30KICAgICAgICAgICAgKS5hZGRUbyhtYXBfNTQyODI4MjJhZmI4NDEzZjllNzQxM2E3YjExOTYxMGEpOwogICAgICAgIAogICAgCiAgICAgICAgdmFyIHBvcHVwXzBjZDQ2NzE1NzE1MzRlZmJhYWUxMWYwOGU2NTk2YTRlID0gTC5wb3B1cCh7Im1heFdpZHRoIjogIjEwMCUifSk7CgogICAgICAgIAogICAgICAgICAgICB2YXIgaHRtbF9iNTlmOGViZjc0NDU0MmYzYjJlMDAwYWZjYzM4OWI3MiA9ICQoYDxkaXYgaWQ9Imh0bWxfYjU5ZjhlYmY3NDQ1NDJmM2IyZTAwMGFmY2MzODliNzIiIHN0eWxlPSJ3aWR0aDogMTAwLjAlOyBoZWlnaHQ6IDEwMC4wJTsiPm5hbiwgbmFuPC9kaXY+YClbMF07CiAgICAgICAgICAgIHBvcHVwXzBjZDQ2NzE1NzE1MzRlZmJhYWUxMWYwOGU2NTk2YTRlLnNldENvbnRlbnQoaHRtbF9iNTlmOGViZjc0NDU0MmYzYjJlMDAwYWZjYzM4OWI3Mik7CiAgICAgICAgCgogICAgICAgIGNpcmNsZV9tYXJrZXJfNWU5YzI0MjFlZjIyNDc1YWI0OTgxNGI4OTBjMzQ4NzAuYmluZFBvcHVwKHBvcHVwXzBjZDQ2NzE1NzE1MzRlZmJhYWUxMWYwOGU2NTk2YTRlKQogICAgICAgIDsKCiAgICAgICAgCiAgICAKICAgIAogICAgICAgICAgICB2YXIgY2lyY2xlX21hcmtlcl9mNTUzZmNlY2Q1NGQ0YTVlYmQ0ZGNkMjk5MDFlNTBlYyA9IEwuY2lyY2xlTWFya2VyKAogICAgICAgICAgICAgICAgWzQzLjY1Nzk1MjQsIC03OS4zODczODI2XSwKICAgICAgICAgICAgICAgIHsiYnViYmxpbmdNb3VzZUV2ZW50cyI6IHRydWUsICJjb2xvciI6ICJibHVlIiwgImRhc2hBcnJheSI6IG51bGwsICJkYXNoT2Zmc2V0IjogbnVsbCwgImZpbGwiOiB0cnVlLCAiZmlsbENvbG9yIjogIiMzMTg2Y2MiLCAiZmlsbE9wYWNpdHkiOiAwLjcsICJmaWxsUnVsZSI6ICJldmVub2RkIiwgImxpbmVDYXAiOiAicm91bmQiLCAibGluZUpvaW4iOiAicm91bmQiLCAib3BhY2l0eSI6IDEuMCwgInJhZGl1cyI6IDUsICJzdHJva2UiOiB0cnVlLCAid2VpZ2h0IjogM30KICAgICAgICAgICAgKS5hZGRUbyhtYXBfNTQyODI4MjJhZmI4NDEzZjllNzQxM2E3YjExOTYxMGEpOwogICAgICAgIAogICAgCiAgICAgICAgdmFyIHBvcHVwXzY4ODA1ZGI4NzY1MzRmNDhiOWYzNjczOWZmNDU5NjU5ID0gTC5wb3B1cCh7Im1heFdpZHRoIjogIjEwMCUifSk7CgogICAgICAgIAogICAgICAgICAgICB2YXIgaHRtbF8wOWQyZDkzNjE0MjI0Yzg0YjE5NDhkNmVjYzJmZmVkMyA9ICQoYDxkaXYgaWQ9Imh0bWxfMDlkMmQ5MzYxNDIyNGM4NGIxOTQ4ZDZlY2MyZmZlZDMiIHN0eWxlPSJ3aWR0aDogMTAwLjAlOyBoZWlnaHQ6IDEwMC4wJTsiPm5hbiwgbmFuPC9kaXY+YClbMF07CiAgICAgICAgICAgIHBvcHVwXzY4ODA1ZGI4NzY1MzRmNDhiOWYzNjczOWZmNDU5NjU5LnNldENvbnRlbnQoaHRtbF8wOWQyZDkzNjE0MjI0Yzg0YjE5NDhkNmVjYzJmZmVkMyk7CiAgICAgICAgCgogICAgICAgIGNpcmNsZV9tYXJrZXJfZjU1M2ZjZWNkNTRkNGE1ZWJkNGRjZDI5OTAxZTUwZWMuYmluZFBvcHVwKHBvcHVwXzY4ODA1ZGI4NzY1MzRmNDhiOWYzNjczOWZmNDU5NjU5KQogICAgICAgIDsKCiAgICAgICAgCiAgICAKICAgIAogICAgICAgICAgICB2YXIgY2lyY2xlX21hcmtlcl85Mzk3NWRkY2Q2YWI0ZjZjYjgyNDhmN2Q2NjVhYzg4NSA9IEwuY2lyY2xlTWFya2VyKAogICAgICAgICAgICAgICAgWzQzLjY1MDU3MTIwMDAwMDAxLCAtNzkuMzg0NTY3NV0sCiAgICAgICAgICAgICAgICB7ImJ1YmJsaW5nTW91c2VFdmVudHMiOiB0cnVlLCAiY29sb3IiOiAiYmx1ZSIsICJkYXNoQXJyYXkiOiBudWxsLCAiZGFzaE9mZnNldCI6IG51bGwsICJmaWxsIjogdHJ1ZSwgImZpbGxDb2xvciI6ICIjMzE4NmNjIiwgImZpbGxPcGFjaXR5IjogMC43LCAiZmlsbFJ1bGUiOiAiZXZlbm9kZCIsICJsaW5lQ2FwIjogInJvdW5kIiwgImxpbmVKb2luIjogInJvdW5kIiwgIm9wYWNpdHkiOiAxLjAsICJyYWRpdXMiOiA1LCAic3Ryb2tlIjogdHJ1ZSwgIndlaWdodCI6IDN9CiAgICAgICAgICAgICkuYWRkVG8obWFwXzU0MjgyODIyYWZiODQxM2Y5ZTc0MTNhN2IxMTk2MTBhKTsKICAgICAgICAKICAgIAogICAgICAgIHZhciBwb3B1cF8yYzc1NmQ2Y2Y4MTg0ZjIyOTg0ZGVhNTFjYjAwMzg4ZCA9IEwucG9wdXAoeyJtYXhXaWR0aCI6ICIxMDAlIn0pOwoKICAgICAgICAKICAgICAgICAgICAgdmFyIGh0bWxfZDNkYTA2YzMyZTk0NDc1Nzk3ZjliNjJmNDg2ZTRjYmYgPSAkKGA8ZGl2IGlkPSJodG1sX2QzZGEwNmMzMmU5NDQ3NTc5N2Y5YjYyZjQ4NmU0Y2JmIiBzdHlsZT0id2lkdGg6IDEwMC4wJTsgaGVpZ2h0OiAxMDAuMCU7Ij5uYW4sIG5hbjwvZGl2PmApWzBdOwogICAgICAgICAgICBwb3B1cF8yYzc1NmQ2Y2Y4MTg0ZjIyOTg0ZGVhNTFjYjAwMzg4ZC5zZXRDb250ZW50KGh0bWxfZDNkYTA2YzMyZTk0NDc1Nzk3ZjliNjJmNDg2ZTRjYmYpOwogICAgICAgIAoKICAgICAgICBjaXJjbGVfbWFya2VyXzkzOTc1ZGRjZDZhYjRmNmNiODI0OGY3ZDY2NWFjODg1LmJpbmRQb3B1cChwb3B1cF8yYzc1NmQ2Y2Y4MTg0ZjIyOTg0ZGVhNTFjYjAwMzg4ZCkKICAgICAgICA7CgogICAgICAgIAogICAgCiAgICAKICAgICAgICAgICAgdmFyIGNpcmNsZV9tYXJrZXJfYWFlNDcxMzJlZDI5NDYwYmI1YzY2OTdjZWQ3ZmQ1MTMgPSBMLmNpcmNsZU1hcmtlcigKICAgICAgICAgICAgICAgIFs0My42NDA4MTU3LCAtNzkuMzgxNzUyMjk5OTk5OTldLAogICAgICAgICAgICAgICAgeyJidWJibGluZ01vdXNlRXZlbnRzIjogdHJ1ZSwgImNvbG9yIjogImJsdWUiLCAiZGFzaEFycmF5IjogbnVsbCwgImRhc2hPZmZzZXQiOiBudWxsLCAiZmlsbCI6IHRydWUsICJmaWxsQ29sb3IiOiAiIzMxODZjYyIsICJmaWxsT3BhY2l0eSI6IDAuNywgImZpbGxSdWxlIjogImV2ZW5vZGQiLCAibGluZUNhcCI6ICJyb3VuZCIsICJsaW5lSm9pbiI6ICJyb3VuZCIsICJvcGFjaXR5IjogMS4wLCAicmFkaXVzIjogNSwgInN0cm9rZSI6IHRydWUsICJ3ZWlnaHQiOiAzfQogICAgICAgICAgICApLmFkZFRvKG1hcF81NDI4MjgyMmFmYjg0MTNmOWU3NDEzYTdiMTE5NjEwYSk7CiAgICAgICAgCiAgICAKICAgICAgICB2YXIgcG9wdXBfMTNkNWJhYmUwNjVlNGFiZDk1YWMwYTcwZjVmNTJiMTkgPSBMLnBvcHVwKHsibWF4V2lkdGgiOiAiMTAwJSJ9KTsKCiAgICAgICAgCiAgICAgICAgICAgIHZhciBodG1sXzA2NDZkMmQ0ZjUzNzRhMzdhZjQ5MjAwZGU2ZTRmMzJlID0gJChgPGRpdiBpZD0iaHRtbF8wNjQ2ZDJkNGY1Mzc0YTM3YWY0OTIwMGRlNmU0ZjMyZSIgc3R5bGU9IndpZHRoOiAxMDAuMCU7IGhlaWdodDogMTAwLjAlOyI+bmFuLCBuYW48L2Rpdj5gKVswXTsKICAgICAgICAgICAgcG9wdXBfMTNkNWJhYmUwNjVlNGFiZDk1YWMwYTcwZjVmNTJiMTkuc2V0Q29udGVudChodG1sXzA2NDZkMmQ0ZjUzNzRhMzdhZjQ5MjAwZGU2ZTRmMzJlKTsKICAgICAgICAKCiAgICAgICAgY2lyY2xlX21hcmtlcl9hYWU0NzEzMmVkMjk0NjBiYjVjNjY5N2NlZDdmZDUxMy5iaW5kUG9wdXAocG9wdXBfMTNkNWJhYmUwNjVlNGFiZDk1YWMwYTcwZjVmNTJiMTkpCiAgICAgICAgOwoKICAgICAgICAKICAgIAogICAgCiAgICAgICAgICAgIHZhciBjaXJjbGVfbWFya2VyXzNhMWQwYzIwN2QyMDQ0Y2FiY2YyZTUzNWM5OTUzYmE5ID0gTC5jaXJjbGVNYXJrZXIoCiAgICAgICAgICAgICAgICBbNDMuNjQ3MTc2OCwgLTc5LjM4MTU3NjQwMDAwMDAxXSwKICAgICAgICAgICAgICAgIHsiYnViYmxpbmdNb3VzZUV2ZW50cyI6IHRydWUsICJjb2xvciI6ICJibHVlIiwgImRhc2hBcnJheSI6IG51bGwsICJkYXNoT2Zmc2V0IjogbnVsbCwgImZpbGwiOiB0cnVlLCAiZmlsbENvbG9yIjogIiMzMTg2Y2MiLCAiZmlsbE9wYWNpdHkiOiAwLjcsICJmaWxsUnVsZSI6ICJldmVub2RkIiwgImxpbmVDYXAiOiAicm91bmQiLCAibGluZUpvaW4iOiAicm91bmQiLCAib3BhY2l0eSI6IDEuMCwgInJhZGl1cyI6IDUsICJzdHJva2UiOiB0cnVlLCAid2VpZ2h0IjogM30KICAgICAgICAgICAgKS5hZGRUbyhtYXBfNTQyODI4MjJhZmI4NDEzZjllNzQxM2E3YjExOTYxMGEpOwogICAgICAgIAogICAgCiAgICAgICAgdmFyIHBvcHVwXzQ2N2Y1ZmRmZTE0MzQ0ZmQ5NTc2Mzc1YWJjODFlYzAzID0gTC5wb3B1cCh7Im1heFdpZHRoIjogIjEwMCUifSk7CgogICAgICAgIAogICAgICAgICAgICB2YXIgaHRtbF9kY2I2ZTRkZTdkZWU0MjBjODEzOGYyZjBhNWFlZDU3NyA9ICQoYDxkaXYgaWQ9Imh0bWxfZGNiNmU0ZGU3ZGVlNDIwYzgxMzhmMmYwYTVhZWQ1NzciIHN0eWxlPSJ3aWR0aDogMTAwLjAlOyBoZWlnaHQ6IDEwMC4wJTsiPm5hbiwgbmFuPC9kaXY+YClbMF07CiAgICAgICAgICAgIHBvcHVwXzQ2N2Y1ZmRmZTE0MzQ0ZmQ5NTc2Mzc1YWJjODFlYzAzLnNldENvbnRlbnQoaHRtbF9kY2I2ZTRkZTdkZWU0MjBjODEzOGYyZjBhNWFlZDU3Nyk7CiAgICAgICAgCgogICAgICAgIGNpcmNsZV9tYXJrZXJfM2ExZDBjMjA3ZDIwNDRjYWJjZjJlNTM1Yzk5NTNiYTkuYmluZFBvcHVwKHBvcHVwXzQ2N2Y1ZmRmZTE0MzQ0ZmQ5NTc2Mzc1YWJjODFlYzAzKQogICAgICAgIDsKCiAgICAgICAgCiAgICAKICAgIAogICAgICAgICAgICB2YXIgY2lyY2xlX21hcmtlcl9hZWRiOGY0OGM2NWU0Yzc1YWZmZGJmZWY3MzViNTA5ZCA9IEwuY2lyY2xlTWFya2VyKAogICAgICAgICAgICAgICAgWzQzLjY0ODE5ODUsIC03OS4zNzk4MTY5MDAwMDAwMV0sCiAgICAgICAgICAgICAgICB7ImJ1YmJsaW5nTW91c2VFdmVudHMiOiB0cnVlLCAiY29sb3IiOiAiYmx1ZSIsICJkYXNoQXJyYXkiOiBudWxsLCAiZGFzaE9mZnNldCI6IG51bGwsICJmaWxsIjogdHJ1ZSwgImZpbGxDb2xvciI6ICIjMzE4NmNjIiwgImZpbGxPcGFjaXR5IjogMC43LCAiZmlsbFJ1bGUiOiAiZXZlbm9kZCIsICJsaW5lQ2FwIjogInJvdW5kIiwgImxpbmVKb2luIjogInJvdW5kIiwgIm9wYWNpdHkiOiAxLjAsICJyYWRpdXMiOiA1LCAic3Ryb2tlIjogdHJ1ZSwgIndlaWdodCI6IDN9CiAgICAgICAgICAgICkuYWRkVG8obWFwXzU0MjgyODIyYWZiODQxM2Y5ZTc0MTNhN2IxMTk2MTBhKTsKICAgICAgICAKICAgIAogICAgICAgIHZhciBwb3B1cF9hOTdkZjQyNzQyNmE0NWVlYTMzNzA1ZDkzMDNjNjE2MiA9IEwucG9wdXAoeyJtYXhXaWR0aCI6ICIxMDAlIn0pOwoKICAgICAgICAKICAgICAgICAgICAgdmFyIGh0bWxfZTAwMWNkZjNhYzY2NGRiM2EyNGM4M2QzNDNiYzczZjggPSAkKGA8ZGl2IGlkPSJodG1sX2UwMDFjZGYzYWM2NjRkYjNhMjRjODNkMzQzYmM3M2Y4IiBzdHlsZT0id2lkdGg6IDEwMC4wJTsgaGVpZ2h0OiAxMDAuMCU7Ij5uYW4sIG5hbjwvZGl2PmApWzBdOwogICAgICAgICAgICBwb3B1cF9hOTdkZjQyNzQyNmE0NWVlYTMzNzA1ZDkzMDNjNjE2Mi5zZXRDb250ZW50KGh0bWxfZTAwMWNkZjNhYzY2NGRiM2EyNGM4M2QzNDNiYzczZjgpOwogICAgICAgIAoKICAgICAgICBjaXJjbGVfbWFya2VyX2FlZGI4ZjQ4YzY1ZTRjNzVhZmZkYmZlZjczNWI1MDlkLmJpbmRQb3B1cChwb3B1cF9hOTdkZjQyNzQyNmE0NWVlYTMzNzA1ZDkzMDNjNjE2MikKICAgICAgICA7CgogICAgICAgIAogICAgCiAgICAKICAgICAgICAgICAgdmFyIGNpcmNsZV9tYXJrZXJfZGU1MWEzNWQxY2QzNGY1N2E3NWYyM2FkZDNhYWEzYWEgPSBMLmNpcmNsZU1hcmtlcigKICAgICAgICAgICAgICAgIFs0My43MzMyODI1LCAtNzkuNDE5NzQ5N10sCiAgICAgICAgICAgICAgICB7ImJ1YmJsaW5nTW91c2VFdmVudHMiOiB0cnVlLCAiY29sb3IiOiAiYmx1ZSIsICJkYXNoQXJyYXkiOiBudWxsLCAiZGFzaE9mZnNldCI6IG51bGwsICJmaWxsIjogdHJ1ZSwgImZpbGxDb2xvciI6ICIjMzE4NmNjIiwgImZpbGxPcGFjaXR5IjogMC43LCAiZmlsbFJ1bGUiOiAiZXZlbm9kZCIsICJsaW5lQ2FwIjogInJvdW5kIiwgImxpbmVKb2luIjogInJvdW5kIiwgIm9wYWNpdHkiOiAxLjAsICJyYWRpdXMiOiA1LCAic3Ryb2tlIjogdHJ1ZSwgIndlaWdodCI6IDN9CiAgICAgICAgICAgICkuYWRkVG8obWFwXzU0MjgyODIyYWZiODQxM2Y5ZTc0MTNhN2IxMTk2MTBhKTsKICAgICAgICAKICAgIAogICAgICAgIHZhciBwb3B1cF8yYzU4MjRkMDFhYzM0ZmEyYWE4NWZmYzQ1NTIzOTI5NyA9IEwucG9wdXAoeyJtYXhXaWR0aCI6ICIxMDAlIn0pOwoKICAgICAgICAKICAgICAgICAgICAgdmFyIGh0bWxfMGVlODQ3YWJmYWNiNGNlZjg1ZTVlZDA5MDcxYTQ3YjEgPSAkKGA8ZGl2IGlkPSJodG1sXzBlZTg0N2FiZmFjYjRjZWY4NWU1ZWQwOTA3MWE0N2IxIiBzdHlsZT0id2lkdGg6IDEwMC4wJTsgaGVpZ2h0OiAxMDAuMCU7Ij5uYW4sIG5hbjwvZGl2PmApWzBdOwogICAgICAgICAgICBwb3B1cF8yYzU4MjRkMDFhYzM0ZmEyYWE4NWZmYzQ1NTIzOTI5Ny5zZXRDb250ZW50KGh0bWxfMGVlODQ3YWJmYWNiNGNlZjg1ZTVlZDA5MDcxYTQ3YjEpOwogICAgICAgIAoKICAgICAgICBjaXJjbGVfbWFya2VyX2RlNTFhMzVkMWNkMzRmNTdhNzVmMjNhZGQzYWFhM2FhLmJpbmRQb3B1cChwb3B1cF8yYzU4MjRkMDFhYzM0ZmEyYWE4NWZmYzQ1NTIzOTI5NykKICAgICAgICA7CgogICAgICAgIAogICAgCiAgICAKICAgICAgICAgICAgdmFyIGNpcmNsZV9tYXJrZXJfMGJmOTdlZjQ3OTE2NDM2M2FiZTdiNThlMTUyNzhjZmQgPSBMLmNpcmNsZU1hcmtlcigKICAgICAgICAgICAgICAgIFs0My43MTE2OTQ4LCAtNzkuNDE2OTM1NTk5OTk5OTldLAogICAgICAgICAgICAgICAgeyJidWJibGluZ01vdXNlRXZlbnRzIjogdHJ1ZSwgImNvbG9yIjogImJsdWUiLCAiZGFzaEFycmF5IjogbnVsbCwgImRhc2hPZmZzZXQiOiBudWxsLCAiZmlsbCI6IHRydWUsICJmaWxsQ29sb3IiOiAiIzMxODZjYyIsICJmaWxsT3BhY2l0eSI6IDAuNywgImZpbGxSdWxlIjogImV2ZW5vZGQiLCAibGluZUNhcCI6ICJyb3VuZCIsICJsaW5lSm9pbiI6ICJyb3VuZCIsICJvcGFjaXR5IjogMS4wLCAicmFkaXVzIjogNSwgInN0cm9rZSI6IHRydWUsICJ3ZWlnaHQiOiAzfQogICAgICAgICAgICApLmFkZFRvKG1hcF81NDI4MjgyMmFmYjg0MTNmOWU3NDEzYTdiMTE5NjEwYSk7CiAgICAgICAgCiAgICAKICAgICAgICB2YXIgcG9wdXBfZDJiZTU1NjM5NmM0NGUxN2I2MzIzMWRlNzhmYzE2MzUgPSBMLnBvcHVwKHsibWF4V2lkdGgiOiAiMTAwJSJ9KTsKCiAgICAgICAgCiAgICAgICAgICAgIHZhciBodG1sX2E5YmQ2YjAyYmZhNDQwODQ4MjliNTY3NTY4ZDljZjE2ID0gJChgPGRpdiBpZD0iaHRtbF9hOWJkNmIwMmJmYTQ0MDg0ODI5YjU2NzU2OGQ5Y2YxNiIgc3R5bGU9IndpZHRoOiAxMDAuMCU7IGhlaWdodDogMTAwLjAlOyI+bmFuLCBuYW48L2Rpdj5gKVswXTsKICAgICAgICAgICAgcG9wdXBfZDJiZTU1NjM5NmM0NGUxN2I2MzIzMWRlNzhmYzE2MzUuc2V0Q29udGVudChodG1sX2E5YmQ2YjAyYmZhNDQwODQ4MjliNTY3NTY4ZDljZjE2KTsKICAgICAgICAKCiAgICAgICAgY2lyY2xlX21hcmtlcl8wYmY5N2VmNDc5MTY0MzYzYWJlN2I1OGUxNTI3OGNmZC5iaW5kUG9wdXAocG9wdXBfZDJiZTU1NjM5NmM0NGUxN2I2MzIzMWRlNzhmYzE2MzUpCiAgICAgICAgOwoKICAgICAgICAKICAgIAogICAgCiAgICAgICAgICAgIHZhciBjaXJjbGVfbWFya2VyXzE1Yjg0N2FiMTU5NDQ0ZjlhMjcwNmU2ZDA5YmZhYTJhID0gTC5jaXJjbGVNYXJrZXIoCiAgICAgICAgICAgICAgICBbNDMuNjk2OTQ3NiwgLTc5LjQxMTMwNzIwMDAwMDAxXSwKICAgICAgICAgICAgICAgIHsiYnViYmxpbmdNb3VzZUV2ZW50cyI6IHRydWUsICJjb2xvciI6ICJibHVlIiwgImRhc2hBcnJheSI6IG51bGwsICJkYXNoT2Zmc2V0IjogbnVsbCwgImZpbGwiOiB0cnVlLCAiZmlsbENvbG9yIjogIiMzMTg2Y2MiLCAiZmlsbE9wYWNpdHkiOiAwLjcsICJmaWxsUnVsZSI6ICJldmVub2RkIiwgImxpbmVDYXAiOiAicm91bmQiLCAibGluZUpvaW4iOiAicm91bmQiLCAib3BhY2l0eSI6IDEuMCwgInJhZGl1cyI6IDUsICJzdHJva2UiOiB0cnVlLCAid2VpZ2h0IjogM30KICAgICAgICAgICAgKS5hZGRUbyhtYXBfNTQyODI4MjJhZmI4NDEzZjllNzQxM2E3YjExOTYxMGEpOwogICAgICAgIAogICAgCiAgICAgICAgdmFyIHBvcHVwX2U5MWZlZjY3Mjk3MDRkZmZiNjI3N2Y0NDBhODIxMWQyID0gTC5wb3B1cCh7Im1heFdpZHRoIjogIjEwMCUifSk7CgogICAgICAgIAogICAgICAgICAgICB2YXIgaHRtbF8zYzAwNTE5OWIxOGY0YzdiYTVjYmM1ZDg0MWQ1NzNmZSA9ICQoYDxkaXYgaWQ9Imh0bWxfM2MwMDUxOTliMThmNGM3YmE1Y2JjNWQ4NDFkNTczZmUiIHN0eWxlPSJ3aWR0aDogMTAwLjAlOyBoZWlnaHQ6IDEwMC4wJTsiPm5hbiwgbmFuPC9kaXY+YClbMF07CiAgICAgICAgICAgIHBvcHVwX2U5MWZlZjY3Mjk3MDRkZmZiNjI3N2Y0NDBhODIxMWQyLnNldENvbnRlbnQoaHRtbF8zYzAwNTE5OWIxOGY0YzdiYTVjYmM1ZDg0MWQ1NzNmZSk7CiAgICAgICAgCgogICAgICAgIGNpcmNsZV9tYXJrZXJfMTViODQ3YWIxNTk0NDRmOWEyNzA2ZTZkMDliZmFhMmEuYmluZFBvcHVwKHBvcHVwX2U5MWZlZjY3Mjk3MDRkZmZiNjI3N2Y0NDBhODIxMWQyKQogICAgICAgIDsKCiAgICAgICAgCiAgICAKICAgIAogICAgICAgICAgICB2YXIgY2lyY2xlX21hcmtlcl84YzE1NzY4NTdiZjU0NGE5YTEwNjRlNjVkMzQyNDUwYSA9IEwuY2lyY2xlTWFya2VyKAogICAgICAgICAgICAgICAgWzQzLjY3MjcwOTcsIC03OS40MDU2Nzg0MDAwMDAwMV0sCiAgICAgICAgICAgICAgICB7ImJ1YmJsaW5nTW91c2VFdmVudHMiOiB0cnVlLCAiY29sb3IiOiAiYmx1ZSIsICJkYXNoQXJyYXkiOiBudWxsLCAiZGFzaE9mZnNldCI6IG51bGwsICJmaWxsIjogdHJ1ZSwgImZpbGxDb2xvciI6ICIjMzE4NmNjIiwgImZpbGxPcGFjaXR5IjogMC43LCAiZmlsbFJ1bGUiOiAiZXZlbm9kZCIsICJsaW5lQ2FwIjogInJvdW5kIiwgImxpbmVKb2luIjogInJvdW5kIiwgIm9wYWNpdHkiOiAxLjAsICJyYWRpdXMiOiA1LCAic3Ryb2tlIjogdHJ1ZSwgIndlaWdodCI6IDN9CiAgICAgICAgICAgICkuYWRkVG8obWFwXzU0MjgyODIyYWZiODQxM2Y5ZTc0MTNhN2IxMTk2MTBhKTsKICAgICAgICAKICAgIAogICAgICAgIHZhciBwb3B1cF82MmQxNmFiZTdmNzQ0ODY5YmQ1ZmRiMjJlZDY0NTYzOCA9IEwucG9wdXAoeyJtYXhXaWR0aCI6ICIxMDAlIn0pOwoKICAgICAgICAKICAgICAgICAgICAgdmFyIGh0bWxfNzkyZjI4MGM3MWU2NGRjNWEyYzI1NDdkM2QwN2U1ZmQgPSAkKGA8ZGl2IGlkPSJodG1sXzc5MmYyODBjNzFlNjRkYzVhMmMyNTQ3ZDNkMDdlNWZkIiBzdHlsZT0id2lkdGg6IDEwMC4wJTsgaGVpZ2h0OiAxMDAuMCU7Ij5uYW4sIG5hbjwvZGl2PmApWzBdOwogICAgICAgICAgICBwb3B1cF82MmQxNmFiZTdmNzQ0ODY5YmQ1ZmRiMjJlZDY0NTYzOC5zZXRDb250ZW50KGh0bWxfNzkyZjI4MGM3MWU2NGRjNWEyYzI1NDdkM2QwN2U1ZmQpOwogICAgICAgIAoKICAgICAgICBjaXJjbGVfbWFya2VyXzhjMTU3Njg1N2JmNTQ0YTlhMTA2NGU2NWQzNDI0NTBhLmJpbmRQb3B1cChwb3B1cF82MmQxNmFiZTdmNzQ0ODY5YmQ1ZmRiMjJlZDY0NTYzOCkKICAgICAgICA7CgogICAgICAgIAogICAgCiAgICAKICAgICAgICAgICAgdmFyIGNpcmNsZV9tYXJrZXJfZTJmNTNlMjVkYTllNGRkNmIzN2U3ZjVlMTNmMmNjNzcgPSBMLmNpcmNsZU1hcmtlcigKICAgICAgICAgICAgICAgIFs0My42NjI2OTU2LCAtNzkuNDAwMDQ5M10sCiAgICAgICAgICAgICAgICB7ImJ1YmJsaW5nTW91c2VFdmVudHMiOiB0cnVlLCAiY29sb3IiOiAiYmx1ZSIsICJkYXNoQXJyYXkiOiBudWxsLCAiZGFzaE9mZnNldCI6IG51bGwsICJmaWxsIjogdHJ1ZSwgImZpbGxDb2xvciI6ICIjMzE4NmNjIiwgImZpbGxPcGFjaXR5IjogMC43LCAiZmlsbFJ1bGUiOiAiZXZlbm9kZCIsICJsaW5lQ2FwIjogInJvdW5kIiwgImxpbmVKb2luIjogInJvdW5kIiwgIm9wYWNpdHkiOiAxLjAsICJyYWRpdXMiOiA1LCAic3Ryb2tlIjogdHJ1ZSwgIndlaWdodCI6IDN9CiAgICAgICAgICAgICkuYWRkVG8obWFwXzU0MjgyODIyYWZiODQxM2Y5ZTc0MTNhN2IxMTk2MTBhKTsKICAgICAgICAKICAgIAogICAgICAgIHZhciBwb3B1cF82MTlmZDBmM2NiNWM0ZGZiODM2MzRkYjM5Nzc4ZmU2MiA9IEwucG9wdXAoeyJtYXhXaWR0aCI6ICIxMDAlIn0pOwoKICAgICAgICAKICAgICAgICAgICAgdmFyIGh0bWxfMTExZmRkMGNjNDY2NDJhNWI4YWUzZTdiYTQ0ZTJhNzUgPSAkKGA8ZGl2IGlkPSJodG1sXzExMWZkZDBjYzQ2NjQyYTViOGFlM2U3YmE0NGUyYTc1IiBzdHlsZT0id2lkdGg6IDEwMC4wJTsgaGVpZ2h0OiAxMDAuMCU7Ij5uYW4sIG5hbjwvZGl2PmApWzBdOwogICAgICAgICAgICBwb3B1cF82MTlmZDBmM2NiNWM0ZGZiODM2MzRkYjM5Nzc4ZmU2Mi5zZXRDb250ZW50KGh0bWxfMTExZmRkMGNjNDY2NDJhNWI4YWUzZTdiYTQ0ZTJhNzUpOwogICAgICAgIAoKICAgICAgICBjaXJjbGVfbWFya2VyX2UyZjUzZTI1ZGE5ZTRkZDZiMzdlN2Y1ZTEzZjJjYzc3LmJpbmRQb3B1cChwb3B1cF82MTlmZDBmM2NiNWM0ZGZiODM2MzRkYjM5Nzc4ZmU2MikKICAgICAgICA7CgogICAgICAgIAogICAgCiAgICAKICAgICAgICAgICAgdmFyIGNpcmNsZV9tYXJrZXJfZmQzODE4ODBiNDczNGYwYjg0YThlMDFkMjRkOTNkODggPSBMLmNpcmNsZU1hcmtlcigKICAgICAgICAgICAgICAgIFs0My42NTMyMDU3LCAtNzkuNDAwMDQ5M10sCiAgICAgICAgICAgICAgICB7ImJ1YmJsaW5nTW91c2VFdmVudHMiOiB0cnVlLCAiY29sb3IiOiAiYmx1ZSIsICJkYXNoQXJyYXkiOiBudWxsLCAiZGFzaE9mZnNldCI6IG51bGwsICJmaWxsIjogdHJ1ZSwgImZpbGxDb2xvciI6ICIjMzE4NmNjIiwgImZpbGxPcGFjaXR5IjogMC43LCAiZmlsbFJ1bGUiOiAiZXZlbm9kZCIsICJsaW5lQ2FwIjogInJvdW5kIiwgImxpbmVKb2luIjogInJvdW5kIiwgIm9wYWNpdHkiOiAxLjAsICJyYWRpdXMiOiA1LCAic3Ryb2tlIjogdHJ1ZSwgIndlaWdodCI6IDN9CiAgICAgICAgICAgICkuYWRkVG8obWFwXzU0MjgyODIyYWZiODQxM2Y5ZTc0MTNhN2IxMTk2MTBhKTsKICAgICAgICAKICAgIAogICAgICAgIHZhciBwb3B1cF9mYzUwYjU5MzMxYTA0MGNkOWJhZmRmMTU5M2NlMTlhNyA9IEwucG9wdXAoeyJtYXhXaWR0aCI6ICIxMDAlIn0pOwoKICAgICAgICAKICAgICAgICAgICAgdmFyIGh0bWxfODcwMWQzNzQwYjdkNDQyNzlhNmEwMWQ0NGM2MDU5NjggPSAkKGA8ZGl2IGlkPSJodG1sXzg3MDFkMzc0MGI3ZDQ0Mjc5YTZhMDFkNDRjNjA1OTY4IiBzdHlsZT0id2lkdGg6IDEwMC4wJTsgaGVpZ2h0OiAxMDAuMCU7Ij5uYW4sIG5hbjwvZGl2PmApWzBdOwogICAgICAgICAgICBwb3B1cF9mYzUwYjU5MzMxYTA0MGNkOWJhZmRmMTU5M2NlMTlhNy5zZXRDb250ZW50KGh0bWxfODcwMWQzNzQwYjdkNDQyNzlhNmEwMWQ0NGM2MDU5NjgpOwogICAgICAgIAoKICAgICAgICBjaXJjbGVfbWFya2VyX2ZkMzgxODgwYjQ3MzRmMGI4NGE4ZTAxZDI0ZDkzZDg4LmJpbmRQb3B1cChwb3B1cF9mYzUwYjU5MzMxYTA0MGNkOWJhZmRmMTU5M2NlMTlhNykKICAgICAgICA7CgogICAgICAgIAogICAgCiAgICAKICAgICAgICAgICAgdmFyIGNpcmNsZV9tYXJrZXJfMjE2MjVhMzIxODg4NDQ4N2IzMjQxYTk0ODRhZjA1NGQgPSBMLmNpcmNsZU1hcmtlcigKICAgICAgICAgICAgICAgIFs0My42Mjg5NDY3LCAtNzkuMzk0NDE5OV0sCiAgICAgICAgICAgICAgICB7ImJ1YmJsaW5nTW91c2VFdmVudHMiOiB0cnVlLCAiY29sb3IiOiAiYmx1ZSIsICJkYXNoQXJyYXkiOiBudWxsLCAiZGFzaE9mZnNldCI6IG51bGwsICJmaWxsIjogdHJ1ZSwgImZpbGxDb2xvciI6ICIjMzE4NmNjIiwgImZpbGxPcGFjaXR5IjogMC43LCAiZmlsbFJ1bGUiOiAiZXZlbm9kZCIsICJsaW5lQ2FwIjogInJvdW5kIiwgImxpbmVKb2luIjogInJvdW5kIiwgIm9wYWNpdHkiOiAxLjAsICJyYWRpdXMiOiA1LCAic3Ryb2tlIjogdHJ1ZSwgIndlaWdodCI6IDN9CiAgICAgICAgICAgICkuYWRkVG8obWFwXzU0MjgyODIyYWZiODQxM2Y5ZTc0MTNhN2IxMTk2MTBhKTsKICAgICAgICAKICAgIAogICAgICAgIHZhciBwb3B1cF85MGJlMTQ3Mzc1OWM0ODAzODUzN2UxNzU4OTQ1ZjExZiA9IEwucG9wdXAoeyJtYXhXaWR0aCI6ICIxMDAlIn0pOwoKICAgICAgICAKICAgICAgICAgICAgdmFyIGh0bWxfYmFkZWY2MjJlNjE4NDg1YWFlZDM5NDAxZjkwYmYzMmYgPSAkKGA8ZGl2IGlkPSJodG1sX2JhZGVmNjIyZTYxODQ4NWFhZWQzOTQwMWY5MGJmMzJmIiBzdHlsZT0id2lkdGg6IDEwMC4wJTsgaGVpZ2h0OiAxMDAuMCU7Ij5uYW4sIG5hbjwvZGl2PmApWzBdOwogICAgICAgICAgICBwb3B1cF85MGJlMTQ3Mzc1OWM0ODAzODUzN2UxNzU4OTQ1ZjExZi5zZXRDb250ZW50KGh0bWxfYmFkZWY2MjJlNjE4NDg1YWFlZDM5NDAxZjkwYmYzMmYpOwogICAgICAgIAoKICAgICAgICBjaXJjbGVfbWFya2VyXzIxNjI1YTMyMTg4ODQ0ODdiMzI0MWE5NDg0YWYwNTRkLmJpbmRQb3B1cChwb3B1cF85MGJlMTQ3Mzc1OWM0ODAzODUzN2UxNzU4OTQ1ZjExZikKICAgICAgICA7CgogICAgICAgIAogICAgCiAgICAKICAgICAgICAgICAgdmFyIGNpcmNsZV9tYXJrZXJfN2M3OTI1MDllOTIwNGU4ZmEyZmMwNWUyYjBhMDg2NWYgPSBMLmNpcmNsZU1hcmtlcigKICAgICAgICAgICAgICAgIFs0My42NDY0MzUyLCAtNzkuMzc0ODQ1OTk5OTk5OTldLAogICAgICAgICAgICAgICAgeyJidWJibGluZ01vdXNlRXZlbnRzIjogdHJ1ZSwgImNvbG9yIjogImJsdWUiLCAiZGFzaEFycmF5IjogbnVsbCwgImRhc2hPZmZzZXQiOiBudWxsLCAiZmlsbCI6IHRydWUsICJmaWxsQ29sb3IiOiAiIzMxODZjYyIsICJmaWxsT3BhY2l0eSI6IDAuNywgImZpbGxSdWxlIjogImV2ZW5vZGQiLCAibGluZUNhcCI6ICJyb3VuZCIsICJsaW5lSm9pbiI6ICJyb3VuZCIsICJvcGFjaXR5IjogMS4wLCAicmFkaXVzIjogNSwgInN0cm9rZSI6IHRydWUsICJ3ZWlnaHQiOiAzfQogICAgICAgICAgICApLmFkZFRvKG1hcF81NDI4MjgyMmFmYjg0MTNmOWU3NDEzYTdiMTE5NjEwYSk7CiAgICAgICAgCiAgICAKICAgICAgICB2YXIgcG9wdXBfZjc2YmZiNzIwMjY1NDdmMWIyMmVhOGVmZDMxMDMxYmUgPSBMLnBvcHVwKHsibWF4V2lkdGgiOiAiMTAwJSJ9KTsKCiAgICAgICAgCiAgICAgICAgICAgIHZhciBodG1sX2E0MWE3OWIxNDk0NTRlNWM4YWY2ZWI0Y2JkZGVhNTcyID0gJChgPGRpdiBpZD0iaHRtbF9hNDFhNzliMTQ5NDU0ZTVjOGFmNmViNGNiZGRlYTU3MiIgc3R5bGU9IndpZHRoOiAxMDAuMCU7IGhlaWdodDogMTAwLjAlOyI+bmFuLCBuYW48L2Rpdj5gKVswXTsKICAgICAgICAgICAgcG9wdXBfZjc2YmZiNzIwMjY1NDdmMWIyMmVhOGVmZDMxMDMxYmUuc2V0Q29udGVudChodG1sX2E0MWE3OWIxNDk0NTRlNWM4YWY2ZWI0Y2JkZGVhNTcyKTsKICAgICAgICAKCiAgICAgICAgY2lyY2xlX21hcmtlcl83Yzc5MjUwOWU5MjA0ZThmYTJmYzA1ZTJiMGEwODY1Zi5iaW5kUG9wdXAocG9wdXBfZjc2YmZiNzIwMjY1NDdmMWIyMmVhOGVmZDMxMDMxYmUpCiAgICAgICAgOwoKICAgICAgICAKICAgIAogICAgCiAgICAgICAgICAgIHZhciBjaXJjbGVfbWFya2VyX2U4MWUzMWY2ZjhlNzQwMTg4NDUzNDNmODlmYzFkZmI4ID0gTC5jaXJjbGVNYXJrZXIoCiAgICAgICAgICAgICAgICBbNDMuNjQ4NDI5MiwgLTc5LjM4MjI4MDJdLAogICAgICAgICAgICAgICAgeyJidWJibGluZ01vdXNlRXZlbnRzIjogdHJ1ZSwgImNvbG9yIjogImJsdWUiLCAiZGFzaEFycmF5IjogbnVsbCwgImRhc2hPZmZzZXQiOiBudWxsLCAiZmlsbCI6IHRydWUsICJmaWxsQ29sb3IiOiAiIzMxODZjYyIsICJmaWxsT3BhY2l0eSI6IDAuNywgImZpbGxSdWxlIjogImV2ZW5vZGQiLCAibGluZUNhcCI6ICJyb3VuZCIsICJsaW5lSm9pbiI6ICJyb3VuZCIsICJvcGFjaXR5IjogMS4wLCAicmFkaXVzIjogNSwgInN0cm9rZSI6IHRydWUsICJ3ZWlnaHQiOiAzfQogICAgICAgICAgICApLmFkZFRvKG1hcF81NDI4MjgyMmFmYjg0MTNmOWU3NDEzYTdiMTE5NjEwYSk7CiAgICAgICAgCiAgICAKICAgICAgICB2YXIgcG9wdXBfM2I5MDJhNGI2NGMyNGRjY2FjZTRjNDkxYzg5ODQ3OTggPSBMLnBvcHVwKHsibWF4V2lkdGgiOiAiMTAwJSJ9KTsKCiAgICAgICAgCiAgICAgICAgICAgIHZhciBodG1sX2IyZWNhZjEzMGEyMzRiNmQ5YzIxZDQzNTQzNWEyYWM2ID0gJChgPGRpdiBpZD0iaHRtbF9iMmVjYWYxMzBhMjM0YjZkOWMyMWQ0MzU0MzVhMmFjNiIgc3R5bGU9IndpZHRoOiAxMDAuMCU7IGhlaWdodDogMTAwLjAlOyI+bmFuLCBuYW48L2Rpdj5gKVswXTsKICAgICAgICAgICAgcG9wdXBfM2I5MDJhNGI2NGMyNGRjY2FjZTRjNDkxYzg5ODQ3OTguc2V0Q29udGVudChodG1sX2IyZWNhZjEzMGEyMzRiNmQ5YzIxZDQzNTQzNWEyYWM2KTsKICAgICAgICAKCiAgICAgICAgY2lyY2xlX21hcmtlcl9lODFlMzFmNmY4ZTc0MDE4ODQ1MzQzZjg5ZmMxZGZiOC5iaW5kUG9wdXAocG9wdXBfM2I5MDJhNGI2NGMyNGRjY2FjZTRjNDkxYzg5ODQ3OTgpCiAgICAgICAgOwoKICAgICAgICAKICAgIAogICAgCiAgICAgICAgICAgIHZhciBjaXJjbGVfbWFya2VyXzEzYjRlZTQ5N2VkMDRkZjk4ZmNlMDU4ODIyZGY2OTg3ID0gTC5jaXJjbGVNYXJrZXIoCiAgICAgICAgICAgICAgICBbNDMuNzE4NTE3OTk5OTk5OTk2LCAtNzkuNDY0NzYzMjk5OTk5OTldLAogICAgICAgICAgICAgICAgeyJidWJibGluZ01vdXNlRXZlbnRzIjogdHJ1ZSwgImNvbG9yIjogImJsdWUiLCAiZGFzaEFycmF5IjogbnVsbCwgImRhc2hPZmZzZXQiOiBudWxsLCAiZmlsbCI6IHRydWUsICJmaWxsQ29sb3IiOiAiIzMxODZjYyIsICJmaWxsT3BhY2l0eSI6IDAuNywgImZpbGxSdWxlIjogImV2ZW5vZGQiLCAibGluZUNhcCI6ICJyb3VuZCIsICJsaW5lSm9pbiI6ICJyb3VuZCIsICJvcGFjaXR5IjogMS4wLCAicmFkaXVzIjogNSwgInN0cm9rZSI6IHRydWUsICJ3ZWlnaHQiOiAzfQogICAgICAgICAgICApLmFkZFRvKG1hcF81NDI4MjgyMmFmYjg0MTNmOWU3NDEzYTdiMTE5NjEwYSk7CiAgICAgICAgCiAgICAKICAgICAgICB2YXIgcG9wdXBfNTdhOWNjZDU5MGMzNGRjNjhiZTViY2FmNTIyYjU1ZjggPSBMLnBvcHVwKHsibWF4V2lkdGgiOiAiMTAwJSJ9KTsKCiAgICAgICAgCiAgICAgICAgICAgIHZhciBodG1sXzc1ZTYxMTY4MjhlZTRhOWU4MGI4MTEwYmQ1ODhiNzg1ID0gJChgPGRpdiBpZD0iaHRtbF83NWU2MTE2ODI4ZWU0YTllODBiODExMGJkNTg4Yjc4NSIgc3R5bGU9IndpZHRoOiAxMDAuMCU7IGhlaWdodDogMTAwLjAlOyI+bmFuLCBuYW48L2Rpdj5gKVswXTsKICAgICAgICAgICAgcG9wdXBfNTdhOWNjZDU5MGMzNGRjNjhiZTViY2FmNTIyYjU1Zjguc2V0Q29udGVudChodG1sXzc1ZTYxMTY4MjhlZTRhOWU4MGI4MTEwYmQ1ODhiNzg1KTsKICAgICAgICAKCiAgICAgICAgY2lyY2xlX21hcmtlcl8xM2I0ZWU0OTdlZDA0ZGY5OGZjZTA1ODgyMmRmNjk4Ny5iaW5kUG9wdXAocG9wdXBfNTdhOWNjZDU5MGMzNGRjNjhiZTViY2FmNTIyYjU1ZjgpCiAgICAgICAgOwoKICAgICAgICAKICAgIAogICAgCiAgICAgICAgICAgIHZhciBjaXJjbGVfbWFya2VyXzE4YjA2ODRhOTJiZjQ3OTRhNTY0NDYwOWYwN2YwZWE0ID0gTC5jaXJjbGVNYXJrZXIoCiAgICAgICAgICAgICAgICBbNDMuNzA5NTc3LCAtNzkuNDQ1MDcyNTk5OTk5OTldLAogICAgICAgICAgICAgICAgeyJidWJibGluZ01vdXNlRXZlbnRzIjogdHJ1ZSwgImNvbG9yIjogImJsdWUiLCAiZGFzaEFycmF5IjogbnVsbCwgImRhc2hPZmZzZXQiOiBudWxsLCAiZmlsbCI6IHRydWUsICJmaWxsQ29sb3IiOiAiIzMxODZjYyIsICJmaWxsT3BhY2l0eSI6IDAuNywgImZpbGxSdWxlIjogImV2ZW5vZGQiLCAibGluZUNhcCI6ICJyb3VuZCIsICJsaW5lSm9pbiI6ICJyb3VuZCIsICJvcGFjaXR5IjogMS4wLCAicmFkaXVzIjogNSwgInN0cm9rZSI6IHRydWUsICJ3ZWlnaHQiOiAzfQogICAgICAgICAgICApLmFkZFRvKG1hcF81NDI4MjgyMmFmYjg0MTNmOWU3NDEzYTdiMTE5NjEwYSk7CiAgICAgICAgCiAgICAKICAgICAgICB2YXIgcG9wdXBfZmYyMjA3MjQzMWNhNGI0ZThlZTQwYjUwZTQ2Yjk3NDkgPSBMLnBvcHVwKHsibWF4V2lkdGgiOiAiMTAwJSJ9KTsKCiAgICAgICAgCiAgICAgICAgICAgIHZhciBodG1sX2JmMzc0NGQ1ZjVlYzQ5OTg4NzJlYjU3MjVjOWY4MjA4ID0gJChgPGRpdiBpZD0iaHRtbF9iZjM3NDRkNWY1ZWM0OTk4ODcyZWI1NzI1YzlmODIwOCIgc3R5bGU9IndpZHRoOiAxMDAuMCU7IGhlaWdodDogMTAwLjAlOyI+bmFuLCBuYW48L2Rpdj5gKVswXTsKICAgICAgICAgICAgcG9wdXBfZmYyMjA3MjQzMWNhNGI0ZThlZTQwYjUwZTQ2Yjk3NDkuc2V0Q29udGVudChodG1sX2JmMzc0NGQ1ZjVlYzQ5OTg4NzJlYjU3MjVjOWY4MjA4KTsKICAgICAgICAKCiAgICAgICAgY2lyY2xlX21hcmtlcl8xOGIwNjg0YTkyYmY0Nzk0YTU2NDQ2MDlmMDdmMGVhNC5iaW5kUG9wdXAocG9wdXBfZmYyMjA3MjQzMWNhNGI0ZThlZTQwYjUwZTQ2Yjk3NDkpCiAgICAgICAgOwoKICAgICAgICAKICAgIAogICAgCiAgICAgICAgICAgIHZhciBjaXJjbGVfbWFya2VyXzI3NDIzYWM0NGZjYTQ2MTA5MmQ2YTcxYWE4NTRkMWMxID0gTC5jaXJjbGVNYXJrZXIoCiAgICAgICAgICAgICAgICBbNDMuNjkzNzgxMywgLTc5LjQyODE5MTQwMDAwMDAyXSwKICAgICAgICAgICAgICAgIHsiYnViYmxpbmdNb3VzZUV2ZW50cyI6IHRydWUsICJjb2xvciI6ICJibHVlIiwgImRhc2hBcnJheSI6IG51bGwsICJkYXNoT2Zmc2V0IjogbnVsbCwgImZpbGwiOiB0cnVlLCAiZmlsbENvbG9yIjogIiMzMTg2Y2MiLCAiZmlsbE9wYWNpdHkiOiAwLjcsICJmaWxsUnVsZSI6ICJldmVub2RkIiwgImxpbmVDYXAiOiAicm91bmQiLCAibGluZUpvaW4iOiAicm91bmQiLCAib3BhY2l0eSI6IDEuMCwgInJhZGl1cyI6IDUsICJzdHJva2UiOiB0cnVlLCAid2VpZ2h0IjogM30KICAgICAgICAgICAgKS5hZGRUbyhtYXBfNTQyODI4MjJhZmI4NDEzZjllNzQxM2E3YjExOTYxMGEpOwogICAgICAgIAogICAgCiAgICAgICAgdmFyIHBvcHVwXzkzN2FjYTJhMDRmMzQzOGJhMzkzYjVlMWI3OWVkMGMzID0gTC5wb3B1cCh7Im1heFdpZHRoIjogIjEwMCUifSk7CgogICAgICAgIAogICAgICAgICAgICB2YXIgaHRtbF80ZWU5ZTNkYTc4MDY0Y2RjODc3OGE2NGFhZTg0NTY0MSA9ICQoYDxkaXYgaWQ9Imh0bWxfNGVlOWUzZGE3ODA2NGNkYzg3NzhhNjRhYWU4NDU2NDEiIHN0eWxlPSJ3aWR0aDogMTAwLjAlOyBoZWlnaHQ6IDEwMC4wJTsiPm5hbiwgbmFuPC9kaXY+YClbMF07CiAgICAgICAgICAgIHBvcHVwXzkzN2FjYTJhMDRmMzQzOGJhMzkzYjVlMWI3OWVkMGMzLnNldENvbnRlbnQoaHRtbF80ZWU5ZTNkYTc4MDY0Y2RjODc3OGE2NGFhZTg0NTY0MSk7CiAgICAgICAgCgogICAgICAgIGNpcmNsZV9tYXJrZXJfMjc0MjNhYzQ0ZmNhNDYxMDkyZDZhNzFhYTg1NGQxYzEuYmluZFBvcHVwKHBvcHVwXzkzN2FjYTJhMDRmMzQzOGJhMzkzYjVlMWI3OWVkMGMzKQogICAgICAgIDsKCiAgICAgICAgCiAgICAKICAgIAogICAgICAgICAgICB2YXIgY2lyY2xlX21hcmtlcl85Yzc5ZDA5NjJlYjM0OWFkYWMzOTY2ZWNiNWFlMzA0NiA9IEwuY2lyY2xlTWFya2VyKAogICAgICAgICAgICAgICAgWzQzLjY4OTAyNTYsIC03OS40NTM1MTJdLAogICAgICAgICAgICAgICAgeyJidWJibGluZ01vdXNlRXZlbnRzIjogdHJ1ZSwgImNvbG9yIjogImJsdWUiLCAiZGFzaEFycmF5IjogbnVsbCwgImRhc2hPZmZzZXQiOiBudWxsLCAiZmlsbCI6IHRydWUsICJmaWxsQ29sb3IiOiAiIzMxODZjYyIsICJmaWxsT3BhY2l0eSI6IDAuNywgImZpbGxSdWxlIjogImV2ZW5vZGQiLCAibGluZUNhcCI6ICJyb3VuZCIsICJsaW5lSm9pbiI6ICJyb3VuZCIsICJvcGFjaXR5IjogMS4wLCAicmFkaXVzIjogNSwgInN0cm9rZSI6IHRydWUsICJ3ZWlnaHQiOiAzfQogICAgICAgICAgICApLmFkZFRvKG1hcF81NDI4MjgyMmFmYjg0MTNmOWU3NDEzYTdiMTE5NjEwYSk7CiAgICAgICAgCiAgICAKICAgICAgICB2YXIgcG9wdXBfNTg1MDAxYzIxMTNjNDdjZWI0Y2I2ZWQ3OTZmMDFmZmEgPSBMLnBvcHVwKHsibWF4V2lkdGgiOiAiMTAwJSJ9KTsKCiAgICAgICAgCiAgICAgICAgICAgIHZhciBodG1sX2EwNjU3NmI3YjkwODRmMzJhZGIxYzdjMjc4NDM0NTBiID0gJChgPGRpdiBpZD0iaHRtbF9hMDY1NzZiN2I5MDg0ZjMyYWRiMWM3YzI3ODQzNDUwYiIgc3R5bGU9IndpZHRoOiAxMDAuMCU7IGhlaWdodDogMTAwLjAlOyI+bmFuLCBuYW48L2Rpdj5gKVswXTsKICAgICAgICAgICAgcG9wdXBfNTg1MDAxYzIxMTNjNDdjZWI0Y2I2ZWQ3OTZmMDFmZmEuc2V0Q29udGVudChodG1sX2EwNjU3NmI3YjkwODRmMzJhZGIxYzdjMjc4NDM0NTBiKTsKICAgICAgICAKCiAgICAgICAgY2lyY2xlX21hcmtlcl85Yzc5ZDA5NjJlYjM0OWFkYWMzOTY2ZWNiNWFlMzA0Ni5iaW5kUG9wdXAocG9wdXBfNTg1MDAxYzIxMTNjNDdjZWI0Y2I2ZWQ3OTZmMDFmZmEpCiAgICAgICAgOwoKICAgICAgICAKICAgIAogICAgCiAgICAgICAgICAgIHZhciBjaXJjbGVfbWFya2VyXzUwM2I4ZDY5Y2EyOTRmYTE5NjEwMWJmNThkYzIzZWEwID0gTC5jaXJjbGVNYXJrZXIoCiAgICAgICAgICAgICAgICBbNDMuNjY5NTQyLCAtNzkuNDIyNTYzN10sCiAgICAgICAgICAgICAgICB7ImJ1YmJsaW5nTW91c2VFdmVudHMiOiB0cnVlLCAiY29sb3IiOiAiYmx1ZSIsICJkYXNoQXJyYXkiOiBudWxsLCAiZGFzaE9mZnNldCI6IG51bGwsICJmaWxsIjogdHJ1ZSwgImZpbGxDb2xvciI6ICIjMzE4NmNjIiwgImZpbGxPcGFjaXR5IjogMC43LCAiZmlsbFJ1bGUiOiAiZXZlbm9kZCIsICJsaW5lQ2FwIjogInJvdW5kIiwgImxpbmVKb2luIjogInJvdW5kIiwgIm9wYWNpdHkiOiAxLjAsICJyYWRpdXMiOiA1LCAic3Ryb2tlIjogdHJ1ZSwgIndlaWdodCI6IDN9CiAgICAgICAgICAgICkuYWRkVG8obWFwXzU0MjgyODIyYWZiODQxM2Y5ZTc0MTNhN2IxMTk2MTBhKTsKICAgICAgICAKICAgIAogICAgICAgIHZhciBwb3B1cF9lYTNlOGUzYTc5NGQ0ZGJiOTUyNjZhNWQwZGMyOGI3YiA9IEwucG9wdXAoeyJtYXhXaWR0aCI6ICIxMDAlIn0pOwoKICAgICAgICAKICAgICAgICAgICAgdmFyIGh0bWxfZWQwNmRhNjNmZGU4NDhiMGIxN2RjOTcxNzQ2MjJiMTEgPSAkKGA8ZGl2IGlkPSJodG1sX2VkMDZkYTYzZmRlODQ4YjBiMTdkYzk3MTc0NjIyYjExIiBzdHlsZT0id2lkdGg6IDEwMC4wJTsgaGVpZ2h0OiAxMDAuMCU7Ij5uYW4sIG5hbjwvZGl2PmApWzBdOwogICAgICAgICAgICBwb3B1cF9lYTNlOGUzYTc5NGQ0ZGJiOTUyNjZhNWQwZGMyOGI3Yi5zZXRDb250ZW50KGh0bWxfZWQwNmRhNjNmZGU4NDhiMGIxN2RjOTcxNzQ2MjJiMTEpOwogICAgICAgIAoKICAgICAgICBjaXJjbGVfbWFya2VyXzUwM2I4ZDY5Y2EyOTRmYTE5NjEwMWJmNThkYzIzZWEwLmJpbmRQb3B1cChwb3B1cF9lYTNlOGUzYTc5NGQ0ZGJiOTUyNjZhNWQwZGMyOGI3YikKICAgICAgICA7CgogICAgICAgIAogICAgCiAgICAKICAgICAgICAgICAgdmFyIGNpcmNsZV9tYXJrZXJfZWRjYjBlZWQzNzcwNDM0YmI5ODdkNjUyYjVhYzJjNGEgPSBMLmNpcmNsZU1hcmtlcigKICAgICAgICAgICAgICAgIFs0My42NjkwMDUxMDAwMDAwMSwgLTc5LjQ0MjI1OTNdLAogICAgICAgICAgICAgICAgeyJidWJibGluZ01vdXNlRXZlbnRzIjogdHJ1ZSwgImNvbG9yIjogImJsdWUiLCAiZGFzaEFycmF5IjogbnVsbCwgImRhc2hPZmZzZXQiOiBudWxsLCAiZmlsbCI6IHRydWUsICJmaWxsQ29sb3IiOiAiIzMxODZjYyIsICJmaWxsT3BhY2l0eSI6IDAuNywgImZpbGxSdWxlIjogImV2ZW5vZGQiLCAibGluZUNhcCI6ICJyb3VuZCIsICJsaW5lSm9pbiI6ICJyb3VuZCIsICJvcGFjaXR5IjogMS4wLCAicmFkaXVzIjogNSwgInN0cm9rZSI6IHRydWUsICJ3ZWlnaHQiOiAzfQogICAgICAgICAgICApLmFkZFRvKG1hcF81NDI4MjgyMmFmYjg0MTNmOWU3NDEzYTdiMTE5NjEwYSk7CiAgICAgICAgCiAgICAKICAgICAgICB2YXIgcG9wdXBfMWJjNTBlNGY2YWUxNDczZmFkODU3NzAxM2YzZmYzMjIgPSBMLnBvcHVwKHsibWF4V2lkdGgiOiAiMTAwJSJ9KTsKCiAgICAgICAgCiAgICAgICAgICAgIHZhciBodG1sXzc5ODE2YTI4MzhhODQwMDk4MDhlOGRhNzVkMzEyNDFmID0gJChgPGRpdiBpZD0iaHRtbF83OTgxNmEyODM4YTg0MDA5ODA4ZThkYTc1ZDMxMjQxZiIgc3R5bGU9IndpZHRoOiAxMDAuMCU7IGhlaWdodDogMTAwLjAlOyI+bmFuLCBuYW48L2Rpdj5gKVswXTsKICAgICAgICAgICAgcG9wdXBfMWJjNTBlNGY2YWUxNDczZmFkODU3NzAxM2YzZmYzMjIuc2V0Q29udGVudChodG1sXzc5ODE2YTI4MzhhODQwMDk4MDhlOGRhNzVkMzEyNDFmKTsKICAgICAgICAKCiAgICAgICAgY2lyY2xlX21hcmtlcl9lZGNiMGVlZDM3NzA0MzRiYjk4N2Q2NTJiNWFjMmM0YS5iaW5kUG9wdXAocG9wdXBfMWJjNTBlNGY2YWUxNDczZmFkODU3NzAxM2YzZmYzMjIpCiAgICAgICAgOwoKICAgICAgICAKICAgIAogICAgCiAgICAgICAgICAgIHZhciBjaXJjbGVfbWFya2VyXzYyOGQwZjY1ZTI0NjQ1YjNhNmFhNDBkMmNmZmUzZDIwID0gTC5jaXJjbGVNYXJrZXIoCiAgICAgICAgICAgICAgICBbNDMuNjQ3OTI2NzAwMDAwMDA2LCAtNzkuNDE5NzQ5N10sCiAgICAgICAgICAgICAgICB7ImJ1YmJsaW5nTW91c2VFdmVudHMiOiB0cnVlLCAiY29sb3IiOiAiYmx1ZSIsICJkYXNoQXJyYXkiOiBudWxsLCAiZGFzaE9mZnNldCI6IG51bGwsICJmaWxsIjogdHJ1ZSwgImZpbGxDb2xvciI6ICIjMzE4NmNjIiwgImZpbGxPcGFjaXR5IjogMC43LCAiZmlsbFJ1bGUiOiAiZXZlbm9kZCIsICJsaW5lQ2FwIjogInJvdW5kIiwgImxpbmVKb2luIjogInJvdW5kIiwgIm9wYWNpdHkiOiAxLjAsICJyYWRpdXMiOiA1LCAic3Ryb2tlIjogdHJ1ZSwgIndlaWdodCI6IDN9CiAgICAgICAgICAgICkuYWRkVG8obWFwXzU0MjgyODIyYWZiODQxM2Y5ZTc0MTNhN2IxMTk2MTBhKTsKICAgICAgICAKICAgIAogICAgICAgIHZhciBwb3B1cF8zNGVjMGMzYjgwOTg0Yzk0YTkxYWEzM2Q1MTZiYTliYSA9IEwucG9wdXAoeyJtYXhXaWR0aCI6ICIxMDAlIn0pOwoKICAgICAgICAKICAgICAgICAgICAgdmFyIGh0bWxfNGU5MTk2YjM3YzYwNGYwMDgzM2EzZjZhZGQ3NjYzMGUgPSAkKGA8ZGl2IGlkPSJodG1sXzRlOTE5NmIzN2M2MDRmMDA4MzNhM2Y2YWRkNzY2MzBlIiBzdHlsZT0id2lkdGg6IDEwMC4wJTsgaGVpZ2h0OiAxMDAuMCU7Ij5uYW4sIG5hbjwvZGl2PmApWzBdOwogICAgICAgICAgICBwb3B1cF8zNGVjMGMzYjgwOTg0Yzk0YTkxYWEzM2Q1MTZiYTliYS5zZXRDb250ZW50KGh0bWxfNGU5MTk2YjM3YzYwNGYwMDgzM2EzZjZhZGQ3NjYzMGUpOwogICAgICAgIAoKICAgICAgICBjaXJjbGVfbWFya2VyXzYyOGQwZjY1ZTI0NjQ1YjNhNmFhNDBkMmNmZmUzZDIwLmJpbmRQb3B1cChwb3B1cF8zNGVjMGMzYjgwOTg0Yzk0YTkxYWEzM2Q1MTZiYTliYSkKICAgICAgICA7CgogICAgICAgIAogICAgCiAgICAKICAgICAgICAgICAgdmFyIGNpcmNsZV9tYXJrZXJfM2Q2MzBlZDkwYWM1NDhiMTk5ZjEwOTcwOTQyYjQ4MWMgPSBMLmNpcmNsZU1hcmtlcigKICAgICAgICAgICAgICAgIFs0My42MzY4NDcyLCAtNzkuNDI4MTkxNDAwMDAwMDJdLAogICAgICAgICAgICAgICAgeyJidWJibGluZ01vdXNlRXZlbnRzIjogdHJ1ZSwgImNvbG9yIjogImJsdWUiLCAiZGFzaEFycmF5IjogbnVsbCwgImRhc2hPZmZzZXQiOiBudWxsLCAiZmlsbCI6IHRydWUsICJmaWxsQ29sb3IiOiAiIzMxODZjYyIsICJmaWxsT3BhY2l0eSI6IDAuNywgImZpbGxSdWxlIjogImV2ZW5vZGQiLCAibGluZUNhcCI6ICJyb3VuZCIsICJsaW5lSm9pbiI6ICJyb3VuZCIsICJvcGFjaXR5IjogMS4wLCAicmFkaXVzIjogNSwgInN0cm9rZSI6IHRydWUsICJ3ZWlnaHQiOiAzfQogICAgICAgICAgICApLmFkZFRvKG1hcF81NDI4MjgyMmFmYjg0MTNmOWU3NDEzYTdiMTE5NjEwYSk7CiAgICAgICAgCiAgICAKICAgICAgICB2YXIgcG9wdXBfMzhmYWQ0ODAxMDJjNGEwZGFmOGNmYTVmMjc3MGFmNzQgPSBMLnBvcHVwKHsibWF4V2lkdGgiOiAiMTAwJSJ9KTsKCiAgICAgICAgCiAgICAgICAgICAgIHZhciBodG1sXzAwMWQ3MTAyYzI4OTQ0M2Q4YzQ4YjMzMWEyNWE0NDNlID0gJChgPGRpdiBpZD0iaHRtbF8wMDFkNzEwMmMyODk0NDNkOGM0OGIzMzFhMjVhNDQzZSIgc3R5bGU9IndpZHRoOiAxMDAuMCU7IGhlaWdodDogMTAwLjAlOyI+bmFuLCBuYW48L2Rpdj5gKVswXTsKICAgICAgICAgICAgcG9wdXBfMzhmYWQ0ODAxMDJjNGEwZGFmOGNmYTVmMjc3MGFmNzQuc2V0Q29udGVudChodG1sXzAwMWQ3MTAyYzI4OTQ0M2Q4YzQ4YjMzMWEyNWE0NDNlKTsKICAgICAgICAKCiAgICAgICAgY2lyY2xlX21hcmtlcl8zZDYzMGVkOTBhYzU0OGIxOTlmMTA5NzA5NDJiNDgxYy5iaW5kUG9wdXAocG9wdXBfMzhmYWQ0ODAxMDJjNGEwZGFmOGNmYTVmMjc3MGFmNzQpCiAgICAgICAgOwoKICAgICAgICAKICAgIAogICAgCiAgICAgICAgICAgIHZhciBjaXJjbGVfbWFya2VyXzVhODJjZjZlYjY1YjQ2OWQ4ZWE4YzU5YjA4OThlZTM5ID0gTC5jaXJjbGVNYXJrZXIoCiAgICAgICAgICAgICAgICBbNDMuNzEzNzU2MjAwMDAwMDA2LCAtNzkuNDkwMDczOF0sCiAgICAgICAgICAgICAgICB7ImJ1YmJsaW5nTW91c2VFdmVudHMiOiB0cnVlLCAiY29sb3IiOiAiYmx1ZSIsICJkYXNoQXJyYXkiOiBudWxsLCAiZGFzaE9mZnNldCI6IG51bGwsICJmaWxsIjogdHJ1ZSwgImZpbGxDb2xvciI6ICIjMzE4NmNjIiwgImZpbGxPcGFjaXR5IjogMC43LCAiZmlsbFJ1bGUiOiAiZXZlbm9kZCIsICJsaW5lQ2FwIjogInJvdW5kIiwgImxpbmVKb2luIjogInJvdW5kIiwgIm9wYWNpdHkiOiAxLjAsICJyYWRpdXMiOiA1LCAic3Ryb2tlIjogdHJ1ZSwgIndlaWdodCI6IDN9CiAgICAgICAgICAgICkuYWRkVG8obWFwXzU0MjgyODIyYWZiODQxM2Y5ZTc0MTNhN2IxMTk2MTBhKTsKICAgICAgICAKICAgIAogICAgICAgIHZhciBwb3B1cF8xOThhYjk0Zjc3NWY0MmJmYmE3MjY0YzhmMjJmNzg5MCA9IEwucG9wdXAoeyJtYXhXaWR0aCI6ICIxMDAlIn0pOwoKICAgICAgICAKICAgICAgICAgICAgdmFyIGh0bWxfZTY3NmI0OTVlZmU3NGFiMzk2M2M1Yjk5NzcwZjM5OTggPSAkKGA8ZGl2IGlkPSJodG1sX2U2NzZiNDk1ZWZlNzRhYjM5NjNjNWI5OTc3MGYzOTk4IiBzdHlsZT0id2lkdGg6IDEwMC4wJTsgaGVpZ2h0OiAxMDAuMCU7Ij5uYW4sIG5hbjwvZGl2PmApWzBdOwogICAgICAgICAgICBwb3B1cF8xOThhYjk0Zjc3NWY0MmJmYmE3MjY0YzhmMjJmNzg5MC5zZXRDb250ZW50KGh0bWxfZTY3NmI0OTVlZmU3NGFiMzk2M2M1Yjk5NzcwZjM5OTgpOwogICAgICAgIAoKICAgICAgICBjaXJjbGVfbWFya2VyXzVhODJjZjZlYjY1YjQ2OWQ4ZWE4YzU5YjA4OThlZTM5LmJpbmRQb3B1cChwb3B1cF8xOThhYjk0Zjc3NWY0MmJmYmE3MjY0YzhmMjJmNzg5MCkKICAgICAgICA7CgogICAgICAgIAogICAgCiAgICAKICAgICAgICAgICAgdmFyIGNpcmNsZV9tYXJrZXJfNjcyYTExZGJkZmMzNDM0ZDg4M2JkM2UxM2ZkZjIyNjIgPSBMLmNpcmNsZU1hcmtlcigKICAgICAgICAgICAgICAgIFs0My42OTExMTU4LCAtNzkuNDc2MDEzMjk5OTk5OTldLAogICAgICAgICAgICAgICAgeyJidWJibGluZ01vdXNlRXZlbnRzIjogdHJ1ZSwgImNvbG9yIjogImJsdWUiLCAiZGFzaEFycmF5IjogbnVsbCwgImRhc2hPZmZzZXQiOiBudWxsLCAiZmlsbCI6IHRydWUsICJmaWxsQ29sb3IiOiAiIzMxODZjYyIsICJmaWxsT3BhY2l0eSI6IDAuNywgImZpbGxSdWxlIjogImV2ZW5vZGQiLCAibGluZUNhcCI6ICJyb3VuZCIsICJsaW5lSm9pbiI6ICJyb3VuZCIsICJvcGFjaXR5IjogMS4wLCAicmFkaXVzIjogNSwgInN0cm9rZSI6IHRydWUsICJ3ZWlnaHQiOiAzfQogICAgICAgICAgICApLmFkZFRvKG1hcF81NDI4MjgyMmFmYjg0MTNmOWU3NDEzYTdiMTE5NjEwYSk7CiAgICAgICAgCiAgICAKICAgICAgICB2YXIgcG9wdXBfMzEyYjBiYzY4NWRhNDA1ZGI2MjhkNzIyNGUxNTdmMjMgPSBMLnBvcHVwKHsibWF4V2lkdGgiOiAiMTAwJSJ9KTsKCiAgICAgICAgCiAgICAgICAgICAgIHZhciBodG1sX2ZkNzE5NjljMTAxODQ2MjliYjZlYzdhZTgxZWI5MGQ0ID0gJChgPGRpdiBpZD0iaHRtbF9mZDcxOTY5YzEwMTg0NjI5YmI2ZWM3YWU4MWViOTBkNCIgc3R5bGU9IndpZHRoOiAxMDAuMCU7IGhlaWdodDogMTAwLjAlOyI+bmFuLCBuYW48L2Rpdj5gKVswXTsKICAgICAgICAgICAgcG9wdXBfMzEyYjBiYzY4NWRhNDA1ZGI2MjhkNzIyNGUxNTdmMjMuc2V0Q29udGVudChodG1sX2ZkNzE5NjljMTAxODQ2MjliYjZlYzdhZTgxZWI5MGQ0KTsKICAgICAgICAKCiAgICAgICAgY2lyY2xlX21hcmtlcl82NzJhMTFkYmRmYzM0MzRkODgzYmQzZTEzZmRmMjI2Mi5iaW5kUG9wdXAocG9wdXBfMzEyYjBiYzY4NWRhNDA1ZGI2MjhkNzIyNGUxNTdmMjMpCiAgICAgICAgOwoKICAgICAgICAKICAgIAogICAgCiAgICAgICAgICAgIHZhciBjaXJjbGVfbWFya2VyXzVhZDBjNmM2MzU1ZTRhNGZhNWEwMjM1OGE1NDAyMzdlID0gTC5jaXJjbGVNYXJrZXIoCiAgICAgICAgICAgICAgICBbNDMuNjczMTg1Mjk5OTk5OTksIC03OS40ODcyNjE5MDAwMDAwMV0sCiAgICAgICAgICAgICAgICB7ImJ1YmJsaW5nTW91c2VFdmVudHMiOiB0cnVlLCAiY29sb3IiOiAiYmx1ZSIsICJkYXNoQXJyYXkiOiBudWxsLCAiZGFzaE9mZnNldCI6IG51bGwsICJmaWxsIjogdHJ1ZSwgImZpbGxDb2xvciI6ICIjMzE4NmNjIiwgImZpbGxPcGFjaXR5IjogMC43LCAiZmlsbFJ1bGUiOiAiZXZlbm9kZCIsICJsaW5lQ2FwIjogInJvdW5kIiwgImxpbmVKb2luIjogInJvdW5kIiwgIm9wYWNpdHkiOiAxLjAsICJyYWRpdXMiOiA1LCAic3Ryb2tlIjogdHJ1ZSwgIndlaWdodCI6IDN9CiAgICAgICAgICAgICkuYWRkVG8obWFwXzU0MjgyODIyYWZiODQxM2Y5ZTc0MTNhN2IxMTk2MTBhKTsKICAgICAgICAKICAgIAogICAgICAgIHZhciBwb3B1cF9iNDVkMmNjMzE5NjU0YzgzYTFmMjk3ZTBhYmM3NWYxYSA9IEwucG9wdXAoeyJtYXhXaWR0aCI6ICIxMDAlIn0pOwoKICAgICAgICAKICAgICAgICAgICAgdmFyIGh0bWxfYWQ3NjFiNjkyY2U0NGU4YjlkMjU4N2E0ODNiNjk5OGYgPSAkKGA8ZGl2IGlkPSJodG1sX2FkNzYxYjY5MmNlNDRlOGI5ZDI1ODdhNDgzYjY5OThmIiBzdHlsZT0id2lkdGg6IDEwMC4wJTsgaGVpZ2h0OiAxMDAuMCU7Ij5uYW4sIG5hbjwvZGl2PmApWzBdOwogICAgICAgICAgICBwb3B1cF9iNDVkMmNjMzE5NjU0YzgzYTFmMjk3ZTBhYmM3NWYxYS5zZXRDb250ZW50KGh0bWxfYWQ3NjFiNjkyY2U0NGU4YjlkMjU4N2E0ODNiNjk5OGYpOwogICAgICAgIAoKICAgICAgICBjaXJjbGVfbWFya2VyXzVhZDBjNmM2MzU1ZTRhNGZhNWEwMjM1OGE1NDAyMzdlLmJpbmRQb3B1cChwb3B1cF9iNDVkMmNjMzE5NjU0YzgzYTFmMjk3ZTBhYmM3NWYxYSkKICAgICAgICA7CgogICAgICAgIAogICAgCiAgICAKICAgICAgICAgICAgdmFyIGNpcmNsZV9tYXJrZXJfMDU2NjQwMjlhNDJmNDRkZTg3ZDAxNTMzMzM3YjI5N2UgPSBMLmNpcmNsZU1hcmtlcigKICAgICAgICAgICAgICAgIFs0My42NjE2MDgzLCAtNzkuNDY0NzYzMjk5OTk5OTldLAogICAgICAgICAgICAgICAgeyJidWJibGluZ01vdXNlRXZlbnRzIjogdHJ1ZSwgImNvbG9yIjogImJsdWUiLCAiZGFzaEFycmF5IjogbnVsbCwgImRhc2hPZmZzZXQiOiBudWxsLCAiZmlsbCI6IHRydWUsICJmaWxsQ29sb3IiOiAiIzMxODZjYyIsICJmaWxsT3BhY2l0eSI6IDAuNywgImZpbGxSdWxlIjogImV2ZW5vZGQiLCAibGluZUNhcCI6ICJyb3VuZCIsICJsaW5lSm9pbiI6ICJyb3VuZCIsICJvcGFjaXR5IjogMS4wLCAicmFkaXVzIjogNSwgInN0cm9rZSI6IHRydWUsICJ3ZWlnaHQiOiAzfQogICAgICAgICAgICApLmFkZFRvKG1hcF81NDI4MjgyMmFmYjg0MTNmOWU3NDEzYTdiMTE5NjEwYSk7CiAgICAgICAgCiAgICAKICAgICAgICB2YXIgcG9wdXBfOWQ4MjEwYWQwYjk4NGU4NTgwOGY4ZTc5NGU5ODI5MDggPSBMLnBvcHVwKHsibWF4V2lkdGgiOiAiMTAwJSJ9KTsKCiAgICAgICAgCiAgICAgICAgICAgIHZhciBodG1sXzliNWJjNzU0OTlmNzQxNGM5YTRiMWM1YzA2OWExN2QxID0gJChgPGRpdiBpZD0iaHRtbF85YjViYzc1NDk5Zjc0MTRjOWE0YjFjNWMwNjlhMTdkMSIgc3R5bGU9IndpZHRoOiAxMDAuMCU7IGhlaWdodDogMTAwLjAlOyI+bmFuLCBuYW48L2Rpdj5gKVswXTsKICAgICAgICAgICAgcG9wdXBfOWQ4MjEwYWQwYjk4NGU4NTgwOGY4ZTc5NGU5ODI5MDguc2V0Q29udGVudChodG1sXzliNWJjNzU0OTlmNzQxNGM5YTRiMWM1YzA2OWExN2QxKTsKICAgICAgICAKCiAgICAgICAgY2lyY2xlX21hcmtlcl8wNTY2NDAyOWE0MmY0NGRlODdkMDE1MzMzMzdiMjk3ZS5iaW5kUG9wdXAocG9wdXBfOWQ4MjEwYWQwYjk4NGU4NTgwOGY4ZTc5NGU5ODI5MDgpCiAgICAgICAgOwoKICAgICAgICAKICAgIAogICAgCiAgICAgICAgICAgIHZhciBjaXJjbGVfbWFya2VyX2VhZDI5N2ZlZGJkZjQ1ODQ4OTc1NjdlMDEzMzIyMzQxID0gTC5jaXJjbGVNYXJrZXIoCiAgICAgICAgICAgICAgICBbNDMuNjQ4OTU5NywgLTc5LjQ1NjMyNV0sCiAgICAgICAgICAgICAgICB7ImJ1YmJsaW5nTW91c2VFdmVudHMiOiB0cnVlLCAiY29sb3IiOiAiYmx1ZSIsICJkYXNoQXJyYXkiOiBudWxsLCAiZGFzaE9mZnNldCI6IG51bGwsICJmaWxsIjogdHJ1ZSwgImZpbGxDb2xvciI6ICIjMzE4NmNjIiwgImZpbGxPcGFjaXR5IjogMC43LCAiZmlsbFJ1bGUiOiAiZXZlbm9kZCIsICJsaW5lQ2FwIjogInJvdW5kIiwgImxpbmVKb2luIjogInJvdW5kIiwgIm9wYWNpdHkiOiAxLjAsICJyYWRpdXMiOiA1LCAic3Ryb2tlIjogdHJ1ZSwgIndlaWdodCI6IDN9CiAgICAgICAgICAgICkuYWRkVG8obWFwXzU0MjgyODIyYWZiODQxM2Y5ZTc0MTNhN2IxMTk2MTBhKTsKICAgICAgICAKICAgIAogICAgICAgIHZhciBwb3B1cF8zNjJmYjQ5MzQ4MjM0OGQwODYyMDZmYWY2MWIyNDZmYyA9IEwucG9wdXAoeyJtYXhXaWR0aCI6ICIxMDAlIn0pOwoKICAgICAgICAKICAgICAgICAgICAgdmFyIGh0bWxfOWQ3MzFlMmJmN2RhNDMyOTg5OGE0NDkxNmMzYzUyNjUgPSAkKGA8ZGl2IGlkPSJodG1sXzlkNzMxZTJiZjdkYTQzMjk4OThhNDQ5MTZjM2M1MjY1IiBzdHlsZT0id2lkdGg6IDEwMC4wJTsgaGVpZ2h0OiAxMDAuMCU7Ij5uYW4sIG5hbjwvZGl2PmApWzBdOwogICAgICAgICAgICBwb3B1cF8zNjJmYjQ5MzQ4MjM0OGQwODYyMDZmYWY2MWIyNDZmYy5zZXRDb250ZW50KGh0bWxfOWQ3MzFlMmJmN2RhNDMyOTg5OGE0NDkxNmMzYzUyNjUpOwogICAgICAgIAoKICAgICAgICBjaXJjbGVfbWFya2VyX2VhZDI5N2ZlZGJkZjQ1ODQ4OTc1NjdlMDEzMzIyMzQxLmJpbmRQb3B1cChwb3B1cF8zNjJmYjQ5MzQ4MjM0OGQwODYyMDZmYWY2MWIyNDZmYykKICAgICAgICA7CgogICAgICAgIAogICAgCiAgICAKICAgICAgICAgICAgdmFyIGNpcmNsZV9tYXJrZXJfM2RmM2MxN2ZiNTk0NDFkNTg2NDI0NDM4NjU5ZmRhMmMgPSBMLmNpcmNsZU1hcmtlcigKICAgICAgICAgICAgICAgIFs0My42NTE1NzA2LCAtNzkuNDg0NDQ5OV0sCiAgICAgICAgICAgICAgICB7ImJ1YmJsaW5nTW91c2VFdmVudHMiOiB0cnVlLCAiY29sb3IiOiAiYmx1ZSIsICJkYXNoQXJyYXkiOiBudWxsLCAiZGFzaE9mZnNldCI6IG51bGwsICJmaWxsIjogdHJ1ZSwgImZpbGxDb2xvciI6ICIjMzE4NmNjIiwgImZpbGxPcGFjaXR5IjogMC43LCAiZmlsbFJ1bGUiOiAiZXZlbm9kZCIsICJsaW5lQ2FwIjogInJvdW5kIiwgImxpbmVKb2luIjogInJvdW5kIiwgIm9wYWNpdHkiOiAxLjAsICJyYWRpdXMiOiA1LCAic3Ryb2tlIjogdHJ1ZSwgIndlaWdodCI6IDN9CiAgICAgICAgICAgICkuYWRkVG8obWFwXzU0MjgyODIyYWZiODQxM2Y5ZTc0MTNhN2IxMTk2MTBhKTsKICAgICAgICAKICAgIAogICAgICAgIHZhciBwb3B1cF9hMDZmYmM4YWFlZTk0Yzg5YTBjNmU1YWY1NTU4N2U0OSA9IEwucG9wdXAoeyJtYXhXaWR0aCI6ICIxMDAlIn0pOwoKICAgICAgICAKICAgICAgICAgICAgdmFyIGh0bWxfNjg0YWMwNDY1MGEyNDJiZGFlNjI5NmNlYzBkYjMzOWIgPSAkKGA8ZGl2IGlkPSJodG1sXzY4NGFjMDQ2NTBhMjQyYmRhZTYyOTZjZWMwZGIzMzliIiBzdHlsZT0id2lkdGg6IDEwMC4wJTsgaGVpZ2h0OiAxMDAuMCU7Ij5uYW4sIG5hbjwvZGl2PmApWzBdOwogICAgICAgICAgICBwb3B1cF9hMDZmYmM4YWFlZTk0Yzg5YTBjNmU1YWY1NTU4N2U0OS5zZXRDb250ZW50KGh0bWxfNjg0YWMwNDY1MGEyNDJiZGFlNjI5NmNlYzBkYjMzOWIpOwogICAgICAgIAoKICAgICAgICBjaXJjbGVfbWFya2VyXzNkZjNjMTdmYjU5NDQxZDU4NjQyNDQzODY1OWZkYTJjLmJpbmRQb3B1cChwb3B1cF9hMDZmYmM4YWFlZTk0Yzg5YTBjNmU1YWY1NTU4N2U0OSkKICAgICAgICA7CgogICAgICAgIAogICAgCiAgICAKICAgICAgICAgICAgdmFyIGNpcmNsZV9tYXJrZXJfY2I2ZWEwYTY5MDZjNGZjYTg5NTE3MTE4MjViYWNmMmMgPSBMLmNpcmNsZU1hcmtlcigKICAgICAgICAgICAgICAgIFs0My42NjIzMDE1LCAtNzkuMzg5NDkzOF0sCiAgICAgICAgICAgICAgICB7ImJ1YmJsaW5nTW91c2VFdmVudHMiOiB0cnVlLCAiY29sb3IiOiAiYmx1ZSIsICJkYXNoQXJyYXkiOiBudWxsLCAiZGFzaE9mZnNldCI6IG51bGwsICJmaWxsIjogdHJ1ZSwgImZpbGxDb2xvciI6ICIjMzE4NmNjIiwgImZpbGxPcGFjaXR5IjogMC43LCAiZmlsbFJ1bGUiOiAiZXZlbm9kZCIsICJsaW5lQ2FwIjogInJvdW5kIiwgImxpbmVKb2luIjogInJvdW5kIiwgIm9wYWNpdHkiOiAxLjAsICJyYWRpdXMiOiA1LCAic3Ryb2tlIjogdHJ1ZSwgIndlaWdodCI6IDN9CiAgICAgICAgICAgICkuYWRkVG8obWFwXzU0MjgyODIyYWZiODQxM2Y5ZTc0MTNhN2IxMTk2MTBhKTsKICAgICAgICAKICAgIAogICAgICAgIHZhciBwb3B1cF9jYzA4ZWRmYTVkN2Y0ZTU4YmQ5YzRjMDNlNWFlYjIzNCA9IEwucG9wdXAoeyJtYXhXaWR0aCI6ICIxMDAlIn0pOwoKICAgICAgICAKICAgICAgICAgICAgdmFyIGh0bWxfMGM5NDc3YTEwZjljNDJlODg0NzAzNWQ4MjNhZjdhMzQgPSAkKGA8ZGl2IGlkPSJodG1sXzBjOTQ3N2ExMGY5YzQyZTg4NDcwMzVkODIzYWY3YTM0IiBzdHlsZT0id2lkdGg6IDEwMC4wJTsgaGVpZ2h0OiAxMDAuMCU7Ij5uYW4sIG5hbjwvZGl2PmApWzBdOwogICAgICAgICAgICBwb3B1cF9jYzA4ZWRmYTVkN2Y0ZTU4YmQ5YzRjMDNlNWFlYjIzNC5zZXRDb250ZW50KGh0bWxfMGM5NDc3YTEwZjljNDJlODg0NzAzNWQ4MjNhZjdhMzQpOwogICAgICAgIAoKICAgICAgICBjaXJjbGVfbWFya2VyX2NiNmVhMGE2OTA2YzRmY2E4OTUxNzExODI1YmFjZjJjLmJpbmRQb3B1cChwb3B1cF9jYzA4ZWRmYTVkN2Y0ZTU4YmQ5YzRjMDNlNWFlYjIzNCkKICAgICAgICA7CgogICAgICAgIAogICAgCiAgICAKICAgICAgICAgICAgdmFyIGNpcmNsZV9tYXJrZXJfNjU3ZjFiOWNiN2M3NDY4MzlhYTYyZTcwMGM2MTVkOTggPSBMLmNpcmNsZU1hcmtlcigKICAgICAgICAgICAgICAgIFs0My42MzY5NjU2LCAtNzkuNjE1ODE4OTk5OTk5OTldLAogICAgICAgICAgICAgICAgeyJidWJibGluZ01vdXNlRXZlbnRzIjogdHJ1ZSwgImNvbG9yIjogImJsdWUiLCAiZGFzaEFycmF5IjogbnVsbCwgImRhc2hPZmZzZXQiOiBudWxsLCAiZmlsbCI6IHRydWUsICJmaWxsQ29sb3IiOiAiIzMxODZjYyIsICJmaWxsT3BhY2l0eSI6IDAuNywgImZpbGxSdWxlIjogImV2ZW5vZGQiLCAibGluZUNhcCI6ICJyb3VuZCIsICJsaW5lSm9pbiI6ICJyb3VuZCIsICJvcGFjaXR5IjogMS4wLCAicmFkaXVzIjogNSwgInN0cm9rZSI6IHRydWUsICJ3ZWlnaHQiOiAzfQogICAgICAgICAgICApLmFkZFRvKG1hcF81NDI4MjgyMmFmYjg0MTNmOWU3NDEzYTdiMTE5NjEwYSk7CiAgICAgICAgCiAgICAKICAgICAgICB2YXIgcG9wdXBfZjYzNWRmOGIzNzk4NDk4MGIzMDY3YzNjMWZlMjExZjkgPSBMLnBvcHVwKHsibWF4V2lkdGgiOiAiMTAwJSJ9KTsKCiAgICAgICAgCiAgICAgICAgICAgIHZhciBodG1sXzc5YTM0YTZkMzI4ODQ1ODNiZjcxNmQ5ODI2Njc1N2Q2ID0gJChgPGRpdiBpZD0iaHRtbF83OWEzNGE2ZDMyODg0NTgzYmY3MTZkOTgyNjY3NTdkNiIgc3R5bGU9IndpZHRoOiAxMDAuMCU7IGhlaWdodDogMTAwLjAlOyI+bmFuLCBuYW48L2Rpdj5gKVswXTsKICAgICAgICAgICAgcG9wdXBfZjYzNWRmOGIzNzk4NDk4MGIzMDY3YzNjMWZlMjExZjkuc2V0Q29udGVudChodG1sXzc5YTM0YTZkMzI4ODQ1ODNiZjcxNmQ5ODI2Njc1N2Q2KTsKICAgICAgICAKCiAgICAgICAgY2lyY2xlX21hcmtlcl82NTdmMWI5Y2I3Yzc0NjgzOWFhNjJlNzAwYzYxNWQ5OC5iaW5kUG9wdXAocG9wdXBfZjYzNWRmOGIzNzk4NDk4MGIzMDY3YzNjMWZlMjExZjkpCiAgICAgICAgOwoKICAgICAgICAKICAgIAogICAgCiAgICAgICAgICAgIHZhciBjaXJjbGVfbWFya2VyX2Y2ZDUxY2MzMWJhMTQzMDE4NjBjYWI2MTQ4MWUxNGI2ID0gTC5jaXJjbGVNYXJrZXIoCiAgICAgICAgICAgICAgICBbNDMuNjYyNzQzOSwgLTc5LjMyMTU1OF0sCiAgICAgICAgICAgICAgICB7ImJ1YmJsaW5nTW91c2VFdmVudHMiOiB0cnVlLCAiY29sb3IiOiAiYmx1ZSIsICJkYXNoQXJyYXkiOiBudWxsLCAiZGFzaE9mZnNldCI6IG51bGwsICJmaWxsIjogdHJ1ZSwgImZpbGxDb2xvciI6ICIjMzE4NmNjIiwgImZpbGxPcGFjaXR5IjogMC43LCAiZmlsbFJ1bGUiOiAiZXZlbm9kZCIsICJsaW5lQ2FwIjogInJvdW5kIiwgImxpbmVKb2luIjogInJvdW5kIiwgIm9wYWNpdHkiOiAxLjAsICJyYWRpdXMiOiA1LCAic3Ryb2tlIjogdHJ1ZSwgIndlaWdodCI6IDN9CiAgICAgICAgICAgICkuYWRkVG8obWFwXzU0MjgyODIyYWZiODQxM2Y5ZTc0MTNhN2IxMTk2MTBhKTsKICAgICAgICAKICAgIAogICAgICAgIHZhciBwb3B1cF82NDUzYzczYzlmZDA0ZjE3OGY0ZjFlMjA2ZWE1ZDYwOCA9IEwucG9wdXAoeyJtYXhXaWR0aCI6ICIxMDAlIn0pOwoKICAgICAgICAKICAgICAgICAgICAgdmFyIGh0bWxfMjk1YzQ2M2E5YjA1NDg2OGIwZjVmYjU4NDg4NDRkOWMgPSAkKGA8ZGl2IGlkPSJodG1sXzI5NWM0NjNhOWIwNTQ4NjhiMGY1ZmI1ODQ4ODQ0ZDljIiBzdHlsZT0id2lkdGg6IDEwMC4wJTsgaGVpZ2h0OiAxMDAuMCU7Ij5uYW4sIG5hbjwvZGl2PmApWzBdOwogICAgICAgICAgICBwb3B1cF82NDUzYzczYzlmZDA0ZjE3OGY0ZjFlMjA2ZWE1ZDYwOC5zZXRDb250ZW50KGh0bWxfMjk1YzQ2M2E5YjA1NDg2OGIwZjVmYjU4NDg4NDRkOWMpOwogICAgICAgIAoKICAgICAgICBjaXJjbGVfbWFya2VyX2Y2ZDUxY2MzMWJhMTQzMDE4NjBjYWI2MTQ4MWUxNGI2LmJpbmRQb3B1cChwb3B1cF82NDUzYzczYzlmZDA0ZjE3OGY0ZjFlMjA2ZWE1ZDYwOCkKICAgICAgICA7CgogICAgICAgIAogICAgCiAgICAKICAgICAgICAgICAgdmFyIGNpcmNsZV9tYXJrZXJfZTNhOGEwODZhNThhNDVlMzliYjVmMDAwZWY3MDQyNGUgPSBMLmNpcmNsZU1hcmtlcigKICAgICAgICAgICAgICAgIFs0My42MDU2NDY2LCAtNzkuNTAxMzIwNzAwMDAwMDFdLAogICAgICAgICAgICAgICAgeyJidWJibGluZ01vdXNlRXZlbnRzIjogdHJ1ZSwgImNvbG9yIjogImJsdWUiLCAiZGFzaEFycmF5IjogbnVsbCwgImRhc2hPZmZzZXQiOiBudWxsLCAiZmlsbCI6IHRydWUsICJmaWxsQ29sb3IiOiAiIzMxODZjYyIsICJmaWxsT3BhY2l0eSI6IDAuNywgImZpbGxSdWxlIjogImV2ZW5vZGQiLCAibGluZUNhcCI6ICJyb3VuZCIsICJsaW5lSm9pbiI6ICJyb3VuZCIsICJvcGFjaXR5IjogMS4wLCAicmFkaXVzIjogNSwgInN0cm9rZSI6IHRydWUsICJ3ZWlnaHQiOiAzfQogICAgICAgICAgICApLmFkZFRvKG1hcF81NDI4MjgyMmFmYjg0MTNmOWU3NDEzYTdiMTE5NjEwYSk7CiAgICAgICAgCiAgICAKICAgICAgICB2YXIgcG9wdXBfNTk4ODU0NDM1NWFjNDFkN2IzODM3NzdlZTAxYmE1ZWEgPSBMLnBvcHVwKHsibWF4V2lkdGgiOiAiMTAwJSJ9KTsKCiAgICAgICAgCiAgICAgICAgICAgIHZhciBodG1sXzExZDI5ZWVmNzg1ZjQ3ZThhYzg5MWEwNDVhMTRkZjk5ID0gJChgPGRpdiBpZD0iaHRtbF8xMWQyOWVlZjc4NWY0N2U4YWM4OTFhMDQ1YTE0ZGY5OSIgc3R5bGU9IndpZHRoOiAxMDAuMCU7IGhlaWdodDogMTAwLjAlOyI+bmFuLCBuYW48L2Rpdj5gKVswXTsKICAgICAgICAgICAgcG9wdXBfNTk4ODU0NDM1NWFjNDFkN2IzODM3NzdlZTAxYmE1ZWEuc2V0Q29udGVudChodG1sXzExZDI5ZWVmNzg1ZjQ3ZThhYzg5MWEwNDVhMTRkZjk5KTsKICAgICAgICAKCiAgICAgICAgY2lyY2xlX21hcmtlcl9lM2E4YTA4NmE1OGE0NWUzOWJiNWYwMDBlZjcwNDI0ZS5iaW5kUG9wdXAocG9wdXBfNTk4ODU0NDM1NWFjNDFkN2IzODM3NzdlZTAxYmE1ZWEpCiAgICAgICAgOwoKICAgICAgICAKICAgIAogICAgCiAgICAgICAgICAgIHZhciBjaXJjbGVfbWFya2VyXzk3MDBjNzM3YWQxNDQwYzY4NWE1Yjg2MjFiYWQ3MjIwID0gTC5jaXJjbGVNYXJrZXIoCiAgICAgICAgICAgICAgICBbNDMuNjAyNDEzNzAwMDAwMDEsIC03OS41NDM0ODQwOTk5OTk5OV0sCiAgICAgICAgICAgICAgICB7ImJ1YmJsaW5nTW91c2VFdmVudHMiOiB0cnVlLCAiY29sb3IiOiAiYmx1ZSIsICJkYXNoQXJyYXkiOiBudWxsLCAiZGFzaE9mZnNldCI6IG51bGwsICJmaWxsIjogdHJ1ZSwgImZpbGxDb2xvciI6ICIjMzE4NmNjIiwgImZpbGxPcGFjaXR5IjogMC43LCAiZmlsbFJ1bGUiOiAiZXZlbm9kZCIsICJsaW5lQ2FwIjogInJvdW5kIiwgImxpbmVKb2luIjogInJvdW5kIiwgIm9wYWNpdHkiOiAxLjAsICJyYWRpdXMiOiA1LCAic3Ryb2tlIjogdHJ1ZSwgIndlaWdodCI6IDN9CiAgICAgICAgICAgICkuYWRkVG8obWFwXzU0MjgyODIyYWZiODQxM2Y5ZTc0MTNhN2IxMTk2MTBhKTsKICAgICAgICAKICAgIAogICAgICAgIHZhciBwb3B1cF82MjU1OGEwZmIzYmE0NzU2OTc3NDRjMmViZjYwY2EzNSA9IEwucG9wdXAoeyJtYXhXaWR0aCI6ICIxMDAlIn0pOwoKICAgICAgICAKICAgICAgICAgICAgdmFyIGh0bWxfOTY4ZDIxODQxNWFjNDJiMWEzMzk2MmU5NGJmNzhlMjIgPSAkKGA8ZGl2IGlkPSJodG1sXzk2OGQyMTg0MTVhYzQyYjFhMzM5NjJlOTRiZjc4ZTIyIiBzdHlsZT0id2lkdGg6IDEwMC4wJTsgaGVpZ2h0OiAxMDAuMCU7Ij5uYW4sIG5hbjwvZGl2PmApWzBdOwogICAgICAgICAgICBwb3B1cF82MjU1OGEwZmIzYmE0NzU2OTc3NDRjMmViZjYwY2EzNS5zZXRDb250ZW50KGh0bWxfOTY4ZDIxODQxNWFjNDJiMWEzMzk2MmU5NGJmNzhlMjIpOwogICAgICAgIAoKICAgICAgICBjaXJjbGVfbWFya2VyXzk3MDBjNzM3YWQxNDQwYzY4NWE1Yjg2MjFiYWQ3MjIwLmJpbmRQb3B1cChwb3B1cF82MjU1OGEwZmIzYmE0NzU2OTc3NDRjMmViZjYwY2EzNSkKICAgICAgICA7CgogICAgICAgIAogICAgCiAgICAKICAgICAgICAgICAgdmFyIGNpcmNsZV9tYXJrZXJfNTM1NGY1MzY2YzY0NDVhOGFlNjljY2I1OTc1Mzg0NzAgPSBMLmNpcmNsZU1hcmtlcigKICAgICAgICAgICAgICAgIFs0My42NTM2NTM2MDAwMDAwMDUsIC03OS41MDY5NDM2XSwKICAgICAgICAgICAgICAgIHsiYnViYmxpbmdNb3VzZUV2ZW50cyI6IHRydWUsICJjb2xvciI6ICJibHVlIiwgImRhc2hBcnJheSI6IG51bGwsICJkYXNoT2Zmc2V0IjogbnVsbCwgImZpbGwiOiB0cnVlLCAiZmlsbENvbG9yIjogIiMzMTg2Y2MiLCAiZmlsbE9wYWNpdHkiOiAwLjcsICJmaWxsUnVsZSI6ICJldmVub2RkIiwgImxpbmVDYXAiOiAicm91bmQiLCAibGluZUpvaW4iOiAicm91bmQiLCAib3BhY2l0eSI6IDEuMCwgInJhZGl1cyI6IDUsICJzdHJva2UiOiB0cnVlLCAid2VpZ2h0IjogM30KICAgICAgICAgICAgKS5hZGRUbyhtYXBfNTQyODI4MjJhZmI4NDEzZjllNzQxM2E3YjExOTYxMGEpOwogICAgICAgIAogICAgCiAgICAgICAgdmFyIHBvcHVwX2UyNjRkYzE0NWQyZDQ4YzZhZjhmMmMzODgyZTk1ODNmID0gTC5wb3B1cCh7Im1heFdpZHRoIjogIjEwMCUifSk7CgogICAgICAgIAogICAgICAgICAgICB2YXIgaHRtbF83YjBiNjlmYjcyZDE0ZGFjYjFiOTI4MjJmZWMyYTYzMSA9ICQoYDxkaXYgaWQ9Imh0bWxfN2IwYjY5ZmI3MmQxNGRhY2IxYjkyODIyZmVjMmE2MzEiIHN0eWxlPSJ3aWR0aDogMTAwLjAlOyBoZWlnaHQ6IDEwMC4wJTsiPm5hbiwgbmFuPC9kaXY+YClbMF07CiAgICAgICAgICAgIHBvcHVwX2UyNjRkYzE0NWQyZDQ4YzZhZjhmMmMzODgyZTk1ODNmLnNldENvbnRlbnQoaHRtbF83YjBiNjlmYjcyZDE0ZGFjYjFiOTI4MjJmZWMyYTYzMSk7CiAgICAgICAgCgogICAgICAgIGNpcmNsZV9tYXJrZXJfNTM1NGY1MzY2YzY0NDVhOGFlNjljY2I1OTc1Mzg0NzAuYmluZFBvcHVwKHBvcHVwX2UyNjRkYzE0NWQyZDQ4YzZhZjhmMmMzODgyZTk1ODNmKQogICAgICAgIDsKCiAgICAgICAgCiAgICAKICAgIAogICAgICAgICAgICB2YXIgY2lyY2xlX21hcmtlcl9jMTIwZTZlODcyMzY0Nzc2OWQyNzVmMmVlNzYxNTZjZCA9IEwuY2lyY2xlTWFya2VyKAogICAgICAgICAgICAgICAgWzQzLjYzNjI1NzksIC03OS40OTg1MDkwOTk5OTk5OV0sCiAgICAgICAgICAgICAgICB7ImJ1YmJsaW5nTW91c2VFdmVudHMiOiB0cnVlLCAiY29sb3IiOiAiYmx1ZSIsICJkYXNoQXJyYXkiOiBudWxsLCAiZGFzaE9mZnNldCI6IG51bGwsICJmaWxsIjogdHJ1ZSwgImZpbGxDb2xvciI6ICIjMzE4NmNjIiwgImZpbGxPcGFjaXR5IjogMC43LCAiZmlsbFJ1bGUiOiAiZXZlbm9kZCIsICJsaW5lQ2FwIjogInJvdW5kIiwgImxpbmVKb2luIjogInJvdW5kIiwgIm9wYWNpdHkiOiAxLjAsICJyYWRpdXMiOiA1LCAic3Ryb2tlIjogdHJ1ZSwgIndlaWdodCI6IDN9CiAgICAgICAgICAgICkuYWRkVG8obWFwXzU0MjgyODIyYWZiODQxM2Y5ZTc0MTNhN2IxMTk2MTBhKTsKICAgICAgICAKICAgIAogICAgICAgIHZhciBwb3B1cF84ZmNkNDMzMDdlMmY0YTUzOWM4N2VmMDc2NjExNDViNSA9IEwucG9wdXAoeyJtYXhXaWR0aCI6ICIxMDAlIn0pOwoKICAgICAgICAKICAgICAgICAgICAgdmFyIGh0bWxfYTJmNTc2YjlhYmQzNGQ2OTkxNWNhZTUxZThmMDExZjMgPSAkKGA8ZGl2IGlkPSJodG1sX2EyZjU3NmI5YWJkMzRkNjk5MTVjYWU1MWU4ZjAxMWYzIiBzdHlsZT0id2lkdGg6IDEwMC4wJTsgaGVpZ2h0OiAxMDAuMCU7Ij5uYW4sIG5hbjwvZGl2PmApWzBdOwogICAgICAgICAgICBwb3B1cF84ZmNkNDMzMDdlMmY0YTUzOWM4N2VmMDc2NjExNDViNS5zZXRDb250ZW50KGh0bWxfYTJmNTc2YjlhYmQzNGQ2OTkxNWNhZTUxZThmMDExZjMpOwogICAgICAgIAoKICAgICAgICBjaXJjbGVfbWFya2VyX2MxMjBlNmU4NzIzNjQ3NzY5ZDI3NWYyZWU3NjE1NmNkLmJpbmRQb3B1cChwb3B1cF84ZmNkNDMzMDdlMmY0YTUzOWM4N2VmMDc2NjExNDViNSkKICAgICAgICA7CgogICAgICAgIAogICAgCiAgICAKICAgICAgICAgICAgdmFyIGNpcmNsZV9tYXJrZXJfYzFhZjEzN2E3NmNlNGQ3YmFjZjFjOWRjZTZlZTgzYjkgPSBMLmNpcmNsZU1hcmtlcigKICAgICAgICAgICAgICAgIFs0My42Mjg4NDA4LCAtNzkuNTIwOTk5NDAwMDAwMDFdLAogICAgICAgICAgICAgICAgeyJidWJibGluZ01vdXNlRXZlbnRzIjogdHJ1ZSwgImNvbG9yIjogImJsdWUiLCAiZGFzaEFycmF5IjogbnVsbCwgImRhc2hPZmZzZXQiOiBudWxsLCAiZmlsbCI6IHRydWUsICJmaWxsQ29sb3IiOiAiIzMxODZjYyIsICJmaWxsT3BhY2l0eSI6IDAuNywgImZpbGxSdWxlIjogImV2ZW5vZGQiLCAibGluZUNhcCI6ICJyb3VuZCIsICJsaW5lSm9pbiI6ICJyb3VuZCIsICJvcGFjaXR5IjogMS4wLCAicmFkaXVzIjogNSwgInN0cm9rZSI6IHRydWUsICJ3ZWlnaHQiOiAzfQogICAgICAgICAgICApLmFkZFRvKG1hcF81NDI4MjgyMmFmYjg0MTNmOWU3NDEzYTdiMTE5NjEwYSk7CiAgICAgICAgCiAgICAKICAgICAgICB2YXIgcG9wdXBfY2MzMGIyMTA1NjViNGE4YzhkYzk5ZWQ1ODlhOGQ1MzQgPSBMLnBvcHVwKHsibWF4V2lkdGgiOiAiMTAwJSJ9KTsKCiAgICAgICAgCiAgICAgICAgICAgIHZhciBodG1sX2IwZjYwNTg3MzZkNDQzM2Q4NzUyNTA5YTEyMzQzNWRiID0gJChgPGRpdiBpZD0iaHRtbF9iMGY2MDU4NzM2ZDQ0MzNkODc1MjUwOWExMjM0MzVkYiIgc3R5bGU9IndpZHRoOiAxMDAuMCU7IGhlaWdodDogMTAwLjAlOyI+bmFuLCBuYW48L2Rpdj5gKVswXTsKICAgICAgICAgICAgcG9wdXBfY2MzMGIyMTA1NjViNGE4YzhkYzk5ZWQ1ODlhOGQ1MzQuc2V0Q29udGVudChodG1sX2IwZjYwNTg3MzZkNDQzM2Q4NzUyNTA5YTEyMzQzNWRiKTsKICAgICAgICAKCiAgICAgICAgY2lyY2xlX21hcmtlcl9jMWFmMTM3YTc2Y2U0ZDdiYWNmMWM5ZGNlNmVlODNiOS5iaW5kUG9wdXAocG9wdXBfY2MzMGIyMTA1NjViNGE4YzhkYzk5ZWQ1ODlhOGQ1MzQpCiAgICAgICAgOwoKICAgICAgICAKICAgIAogICAgCiAgICAgICAgICAgIHZhciBjaXJjbGVfbWFya2VyXzM2MzlmZjI2OTE3NzQzY2E5NWQwZmZhMDlkNjRiNTgwID0gTC5jaXJjbGVNYXJrZXIoCiAgICAgICAgICAgICAgICBbNDMuNjY3ODU1NiwgLTc5LjUzMjI0MjQwMDAwMDAyXSwKICAgICAgICAgICAgICAgIHsiYnViYmxpbmdNb3VzZUV2ZW50cyI6IHRydWUsICJjb2xvciI6ICJibHVlIiwgImRhc2hBcnJheSI6IG51bGwsICJkYXNoT2Zmc2V0IjogbnVsbCwgImZpbGwiOiB0cnVlLCAiZmlsbENvbG9yIjogIiMzMTg2Y2MiLCAiZmlsbE9wYWNpdHkiOiAwLjcsICJmaWxsUnVsZSI6ICJldmVub2RkIiwgImxpbmVDYXAiOiAicm91bmQiLCAibGluZUpvaW4iOiAicm91bmQiLCAib3BhY2l0eSI6IDEuMCwgInJhZGl1cyI6IDUsICJzdHJva2UiOiB0cnVlLCAid2VpZ2h0IjogM30KICAgICAgICAgICAgKS5hZGRUbyhtYXBfNTQyODI4MjJhZmI4NDEzZjllNzQxM2E3YjExOTYxMGEpOwogICAgICAgIAogICAgCiAgICAgICAgdmFyIHBvcHVwXzFiMTc4YTcxYzhiMjQ2NGU5MjM4ZWQ5MTMwMjY1ZDJiID0gTC5wb3B1cCh7Im1heFdpZHRoIjogIjEwMCUifSk7CgogICAgICAgIAogICAgICAgICAgICB2YXIgaHRtbF8zYWFiY2M4ZjY5ZDA0MWIwYmRlZWYxNmExNzI2YTEzZiA9ICQoYDxkaXYgaWQ9Imh0bWxfM2FhYmNjOGY2OWQwNDFiMGJkZWVmMTZhMTcyNmExM2YiIHN0eWxlPSJ3aWR0aDogMTAwLjAlOyBoZWlnaHQ6IDEwMC4wJTsiPm5hbiwgbmFuPC9kaXY+YClbMF07CiAgICAgICAgICAgIHBvcHVwXzFiMTc4YTcxYzhiMjQ2NGU5MjM4ZWQ5MTMwMjY1ZDJiLnNldENvbnRlbnQoaHRtbF8zYWFiY2M4ZjY5ZDA0MWIwYmRlZWYxNmExNzI2YTEzZik7CiAgICAgICAgCgogICAgICAgIGNpcmNsZV9tYXJrZXJfMzYzOWZmMjY5MTc3NDNjYTk1ZDBmZmEwOWQ2NGI1ODAuYmluZFBvcHVwKHBvcHVwXzFiMTc4YTcxYzhiMjQ2NGU5MjM4ZWQ5MTMwMjY1ZDJiKQogICAgICAgIDsKCiAgICAgICAgCiAgICAKICAgIAogICAgICAgICAgICB2YXIgY2lyY2xlX21hcmtlcl8xMDRhMDcyNTQyNDE0OTdlODA2ZTYwOWI1YjFiNDhjOSA9IEwuY2lyY2xlTWFya2VyKAogICAgICAgICAgICAgICAgWzQzLjY1MDk0MzIsIC03OS41NTQ3MjQ0MDAwMDAwMV0sCiAgICAgICAgICAgICAgICB7ImJ1YmJsaW5nTW91c2VFdmVudHMiOiB0cnVlLCAiY29sb3IiOiAiYmx1ZSIsICJkYXNoQXJyYXkiOiBudWxsLCAiZGFzaE9mZnNldCI6IG51bGwsICJmaWxsIjogdHJ1ZSwgImZpbGxDb2xvciI6ICIjMzE4NmNjIiwgImZpbGxPcGFjaXR5IjogMC43LCAiZmlsbFJ1bGUiOiAiZXZlbm9kZCIsICJsaW5lQ2FwIjogInJvdW5kIiwgImxpbmVKb2luIjogInJvdW5kIiwgIm9wYWNpdHkiOiAxLjAsICJyYWRpdXMiOiA1LCAic3Ryb2tlIjogdHJ1ZSwgIndlaWdodCI6IDN9CiAgICAgICAgICAgICkuYWRkVG8obWFwXzU0MjgyODIyYWZiODQxM2Y5ZTc0MTNhN2IxMTk2MTBhKTsKICAgICAgICAKICAgIAogICAgICAgIHZhciBwb3B1cF85NzU3ZWY0Y2NkMjA0OGUxODIwMjAxNTJkNDg4M2YxNSA9IEwucG9wdXAoeyJtYXhXaWR0aCI6ICIxMDAlIn0pOwoKICAgICAgICAKICAgICAgICAgICAgdmFyIGh0bWxfNmZlNmU3YTg3MjhkNDQ2NmExZDQyYjJlMmVkZDdiNDYgPSAkKGA8ZGl2IGlkPSJodG1sXzZmZTZlN2E4NzI4ZDQ0NjZhMWQ0MmIyZTJlZGQ3YjQ2IiBzdHlsZT0id2lkdGg6IDEwMC4wJTsgaGVpZ2h0OiAxMDAuMCU7Ij5uYW4sIG5hbjwvZGl2PmApWzBdOwogICAgICAgICAgICBwb3B1cF85NzU3ZWY0Y2NkMjA0OGUxODIwMjAxNTJkNDg4M2YxNS5zZXRDb250ZW50KGh0bWxfNmZlNmU3YTg3MjhkNDQ2NmExZDQyYjJlMmVkZDdiNDYpOwogICAgICAgIAoKICAgICAgICBjaXJjbGVfbWFya2VyXzEwNGEwNzI1NDI0MTQ5N2U4MDZlNjA5YjViMWI0OGM5LmJpbmRQb3B1cChwb3B1cF85NzU3ZWY0Y2NkMjA0OGUxODIwMjAxNTJkNDg4M2YxNSkKICAgICAgICA7CgogICAgICAgIAogICAgCiAgICAKICAgICAgICAgICAgdmFyIGNpcmNsZV9tYXJrZXJfNzRjOTgwN2YwMjE5NGU5OWE5ZDczYmY0YzEzZTIwZTIgPSBMLmNpcmNsZU1hcmtlcigKICAgICAgICAgICAgICAgIFs0My42NDM1MTUyLCAtNzkuNTc3MjAwNzk5OTk5OTldLAogICAgICAgICAgICAgICAgeyJidWJibGluZ01vdXNlRXZlbnRzIjogdHJ1ZSwgImNvbG9yIjogImJsdWUiLCAiZGFzaEFycmF5IjogbnVsbCwgImRhc2hPZmZzZXQiOiBudWxsLCAiZmlsbCI6IHRydWUsICJmaWxsQ29sb3IiOiAiIzMxODZjYyIsICJmaWxsT3BhY2l0eSI6IDAuNywgImZpbGxSdWxlIjogImV2ZW5vZGQiLCAibGluZUNhcCI6ICJyb3VuZCIsICJsaW5lSm9pbiI6ICJyb3VuZCIsICJvcGFjaXR5IjogMS4wLCAicmFkaXVzIjogNSwgInN0cm9rZSI6IHRydWUsICJ3ZWlnaHQiOiAzfQogICAgICAgICAgICApLmFkZFRvKG1hcF81NDI4MjgyMmFmYjg0MTNmOWU3NDEzYTdiMTE5NjEwYSk7CiAgICAgICAgCiAgICAKICAgICAgICB2YXIgcG9wdXBfMWNiNTY0MDM0Mjk2NDJhNzg2M2E2ZDBkODU3MWIxNTYgPSBMLnBvcHVwKHsibWF4V2lkdGgiOiAiMTAwJSJ9KTsKCiAgICAgICAgCiAgICAgICAgICAgIHZhciBodG1sXzU5MGI5NDdjODM3ZTQzODZiZmQzZGQ3ZTc3N2U2OWNkID0gJChgPGRpdiBpZD0iaHRtbF81OTBiOTQ3YzgzN2U0Mzg2YmZkM2RkN2U3NzdlNjljZCIgc3R5bGU9IndpZHRoOiAxMDAuMCU7IGhlaWdodDogMTAwLjAlOyI+bmFuLCBuYW48L2Rpdj5gKVswXTsKICAgICAgICAgICAgcG9wdXBfMWNiNTY0MDM0Mjk2NDJhNzg2M2E2ZDBkODU3MWIxNTYuc2V0Q29udGVudChodG1sXzU5MGI5NDdjODM3ZTQzODZiZmQzZGQ3ZTc3N2U2OWNkKTsKICAgICAgICAKCiAgICAgICAgY2lyY2xlX21hcmtlcl83NGM5ODA3ZjAyMTk0ZTk5YTlkNzNiZjRjMTNlMjBlMi5iaW5kUG9wdXAocG9wdXBfMWNiNTY0MDM0Mjk2NDJhNzg2M2E2ZDBkODU3MWIxNTYpCiAgICAgICAgOwoKICAgICAgICAKICAgIAogICAgCiAgICAgICAgICAgIHZhciBjaXJjbGVfbWFya2VyXzZiYTdiYzhjYzZlNTQyYmFiZjQ0M2E1NWUyMzZmYjRjID0gTC5jaXJjbGVNYXJrZXIoCiAgICAgICAgICAgICAgICBbNDMuNzU2MzAzMywgLTc5LjU2NTk2MzI5OTk5OTk5XSwKICAgICAgICAgICAgICAgIHsiYnViYmxpbmdNb3VzZUV2ZW50cyI6IHRydWUsICJjb2xvciI6ICJibHVlIiwgImRhc2hBcnJheSI6IG51bGwsICJkYXNoT2Zmc2V0IjogbnVsbCwgImZpbGwiOiB0cnVlLCAiZmlsbENvbG9yIjogIiMzMTg2Y2MiLCAiZmlsbE9wYWNpdHkiOiAwLjcsICJmaWxsUnVsZSI6ICJldmVub2RkIiwgImxpbmVDYXAiOiAicm91bmQiLCAibGluZUpvaW4iOiAicm91bmQiLCAib3BhY2l0eSI6IDEuMCwgInJhZGl1cyI6IDUsICJzdHJva2UiOiB0cnVlLCAid2VpZ2h0IjogM30KICAgICAgICAgICAgKS5hZGRUbyhtYXBfNTQyODI4MjJhZmI4NDEzZjllNzQxM2E3YjExOTYxMGEpOwogICAgICAgIAogICAgCiAgICAgICAgdmFyIHBvcHVwXzNiMzYwOWE2N2E4NTQwYWI4NTRkZWY1NjU0ZDNhZDQyID0gTC5wb3B1cCh7Im1heFdpZHRoIjogIjEwMCUifSk7CgogICAgICAgIAogICAgICAgICAgICB2YXIgaHRtbF81ZDY2YjdlOTMyZmY0MWIxODhjNDU5ZThjNjYzZGFiNyA9ICQoYDxkaXYgaWQ9Imh0bWxfNWQ2NmI3ZTkzMmZmNDFiMTg4YzQ1OWU4YzY2M2RhYjciIHN0eWxlPSJ3aWR0aDogMTAwLjAlOyBoZWlnaHQ6IDEwMC4wJTsiPm5hbiwgbmFuPC9kaXY+YClbMF07CiAgICAgICAgICAgIHBvcHVwXzNiMzYwOWE2N2E4NTQwYWI4NTRkZWY1NjU0ZDNhZDQyLnNldENvbnRlbnQoaHRtbF81ZDY2YjdlOTMyZmY0MWIxODhjNDU5ZThjNjYzZGFiNyk7CiAgICAgICAgCgogICAgICAgIGNpcmNsZV9tYXJrZXJfNmJhN2JjOGNjNmU1NDJiYWJmNDQzYTU1ZTIzNmZiNGMuYmluZFBvcHVwKHBvcHVwXzNiMzYwOWE2N2E4NTQwYWI4NTRkZWY1NjU0ZDNhZDQyKQogICAgICAgIDsKCiAgICAgICAgCiAgICAKICAgIAogICAgICAgICAgICB2YXIgY2lyY2xlX21hcmtlcl9iMTIyMGMzZDI3ZmU0MWZjYmZmNDY0Yzg4NDA0MGFkNiA9IEwuY2lyY2xlTWFya2VyKAogICAgICAgICAgICAgICAgWzQzLjcyNDc2NTksIC03OS41MzIyNDI0MDAwMDAwMl0sCiAgICAgICAgICAgICAgICB7ImJ1YmJsaW5nTW91c2VFdmVudHMiOiB0cnVlLCAiY29sb3IiOiAiYmx1ZSIsICJkYXNoQXJyYXkiOiBudWxsLCAiZGFzaE9mZnNldCI6IG51bGwsICJmaWxsIjogdHJ1ZSwgImZpbGxDb2xvciI6ICIjMzE4NmNjIiwgImZpbGxPcGFjaXR5IjogMC43LCAiZmlsbFJ1bGUiOiAiZXZlbm9kZCIsICJsaW5lQ2FwIjogInJvdW5kIiwgImxpbmVKb2luIjogInJvdW5kIiwgIm9wYWNpdHkiOiAxLjAsICJyYWRpdXMiOiA1LCAic3Ryb2tlIjogdHJ1ZSwgIndlaWdodCI6IDN9CiAgICAgICAgICAgICkuYWRkVG8obWFwXzU0MjgyODIyYWZiODQxM2Y5ZTc0MTNhN2IxMTk2MTBhKTsKICAgICAgICAKICAgIAogICAgICAgIHZhciBwb3B1cF84YzNhOTNiNzRmNWY0MTI5ODEzNWM2M2QwOTIxZWU1YSA9IEwucG9wdXAoeyJtYXhXaWR0aCI6ICIxMDAlIn0pOwoKICAgICAgICAKICAgICAgICAgICAgdmFyIGh0bWxfYjEyYmZhNDhjNDZhNGVlMjk1NjNiNzA4NTRjYTRkZDcgPSAkKGA8ZGl2IGlkPSJodG1sX2IxMmJmYTQ4YzQ2YTRlZTI5NTYzYjcwODU0Y2E0ZGQ3IiBzdHlsZT0id2lkdGg6IDEwMC4wJTsgaGVpZ2h0OiAxMDAuMCU7Ij5uYW4sIG5hbjwvZGl2PmApWzBdOwogICAgICAgICAgICBwb3B1cF84YzNhOTNiNzRmNWY0MTI5ODEzNWM2M2QwOTIxZWU1YS5zZXRDb250ZW50KGh0bWxfYjEyYmZhNDhjNDZhNGVlMjk1NjNiNzA4NTRjYTRkZDcpOwogICAgICAgIAoKICAgICAgICBjaXJjbGVfbWFya2VyX2IxMjIwYzNkMjdmZTQxZmNiZmY0NjRjODg0MDQwYWQ2LmJpbmRQb3B1cChwb3B1cF84YzNhOTNiNzRmNWY0MTI5ODEzNWM2M2QwOTIxZWU1YSkKICAgICAgICA7CgogICAgICAgIAogICAgCiAgICAKICAgICAgICAgICAgdmFyIGNpcmNsZV9tYXJrZXJfYmU5N2Y2NzFmOTFjNDNiY2IzNjYzMjkyMjdhNjU5NDIgPSBMLmNpcmNsZU1hcmtlcigKICAgICAgICAgICAgICAgIFs0My43MDY4NzYsIC03OS41MTgxODg0MDAwMDAwMV0sCiAgICAgICAgICAgICAgICB7ImJ1YmJsaW5nTW91c2VFdmVudHMiOiB0cnVlLCAiY29sb3IiOiAiYmx1ZSIsICJkYXNoQXJyYXkiOiBudWxsLCAiZGFzaE9mZnNldCI6IG51bGwsICJmaWxsIjogdHJ1ZSwgImZpbGxDb2xvciI6ICIjMzE4NmNjIiwgImZpbGxPcGFjaXR5IjogMC43LCAiZmlsbFJ1bGUiOiAiZXZlbm9kZCIsICJsaW5lQ2FwIjogInJvdW5kIiwgImxpbmVKb2luIjogInJvdW5kIiwgIm9wYWNpdHkiOiAxLjAsICJyYWRpdXMiOiA1LCAic3Ryb2tlIjogdHJ1ZSwgIndlaWdodCI6IDN9CiAgICAgICAgICAgICkuYWRkVG8obWFwXzU0MjgyODIyYWZiODQxM2Y5ZTc0MTNhN2IxMTk2MTBhKTsKICAgICAgICAKICAgIAogICAgICAgIHZhciBwb3B1cF9mM2Y3NDM1MDZkNjQ0N2I0YTA5Y2MwZTQ2ODk3MTEzNCA9IEwucG9wdXAoeyJtYXhXaWR0aCI6ICIxMDAlIn0pOwoKICAgICAgICAKICAgICAgICAgICAgdmFyIGh0bWxfYTg4MzVlYTVjNDBjNGYwMGI3MWM3N2NkMjJlZTcwOTQgPSAkKGA8ZGl2IGlkPSJodG1sX2E4ODM1ZWE1YzQwYzRmMDBiNzFjNzdjZDIyZWU3MDk0IiBzdHlsZT0id2lkdGg6IDEwMC4wJTsgaGVpZ2h0OiAxMDAuMCU7Ij5uYW4sIG5hbjwvZGl2PmApWzBdOwogICAgICAgICAgICBwb3B1cF9mM2Y3NDM1MDZkNjQ0N2I0YTA5Y2MwZTQ2ODk3MTEzNC5zZXRDb250ZW50KGh0bWxfYTg4MzVlYTVjNDBjNGYwMGI3MWM3N2NkMjJlZTcwOTQpOwogICAgICAgIAoKICAgICAgICBjaXJjbGVfbWFya2VyX2JlOTdmNjcxZjkxYzQzYmNiMzY2MzI5MjI3YTY1OTQyLmJpbmRQb3B1cChwb3B1cF9mM2Y3NDM1MDZkNjQ0N2I0YTA5Y2MwZTQ2ODk3MTEzNCkKICAgICAgICA7CgogICAgICAgIAogICAgCiAgICAKICAgICAgICAgICAgdmFyIGNpcmNsZV9tYXJrZXJfMjE4YmM2MDU4ZTJmNDNkNzgyYTVjNmY5YmIwMDQ5ZDggPSBMLmNpcmNsZU1hcmtlcigKICAgICAgICAgICAgICAgIFs0My42OTYzMTksIC03OS41MzIyNDI0MDAwMDAwMl0sCiAgICAgICAgICAgICAgICB7ImJ1YmJsaW5nTW91c2VFdmVudHMiOiB0cnVlLCAiY29sb3IiOiAiYmx1ZSIsICJkYXNoQXJyYXkiOiBudWxsLCAiZGFzaE9mZnNldCI6IG51bGwsICJmaWxsIjogdHJ1ZSwgImZpbGxDb2xvciI6ICIjMzE4NmNjIiwgImZpbGxPcGFjaXR5IjogMC43LCAiZmlsbFJ1bGUiOiAiZXZlbm9kZCIsICJsaW5lQ2FwIjogInJvdW5kIiwgImxpbmVKb2luIjogInJvdW5kIiwgIm9wYWNpdHkiOiAxLjAsICJyYWRpdXMiOiA1LCAic3Ryb2tlIjogdHJ1ZSwgIndlaWdodCI6IDN9CiAgICAgICAgICAgICkuYWRkVG8obWFwXzU0MjgyODIyYWZiODQxM2Y5ZTc0MTNhN2IxMTk2MTBhKTsKICAgICAgICAKICAgIAogICAgICAgIHZhciBwb3B1cF81NTY2NWI4ZDE4MjY0ZjZlOWY2ZjcwZDVhYTVlOTAwOSA9IEwucG9wdXAoeyJtYXhXaWR0aCI6ICIxMDAlIn0pOwoKICAgICAgICAKICAgICAgICAgICAgdmFyIGh0bWxfZmU0YjZjMjAxMmY5NDkzN2I5NzA2MjBlMDI3OWMwNzIgPSAkKGA8ZGl2IGlkPSJodG1sX2ZlNGI2YzIwMTJmOTQ5MzdiOTcwNjIwZTAyNzljMDcyIiBzdHlsZT0id2lkdGg6IDEwMC4wJTsgaGVpZ2h0OiAxMDAuMCU7Ij5uYW4sIG5hbjwvZGl2PmApWzBdOwogICAgICAgICAgICBwb3B1cF81NTY2NWI4ZDE4MjY0ZjZlOWY2ZjcwZDVhYTVlOTAwOS5zZXRDb250ZW50KGh0bWxfZmU0YjZjMjAxMmY5NDkzN2I5NzA2MjBlMDI3OWMwNzIpOwogICAgICAgIAoKICAgICAgICBjaXJjbGVfbWFya2VyXzIxOGJjNjA1OGUyZjQzZDc4MmE1YzZmOWJiMDA0OWQ4LmJpbmRQb3B1cChwb3B1cF81NTY2NWI4ZDE4MjY0ZjZlOWY2ZjcwZDVhYTVlOTAwOSkKICAgICAgICA7CgogICAgICAgIAogICAgCiAgICAKICAgICAgICAgICAgdmFyIGNpcmNsZV9tYXJrZXJfN2EzYTdlNzU4NGJlNGU0NzhkODBmZTRlMGFkNTJlZWUgPSBMLmNpcmNsZU1hcmtlcigKICAgICAgICAgICAgICAgIFs0My42ODg5MDU0LCAtNzkuNTU0NzI0NDAwMDAwMDFdLAogICAgICAgICAgICAgICAgeyJidWJibGluZ01vdXNlRXZlbnRzIjogdHJ1ZSwgImNvbG9yIjogImJsdWUiLCAiZGFzaEFycmF5IjogbnVsbCwgImRhc2hPZmZzZXQiOiBudWxsLCAiZmlsbCI6IHRydWUsICJmaWxsQ29sb3IiOiAiIzMxODZjYyIsICJmaWxsT3BhY2l0eSI6IDAuNywgImZpbGxSdWxlIjogImV2ZW5vZGQiLCAibGluZUNhcCI6ICJyb3VuZCIsICJsaW5lSm9pbiI6ICJyb3VuZCIsICJvcGFjaXR5IjogMS4wLCAicmFkaXVzIjogNSwgInN0cm9rZSI6IHRydWUsICJ3ZWlnaHQiOiAzfQogICAgICAgICAgICApLmFkZFRvKG1hcF81NDI4MjgyMmFmYjg0MTNmOWU3NDEzYTdiMTE5NjEwYSk7CiAgICAgICAgCiAgICAKICAgICAgICB2YXIgcG9wdXBfN2IyNWEzYTc1ZmU1NGM0Y2FiNWY1OWYwZGRjYTQyYTQgPSBMLnBvcHVwKHsibWF4V2lkdGgiOiAiMTAwJSJ9KTsKCiAgICAgICAgCiAgICAgICAgICAgIHZhciBodG1sX2ZiNmJlYzAwZDgxYjQ3ZGVhNmIyNDFmNTI4OTEzODk5ID0gJChgPGRpdiBpZD0iaHRtbF9mYjZiZWMwMGQ4MWI0N2RlYTZiMjQxZjUyODkxMzg5OSIgc3R5bGU9IndpZHRoOiAxMDAuMCU7IGhlaWdodDogMTAwLjAlOyI+bmFuLCBuYW48L2Rpdj5gKVswXTsKICAgICAgICAgICAgcG9wdXBfN2IyNWEzYTc1ZmU1NGM0Y2FiNWY1OWYwZGRjYTQyYTQuc2V0Q29udGVudChodG1sX2ZiNmJlYzAwZDgxYjQ3ZGVhNmIyNDFmNTI4OTEzODk5KTsKICAgICAgICAKCiAgICAgICAgY2lyY2xlX21hcmtlcl83YTNhN2U3NTg0YmU0ZTQ3OGQ4MGZlNGUwYWQ1MmVlZS5iaW5kUG9wdXAocG9wdXBfN2IyNWEzYTc1ZmU1NGM0Y2FiNWY1OWYwZGRjYTQyYTQpCiAgICAgICAgOwoKICAgICAgICAKICAgIAogICAgCiAgICAgICAgICAgIHZhciBjaXJjbGVfbWFya2VyXzJmMzY1NzUwMDg2NTQ1NDU5MjJkNzU5ODA4MmNjNmIyID0gTC5jaXJjbGVNYXJrZXIoCiAgICAgICAgICAgICAgICBbNDMuNzM5NDE2Mzk5OTk5OTk2LCAtNzkuNTg4NDM2OV0sCiAgICAgICAgICAgICAgICB7ImJ1YmJsaW5nTW91c2VFdmVudHMiOiB0cnVlLCAiY29sb3IiOiAiYmx1ZSIsICJkYXNoQXJyYXkiOiBudWxsLCAiZGFzaE9mZnNldCI6IG51bGwsICJmaWxsIjogdHJ1ZSwgImZpbGxDb2xvciI6ICIjMzE4NmNjIiwgImZpbGxPcGFjaXR5IjogMC43LCAiZmlsbFJ1bGUiOiAiZXZlbm9kZCIsICJsaW5lQ2FwIjogInJvdW5kIiwgImxpbmVKb2luIjogInJvdW5kIiwgIm9wYWNpdHkiOiAxLjAsICJyYWRpdXMiOiA1LCAic3Ryb2tlIjogdHJ1ZSwgIndlaWdodCI6IDN9CiAgICAgICAgICAgICkuYWRkVG8obWFwXzU0MjgyODIyYWZiODQxM2Y5ZTc0MTNhN2IxMTk2MTBhKTsKICAgICAgICAKICAgIAogICAgICAgIHZhciBwb3B1cF85YjlkOTYxMjgyNGY0YTExOGJhMDNhMjkyYTYyYWZmOSA9IEwucG9wdXAoeyJtYXhXaWR0aCI6ICIxMDAlIn0pOwoKICAgICAgICAKICAgICAgICAgICAgdmFyIGh0bWxfMGM2ZjczYTViNTcwNDUzYTk0MWNjMzdmOWNlOTNjZjkgPSAkKGA8ZGl2IGlkPSJodG1sXzBjNmY3M2E1YjU3MDQ1M2E5NDFjYzM3ZjljZTkzY2Y5IiBzdHlsZT0id2lkdGg6IDEwMC4wJTsgaGVpZ2h0OiAxMDAuMCU7Ij5uYW4sIG5hbjwvZGl2PmApWzBdOwogICAgICAgICAgICBwb3B1cF85YjlkOTYxMjgyNGY0YTExOGJhMDNhMjkyYTYyYWZmOS5zZXRDb250ZW50KGh0bWxfMGM2ZjczYTViNTcwNDUzYTk0MWNjMzdmOWNlOTNjZjkpOwogICAgICAgIAoKICAgICAgICBjaXJjbGVfbWFya2VyXzJmMzY1NzUwMDg2NTQ1NDU5MjJkNzU5ODA4MmNjNmIyLmJpbmRQb3B1cChwb3B1cF85YjlkOTYxMjgyNGY0YTExOGJhMDNhMjkyYTYyYWZmOSkKICAgICAgICA7CgogICAgICAgIAogICAgCiAgICAKICAgICAgICAgICAgdmFyIGNpcmNsZV9tYXJrZXJfY2NlNjA5ODZjYTJlNDgzMjljNDYwNjU0OTQxMmQ4YzEgPSBMLmNpcmNsZU1hcmtlcigKICAgICAgICAgICAgICAgIFs0My43MDY3NDgyOTk5OTk5OTQsIC03OS41OTQwNTQ0XSwKICAgICAgICAgICAgICAgIHsiYnViYmxpbmdNb3VzZUV2ZW50cyI6IHRydWUsICJjb2xvciI6ICJibHVlIiwgImRhc2hBcnJheSI6IG51bGwsICJkYXNoT2Zmc2V0IjogbnVsbCwgImZpbGwiOiB0cnVlLCAiZmlsbENvbG9yIjogIiMzMTg2Y2MiLCAiZmlsbE9wYWNpdHkiOiAwLjcsICJmaWxsUnVsZSI6ICJldmVub2RkIiwgImxpbmVDYXAiOiAicm91bmQiLCAibGluZUpvaW4iOiAicm91bmQiLCAib3BhY2l0eSI6IDEuMCwgInJhZGl1cyI6IDUsICJzdHJva2UiOiB0cnVlLCAid2VpZ2h0IjogM30KICAgICAgICAgICAgKS5hZGRUbyhtYXBfNTQyODI4MjJhZmI4NDEzZjllNzQxM2E3YjExOTYxMGEpOwogICAgICAgIAogICAgCiAgICAgICAgdmFyIHBvcHVwX2Q2Y2Y4ZjliNDkyMDRiNWM4Yzg5ZTc0NDRjNTRkZjNhID0gTC5wb3B1cCh7Im1heFdpZHRoIjogIjEwMCUifSk7CgogICAgICAgIAogICAgICAgICAgICB2YXIgaHRtbF9iNmI2MDVhOTNmYWQ0MGU0YjRjYzYyOGJmYmM5NGNmNCA9ICQoYDxkaXYgaWQ9Imh0bWxfYjZiNjA1YTkzZmFkNDBlNGI0Y2M2MjhiZmJjOTRjZjQiIHN0eWxlPSJ3aWR0aDogMTAwLjAlOyBoZWlnaHQ6IDEwMC4wJTsiPm5hbiwgbmFuPC9kaXY+YClbMF07CiAgICAgICAgICAgIHBvcHVwX2Q2Y2Y4ZjliNDkyMDRiNWM4Yzg5ZTc0NDRjNTRkZjNhLnNldENvbnRlbnQoaHRtbF9iNmI2MDVhOTNmYWQ0MGU0YjRjYzYyOGJmYmM5NGNmNCk7CiAgICAgICAgCgogICAgICAgIGNpcmNsZV9tYXJrZXJfY2NlNjA5ODZjYTJlNDgzMjljNDYwNjU0OTQxMmQ4YzEuYmluZFBvcHVwKHBvcHVwX2Q2Y2Y4ZjliNDkyMDRiNWM4Yzg5ZTc0NDRjNTRkZjNhKQogICAgICAgIDsKCiAgICAgICAgCiAgICAKPC9zY3JpcHQ+ onload=\"this.contentDocument.open();this.contentDocument.write(atob(this.getAttribute('data-html')));this.contentDocument.close();\" allowfullscreen webkitallowfullscreen mozallowfullscreen></iframe></div></div>"
      ],
      "text/plain": [
       "<folium.folium.Map at 0x2a3dae466d0>"
      ]
     },
     "execution_count": 20,
     "metadata": {},
     "output_type": "execute_result"
    }
   ],
   "source": [
    "latitude = 43.72\n",
    "longitude = -79.347\n",
    "\n",
    "# create map of New York using latitude and longitude values\n",
    "map_neighborhoods = generate_map(neighborhoods, longitude, latitude)\n",
    "map_neighborhoods"
   ]
  },
  {
   "cell_type": "markdown",
   "metadata": {},
   "source": [
    "![Map of Toronto Neighborhoods](./images/toronto_neighborhoods.PNG)"
   ]
  },
  {
   "cell_type": "markdown",
   "metadata": {},
   "source": [
    "## What if we just pick the boroughs with \"Toronto\" in it..."
   ]
  },
  {
   "cell_type": "code",
   "execution_count": 21,
   "metadata": {},
   "outputs": [
    {
     "ename": "ValueError",
     "evalue": "Cannot mask with non-boolean array containing NA / NaN values",
     "output_type": "error",
     "traceback": [
      "\u001b[1;31m---------------------------------------------------------------------------\u001b[0m",
      "\u001b[1;31mValueError\u001b[0m                                Traceback (most recent call last)",
      "\u001b[1;32m<ipython-input-21-c8820f957c6c>\u001b[0m in \u001b[0;36m<module>\u001b[1;34m\u001b[0m\n\u001b[1;32m----> 1\u001b[1;33m \u001b[0mtoronto_borough\u001b[0m \u001b[1;33m=\u001b[0m \u001b[0mneighborhoods\u001b[0m\u001b[1;33m[\u001b[0m\u001b[0mneighborhoods\u001b[0m\u001b[1;33m[\u001b[0m\u001b[1;34m'Borough'\u001b[0m\u001b[1;33m]\u001b[0m\u001b[1;33m.\u001b[0m\u001b[0mstr\u001b[0m\u001b[1;33m.\u001b[0m\u001b[0mcontains\u001b[0m\u001b[1;33m(\u001b[0m\u001b[1;34m'Toronto'\u001b[0m\u001b[1;33m)\u001b[0m\u001b[1;33m]\u001b[0m\u001b[1;33m\u001b[0m\u001b[1;33m\u001b[0m\u001b[0m\n\u001b[0m\u001b[0;32m      2\u001b[0m \u001b[0mtoronto_borough\u001b[0m\u001b[1;33m.\u001b[0m\u001b[0mreset_index\u001b[0m\u001b[1;33m(\u001b[0m\u001b[0mdrop\u001b[0m\u001b[1;33m=\u001b[0m\u001b[1;32mTrue\u001b[0m\u001b[1;33m,\u001b[0m \u001b[0minplace\u001b[0m\u001b[1;33m=\u001b[0m\u001b[1;32mTrue\u001b[0m\u001b[1;33m)\u001b[0m\u001b[1;33m\u001b[0m\u001b[1;33m\u001b[0m\u001b[0m\n\u001b[0;32m      3\u001b[0m \u001b[0mtoronto_borough\u001b[0m\u001b[1;33m.\u001b[0m\u001b[0mhead\u001b[0m\u001b[1;33m(\u001b[0m\u001b[1;33m)\u001b[0m\u001b[1;33m\u001b[0m\u001b[1;33m\u001b[0m\u001b[0m\n",
      "\u001b[1;32md:\\apps\\python38\\lib\\site-packages\\pandas\\core\\frame.py\u001b[0m in \u001b[0;36m__getitem__\u001b[1;34m(self, key)\u001b[0m\n\u001b[0;32m   2890\u001b[0m \u001b[1;33m\u001b[0m\u001b[0m\n\u001b[0;32m   2891\u001b[0m         \u001b[1;31m# Do we have a (boolean) 1d indexer?\u001b[0m\u001b[1;33m\u001b[0m\u001b[1;33m\u001b[0m\u001b[1;33m\u001b[0m\u001b[0m\n\u001b[1;32m-> 2892\u001b[1;33m         \u001b[1;32mif\u001b[0m \u001b[0mcom\u001b[0m\u001b[1;33m.\u001b[0m\u001b[0mis_bool_indexer\u001b[0m\u001b[1;33m(\u001b[0m\u001b[0mkey\u001b[0m\u001b[1;33m)\u001b[0m\u001b[1;33m:\u001b[0m\u001b[1;33m\u001b[0m\u001b[1;33m\u001b[0m\u001b[0m\n\u001b[0m\u001b[0;32m   2893\u001b[0m             \u001b[1;32mreturn\u001b[0m \u001b[0mself\u001b[0m\u001b[1;33m.\u001b[0m\u001b[0m_getitem_bool_array\u001b[0m\u001b[1;33m(\u001b[0m\u001b[0mkey\u001b[0m\u001b[1;33m)\u001b[0m\u001b[1;33m\u001b[0m\u001b[1;33m\u001b[0m\u001b[0m\n\u001b[0;32m   2894\u001b[0m \u001b[1;33m\u001b[0m\u001b[0m\n",
      "\u001b[1;32md:\\apps\\python38\\lib\\site-packages\\pandas\\core\\common.py\u001b[0m in \u001b[0;36mis_bool_indexer\u001b[1;34m(key)\u001b[0m\n\u001b[0;32m    132\u001b[0m                 \u001b[0mna_msg\u001b[0m \u001b[1;33m=\u001b[0m \u001b[1;34m\"Cannot mask with non-boolean array containing NA / NaN values\"\u001b[0m\u001b[1;33m\u001b[0m\u001b[1;33m\u001b[0m\u001b[0m\n\u001b[0;32m    133\u001b[0m                 \u001b[1;32mif\u001b[0m \u001b[0misna\u001b[0m\u001b[1;33m(\u001b[0m\u001b[0mkey\u001b[0m\u001b[1;33m)\u001b[0m\u001b[1;33m.\u001b[0m\u001b[0many\u001b[0m\u001b[1;33m(\u001b[0m\u001b[1;33m)\u001b[0m\u001b[1;33m:\u001b[0m\u001b[1;33m\u001b[0m\u001b[1;33m\u001b[0m\u001b[0m\n\u001b[1;32m--> 134\u001b[1;33m                     \u001b[1;32mraise\u001b[0m \u001b[0mValueError\u001b[0m\u001b[1;33m(\u001b[0m\u001b[0mna_msg\u001b[0m\u001b[1;33m)\u001b[0m\u001b[1;33m\u001b[0m\u001b[1;33m\u001b[0m\u001b[0m\n\u001b[0m\u001b[0;32m    135\u001b[0m                 \u001b[1;32mreturn\u001b[0m \u001b[1;32mFalse\u001b[0m\u001b[1;33m\u001b[0m\u001b[1;33m\u001b[0m\u001b[0m\n\u001b[0;32m    136\u001b[0m             \u001b[1;32mreturn\u001b[0m \u001b[1;32mTrue\u001b[0m\u001b[1;33m\u001b[0m\u001b[1;33m\u001b[0m\u001b[0m\n",
      "\u001b[1;31mValueError\u001b[0m: Cannot mask with non-boolean array containing NA / NaN values"
     ]
    }
   ],
   "source": [
    "toronto_borough = neighborhoods[neighborhoods['Borough'].str.contains('Toronto')]\n",
    "toronto_borough.reset_index(drop=True, inplace=True)\n",
    "toronto_borough.head()"
   ]
  },
  {
   "cell_type": "code",
   "execution_count": null,
   "metadata": {},
   "outputs": [],
   "source": [
    "map_to = generate_map(toronto_borough, longitude, latitude)\n",
    "map_to"
   ]
  },
  {
   "cell_type": "markdown",
   "metadata": {},
   "source": [
    "![Map of Toronto Boroughs](./images/toronto_boroughs.PNG)"
   ]
  },
  {
   "cell_type": "code",
   "execution_count": null,
   "metadata": {},
   "outputs": [],
   "source": [
    "# @hidden_cell\n",
    "# FOURSQUARE API CREDENTIALS\n",
    "CLIENT_ID = '5N1I2ZBKG55NFLJQELOZI3XTLBUXXCF3FKTJQSZ2WXPZBWR5' # your Foursquare ID\n",
    "CLIENT_SECRET = 'P5MPRQBUI4MRPYUYQHFHDT0CWEF3D3U1WTKBGKGTK0VXAIBU' # your Foursquare Secret\n",
    "VERSION = '20180605' # Foursquare API version"
   ]
  },
  {
   "cell_type": "markdown",
   "metadata": {},
   "source": [
    "## Lets ask FourSquare for the venues around our first Borough"
   ]
  },
  {
   "cell_type": "code",
   "execution_count": null,
   "metadata": {},
   "outputs": [],
   "source": [
    "neighborhood_latitude = toronto_borough.loc[0, 'Latitude'] # neighborhood latitude value\n",
    "neighborhood_longitude = toronto_borough.loc[0, 'Longitude'] # neighborhood longitude value\n",
    "\n",
    "neighborhood_name = toronto_borough.loc[0, 'Neighborhood'] # neighborhood name\n",
    "\n",
    "print('Latitude and longitude values of {} are {}, {}.'.format(neighborhood_name, \n",
    "                                                               neighborhood_latitude, \n",
    "                                                               neighborhood_longitude))"
   ]
  },
  {
   "cell_type": "code",
   "execution_count": null,
   "metadata": {},
   "outputs": [],
   "source": [
    "LIMIT = 100 # limit of number of venues returned by Foursquare API\n",
    "radius = 500 # define radius\n",
    "\n",
    "# create URL\n",
    "url = 'https://api.foursquare.com/v2/venues/explore?&client_id={}&client_secret={}&v={}&ll={},{}&radius={}&limit={}'.format(\n",
    "    CLIENT_ID, \n",
    "    CLIENT_SECRET, \n",
    "    VERSION, \n",
    "    neighborhood_latitude, \n",
    "    neighborhood_longitude, \n",
    "    radius, \n",
    "    LIMIT)\n",
    "url # display URL"
   ]
  },
  {
   "cell_type": "code",
   "execution_count": null,
   "metadata": {},
   "outputs": [],
   "source": [
    "results = requests.get(url).json()\n",
    "results"
   ]
  },
  {
   "cell_type": "code",
   "execution_count": null,
   "metadata": {},
   "outputs": [],
   "source": [
    "# function that extracts the category of the venue\n",
    "def get_category_type(row):\n",
    "    try:\n",
    "        categories_list = row['categories']\n",
    "    except:\n",
    "        categories_list = row['venue.categories']\n",
    "        \n",
    "    if len(categories_list) == 0:\n",
    "        return None\n",
    "    else:\n",
    "        return categories_list[0]['name']"
   ]
  },
  {
   "cell_type": "code",
   "execution_count": null,
   "metadata": {},
   "outputs": [],
   "source": [
    "venues = results['response']['groups'][0]['items']\n",
    "    \n",
    "nearby_venues = json_normalize(venues) # flatten JSON\n",
    "\n",
    "# filter columns\n",
    "filtered_columns = ['venue.name', 'venue.categories', 'venue.location.lat', 'venue.location.lng']\n",
    "nearby_venues =nearby_venues.loc[:, filtered_columns]\n",
    "\n",
    "# filter the category for each row\n",
    "nearby_venues['venue.categories'] = nearby_venues.apply(get_category_type, axis=1)\n",
    "\n",
    "# clean columns\n",
    "nearby_venues.columns = [col.split(\".\")[-1] for col in nearby_venues.columns]\n",
    "\n",
    "nearby_venues.head()"
   ]
  },
  {
   "cell_type": "markdown",
   "metadata": {},
   "source": [
    "## Nice. Now we can use a function to get venues for all of our neighborhoods"
   ]
  },
  {
   "cell_type": "code",
   "execution_count": null,
   "metadata": {},
   "outputs": [],
   "source": [
    "def getNearbyVenues(names, latitudes, longitudes, radius=1000):\n",
    "    \n",
    "    venues_list=[]\n",
    "    for name, lat, lng in zip(names, latitudes, longitudes):\n",
    "        print(name)\n",
    "            \n",
    "        # create the API request URL\n",
    "        url = 'https://api.foursquare.com/v2/venues/explore?&client_id={}&client_secret={}&v={}&ll={},{}&radius={}&limit={}'.format(\n",
    "            CLIENT_ID, \n",
    "            CLIENT_SECRET, \n",
    "            VERSION, \n",
    "            lat, \n",
    "            lng, \n",
    "            radius, \n",
    "            LIMIT)\n",
    "            \n",
    "        # make the GET request\n",
    "        results = requests.get(url).json()[\"response\"]['groups'][0]['items']\n",
    "        \n",
    "        # return only relevant information for each nearby venue\n",
    "        venues_list.append([(\n",
    "            name, \n",
    "            lat, \n",
    "            lng, \n",
    "            v['venue']['name'], \n",
    "            v['venue']['location']['lat'], \n",
    "            v['venue']['location']['lng'],  \n",
    "            v['venue']['categories'][0]['name']) for v in results])\n",
    "\n",
    "    nearby_venues = pd.DataFrame([item for venue_list in venues_list for item in venue_list])\n",
    "    nearby_venues.columns = ['Neighborhood', \n",
    "                  'Neighborhood Latitude', \n",
    "                  'Neighborhood Longitude', \n",
    "                  'Venue', \n",
    "                  'Venue Latitude', \n",
    "                  'Venue Longitude', \n",
    "                  'Venue Category']\n",
    "    \n",
    "    return(nearby_venues)"
   ]
  },
  {
   "cell_type": "code",
   "execution_count": null,
   "metadata": {},
   "outputs": [],
   "source": [
    "toronto_venues = getNearbyVenues(names=toronto_borough['Neighborhood'],\n",
    "                                   latitudes=toronto_borough['Latitude'],\n",
    "                                   longitudes=toronto_borough['Longitude']\n",
    "                                  )"
   ]
  },
  {
   "cell_type": "code",
   "execution_count": null,
   "metadata": {},
   "outputs": [],
   "source": [
    "print(toronto_venues.shape)\n",
    "toronto_venues.head()"
   ]
  },
  {
   "cell_type": "code",
   "execution_count": null,
   "metadata": {},
   "outputs": [],
   "source": [
    "toronto_venues.groupby('Neighborhood').count()"
   ]
  },
  {
   "cell_type": "code",
   "execution_count": null,
   "metadata": {},
   "outputs": [],
   "source": [
    "print('There are {} unique categories.'.format(len(toronto_venues['Venue Category'].unique())))"
   ]
  },
  {
   "cell_type": "code",
   "execution_count": null,
   "metadata": {},
   "outputs": [],
   "source": [
    "# one hot encoding\n",
    "toronto_onehot = pd.get_dummies(toronto_venues[['Venue Category']], prefix=\"\", prefix_sep=\"\")\n",
    "\n",
    "# add neighborhood column back to dataframe\n",
    "toronto_onehot['Neighborhood'] = toronto_venues['Neighborhood'] \n",
    "\n",
    "# move neighborhood column to the first column\n",
    "fixed_columns = [toronto_onehot.columns[-1]] + list(toronto_onehot.columns[:-1])\n",
    "toronto_onehot = toronto_onehot[fixed_columns]\n",
    "\n",
    "print(toronto_onehot.shape)\n",
    "toronto_onehot.head()"
   ]
  },
  {
   "cell_type": "markdown",
   "metadata": {},
   "source": [
    "## Lets get the most common venues per neighborhood"
   ]
  },
  {
   "cell_type": "code",
   "execution_count": null,
   "metadata": {
    "scrolled": false
   },
   "outputs": [],
   "source": [
    "toronto_grouped = toronto_onehot.groupby('Neighborhood').mean().reset_index()\n",
    "print(toronto_grouped.shape)\n",
    "toronto_grouped"
   ]
  },
  {
   "cell_type": "code",
   "execution_count": null,
   "metadata": {},
   "outputs": [],
   "source": [
    "def return_most_common_venues(row, num_top_venues):\n",
    "    row_categories = row.iloc[1:]\n",
    "    row_categories_sorted = row_categories.sort_values(ascending=False)\n",
    "    \n",
    "    return row_categories_sorted.index.values[0:num_top_venues]"
   ]
  },
  {
   "cell_type": "code",
   "execution_count": null,
   "metadata": {},
   "outputs": [],
   "source": [
    "import numpy as np"
   ]
  },
  {
   "cell_type": "code",
   "execution_count": null,
   "metadata": {},
   "outputs": [],
   "source": [
    "num_top_venues = 10\n",
    "\n",
    "indicators = ['st', 'nd', 'rd']\n",
    "\n",
    "# create columns according to number of top venues\n",
    "columns = ['Neighborhood']\n",
    "for ind in np.arange(num_top_venues):\n",
    "    try:\n",
    "        columns.append('{}{} Most Common Venue'.format(ind+1, indicators[ind]))\n",
    "    except:\n",
    "        columns.append('{}th Most Common Venue'.format(ind+1))\n",
    "\n",
    "# create a new dataframe\n",
    "neighborhoods_venues_sorted = pd.DataFrame(columns=columns)\n",
    "neighborhoods_venues_sorted['Neighborhood'] = toronto_grouped['Neighborhood']\n",
    "\n",
    "for ind in np.arange(toronto_grouped.shape[0]):\n",
    "    neighborhoods_venues_sorted.iloc[ind, 1:] = return_most_common_venues(toronto_grouped.iloc[ind, :], num_top_venues)\n",
    "\n",
    "neighborhoods_venues_sorted.head()"
   ]
  },
  {
   "cell_type": "markdown",
   "metadata": {},
   "source": [
    "### Now that we have some venues for each neighborhood, lets try and cluster them"
   ]
  },
  {
   "cell_type": "code",
   "execution_count": null,
   "metadata": {},
   "outputs": [],
   "source": [
    "# set number of clusters\n",
    "kclusters = 5\n",
    "\n",
    "toronto_grouped_clustering = toronto_grouped.drop('Neighborhood', 1)\n",
    "\n",
    "# run k-means clustering\n",
    "kmeans = KMeans(n_clusters=kclusters, random_state=0).fit(toronto_grouped_clustering)\n",
    "\n",
    "# check cluster labels generated for each row in the dataframe\n",
    "kmeans.labels_[0:10] "
   ]
  },
  {
   "cell_type": "code",
   "execution_count": null,
   "metadata": {},
   "outputs": [],
   "source": [
    "# add clustering labels\n",
    "neighborhoods_venues_sorted.insert(0, 'Cluster Labels', kmeans.labels_)\n",
    "\n",
    "toronto_merged = toronto_borough\n",
    "\n",
    "# merge toronto_grouped with toronto_data to add latitude/longitude for each neighborhood\n",
    "toronto_merged = toronto_merged.join(neighborhoods_venues_sorted.set_index('Neighborhood'), on='Neighborhood')\n",
    "\n",
    "toronto_merged.head()"
   ]
  },
  {
   "cell_type": "code",
   "execution_count": null,
   "metadata": {},
   "outputs": [],
   "source": [
    "# create map\n",
    "map_clusters = folium.Map(location=[latitude, longitude], zoom_start=11)\n",
    "\n",
    "# set color scheme for the clusters\n",
    "x = np.arange(kclusters)\n",
    "ys = [i + x + (i*x)**2 for i in range(kclusters)]\n",
    "colors_array = cm.rainbow(np.linspace(0, 1, len(ys)))\n",
    "rainbow = [colors.rgb2hex(i) for i in colors_array]\n",
    "\n",
    "# add markers to the map\n",
    "markers_colors = []\n",
    "for lat, lon, poi, cluster in zip(toronto_merged['Latitude'], toronto_merged['Longitude'], toronto_merged['Neighborhood'], toronto_merged['Cluster Labels']):\n",
    "    label = folium.Popup(str(poi) + ' Cluster ' + str(cluster), parse_html=True)\n",
    "    folium.CircleMarker(\n",
    "        [lat, lon],\n",
    "        radius=5,\n",
    "        popup=label,\n",
    "        color=rainbow[cluster-1],\n",
    "        fill=True,\n",
    "        fill_color=rainbow[cluster-1],\n",
    "        fill_opacity=0.7).add_to(map_clusters)\n",
    "       \n",
    "map_clusters"
   ]
  },
  {
   "cell_type": "markdown",
   "metadata": {},
   "source": [
    "![Map of Toronto Boroughs Clustered by Venue Type](./images/k-means_clustered_boroughs.PNG)"
   ]
  },
  {
   "cell_type": "markdown",
   "metadata": {},
   "source": [
    "## Now we can see what the clusters represent..."
   ]
  },
  {
   "cell_type": "markdown",
   "metadata": {},
   "source": [
    "### Cluster 1: Edge of Toronto Restaurants & Drinks"
   ]
  },
  {
   "cell_type": "code",
   "execution_count": null,
   "metadata": {},
   "outputs": [],
   "source": [
    "toronto_merged.loc[toronto_merged['Cluster Labels'] == 0, toronto_merged.columns[[1] + list(range(5, toronto_merged.shape[1]))]]"
   ]
  },
  {
   "cell_type": "markdown",
   "metadata": {},
   "source": [
    "### Cluster 1: Downtown/Midtown Restuarants & Drinks"
   ]
  },
  {
   "cell_type": "code",
   "execution_count": null,
   "metadata": {},
   "outputs": [],
   "source": [
    "toronto_merged.loc[toronto_merged['Cluster Labels'] == 1, toronto_merged.columns[[1] + list(range(5, toronto_merged.shape[1]))]]"
   ]
  },
  {
   "cell_type": "markdown",
   "metadata": {},
   "source": [
    "### Cluster 2: Student Ammenities"
   ]
  },
  {
   "cell_type": "code",
   "execution_count": null,
   "metadata": {},
   "outputs": [],
   "source": [
    "toronto_merged.loc[toronto_merged['Cluster Labels'] == 2, toronto_merged.columns[[1] + list(range(5, toronto_merged.shape[1]))]]"
   ]
  },
  {
   "cell_type": "markdown",
   "metadata": {},
   "source": [
    "### Cluster 3: Nature & Scenery"
   ]
  },
  {
   "cell_type": "code",
   "execution_count": null,
   "metadata": {},
   "outputs": [],
   "source": [
    "toronto_merged.loc[toronto_merged['Cluster Labels'] == 3, toronto_merged.columns[[1] + list(range(5, toronto_merged.shape[1]))]]"
   ]
  },
  {
   "cell_type": "markdown",
   "metadata": {},
   "source": [
    "### Cluster 4: Rosedale"
   ]
  },
  {
   "cell_type": "code",
   "execution_count": null,
   "metadata": {},
   "outputs": [],
   "source": [
    "toronto_merged.loc[toronto_merged['Cluster Labels'] == 4, toronto_merged.columns[[1] + list(range(5, toronto_merged.shape[1]))]]"
   ]
  },
  {
   "cell_type": "markdown",
   "metadata": {},
   "source": [
    "## Save to CSV"
   ]
  },
  {
   "cell_type": "code",
   "execution_count": null,
   "metadata": {},
   "outputs": [],
   "source": [
    "# Save to CSV File\n",
    "toronto_merged.to_csv(\"toronto_merged.csv\")"
   ]
  }
 ],
 "metadata": {
  "kernelspec": {
   "display_name": "Python 3",
   "language": "python",
   "name": "python3"
  },
  "language_info": {
   "codemirror_mode": {
    "name": "ipython",
    "version": 3
   },
   "file_extension": ".py",
   "mimetype": "text/x-python",
   "name": "python",
   "nbconvert_exporter": "python",
   "pygments_lexer": "ipython3",
   "version": "3.8.2"
  }
 },
 "nbformat": 4,
 "nbformat_minor": 2
}
